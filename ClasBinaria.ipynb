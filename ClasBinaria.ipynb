{
  "nbformat": 4,
  "nbformat_minor": 0,
  "metadata": {
    "colab": {
      "name": "ClasBinaria.ipynb",
      "provenance": [],
      "authorship_tag": "ABX9TyPjuYc2Igg8FWGSBwonTy4K",
      "include_colab_link": true
    },
    "kernelspec": {
      "name": "python3",
      "display_name": "Python 3"
    },
    "language_info": {
      "name": "python"
    },
    "accelerator": "GPU"
  },
  "cells": [
    {
      "cell_type": "markdown",
      "metadata": {
        "id": "view-in-github",
        "colab_type": "text"
      },
      "source": [
        "<a href=\"https://colab.research.google.com/github/anamunoz01/PROYECTO-INTEGRADOR-III/blob/main/ClasBinaria.ipynb\" target=\"_parent\"><img src=\"https://colab.research.google.com/assets/colab-badge.svg\" alt=\"Open In Colab\"/></a>"
      ]
    },
    {
      "cell_type": "markdown",
      "source": [
        "#**MODELO PREDICTIVO DE ATAQUES AL CORAZÓN CON REDES NEURONALES** \n",
        "\n",
        "**Proyecto Integrador III**\n",
        "\n",
        "- Elena Gómez\n",
        "\n",
        "- Ana Muñoz\n",
        "\n",
        "- Inés Sánchez\n",
        "\n",
        "- Miriam Toledo\n"
      ],
      "metadata": {
        "id": "jDKv23TfLEqS"
      }
    },
    {
      "cell_type": "markdown",
      "source": [
        "## **Objetivo**\n",
        "\n",
        "Vamos a predecir la posibilidad de sufrir un ataque al corazón dependiendo de diferentes características relacionadas con la salud del paciente.  \n",
        "\n",
        "Para ello creamos un modelo de clasificación binaria, con el que obtendremos una salida que será 0 o 1.\n",
        "- 0 significará que la probabilidad de sufrir un ataque al corazón es muy baja.\n",
        "-1 será el caso contrario, es decir, que la probabilidad es alta.\n",
        "\n",
        "La base de datos que utilizaremos la encontramos en kaggle.com, como Health care: Heart attack possibility. \n",
        "\n",
        "Las características que vamos a estudiar son las siguientes:\n",
        "1. Edad\n",
        "2. Sexo\n",
        "3. Tipo de dolor de pecho (4 tipos)\n",
        "4. Presión en sangre\n",
        "5. Colesterol en mg/dl\n",
        "6. Azúcar en sangre > 120 mg/dl\n",
        "7. Resultado electrocardiograma (valores 0, 1, 2)\n",
        "8. Frecuencia cardiaca máxima alcanzada\n",
        "9. Angina de pecho (inducida por el ejercicio)\n",
        "10. Depresión del ST inducida por el ejercicio en relación con el reposo\n",
        "11. La pendiente del segmento ST máximo del ejercicio\n",
        "12. Número de vasos mayores (0-3) coloreados por la fluoroscopia\n",
        "13. thal: 0 = normal; 1 = defecto fijo; 2 = defecto reversible\n",
        "14. objetivo: 0= menos posibilidades de infarto 1= más posibilidades de infarto"
      ],
      "metadata": {
        "id": "6LOv1usqMJo7"
      }
    },
    {
      "cell_type": "markdown",
      "source": [
        "## **Estudio y análisis de datos**"
      ],
      "metadata": {
        "id": "6Gge8PKmNX6H"
      }
    },
    {
      "cell_type": "code",
      "source": [
        "import keras\n",
        "keras.__version__"
      ],
      "metadata": {
        "colab": {
          "base_uri": "https://localhost:8080/",
          "height": 35
        },
        "id": "6w8hfdx3Nb0O",
        "outputId": "6326a0c6-e403-4c76-9935-9b365b0fe2da"
      },
      "execution_count": 60,
      "outputs": [
        {
          "output_type": "execute_result",
          "data": {
            "text/plain": [
              "'2.8.0'"
            ],
            "application/vnd.google.colaboratory.intrinsic+json": {
              "type": "string"
            }
          },
          "metadata": {},
          "execution_count": 60
        }
      ]
    },
    {
      "cell_type": "code",
      "source": [
        "import pandas as pd\n",
        "import numpy as np\n",
        "\n",
        "df = pd.read_excel('dataset heart attack.xlsx')\n"
      ],
      "metadata": {
        "id": "bs_Dcta2Spp1"
      },
      "execution_count": 61,
      "outputs": []
    },
    {
      "cell_type": "code",
      "source": [
        "df"
      ],
      "metadata": {
        "colab": {
          "base_uri": "https://localhost:8080/",
          "height": 424
        },
        "id": "DIwvznkOTpAc",
        "outputId": "c20c107c-f276-4d63-ff72-dbed1c7ec151"
      },
      "execution_count": 62,
      "outputs": [
        {
          "output_type": "execute_result",
          "data": {
            "text/plain": [
              "     age  sex  cp  trestbps  chol  fbs  restecg  thalach  exang  oldpeak  \\\n",
              "0     63    1   3       145   233    1        0      150      0      2.3   \n",
              "1     37    1   2       130   250    0        1      187      0      3.5   \n",
              "2     41    0   1       130   204    0        0      172      0      1.4   \n",
              "3     56    1   1       120   236    0        1      178      0      0.8   \n",
              "4     57    0   0       120   354    0        1      163      1      0.6   \n",
              "..   ...  ...  ..       ...   ...  ...      ...      ...    ...      ...   \n",
              "298   57    0   0       140   241    0        1      123      1      0.2   \n",
              "299   45    1   3       110   264    0        1      132      0      1.2   \n",
              "300   68    1   0       144   193    1        1      141      0      3.4   \n",
              "301   57    1   0       130   131    0        1      115      1      1.2   \n",
              "302   57    0   1       130   236    0        0      174      0      0.0   \n",
              "\n",
              "     slope  ca  thal  target  \n",
              "0        0   0     1       1  \n",
              "1        0   0     2       1  \n",
              "2        2   0     2       1  \n",
              "3        2   0     2       1  \n",
              "4        2   0     2       1  \n",
              "..     ...  ..   ...     ...  \n",
              "298      1   0     3       0  \n",
              "299      1   0     3       0  \n",
              "300      1   2     3       0  \n",
              "301      1   1     3       0  \n",
              "302      1   1     2       0  \n",
              "\n",
              "[303 rows x 14 columns]"
            ],
            "text/html": [
              "\n",
              "  <div id=\"df-9727ec14-3c05-42dd-b55c-6dae1925ef5c\">\n",
              "    <div class=\"colab-df-container\">\n",
              "      <div>\n",
              "<style scoped>\n",
              "    .dataframe tbody tr th:only-of-type {\n",
              "        vertical-align: middle;\n",
              "    }\n",
              "\n",
              "    .dataframe tbody tr th {\n",
              "        vertical-align: top;\n",
              "    }\n",
              "\n",
              "    .dataframe thead th {\n",
              "        text-align: right;\n",
              "    }\n",
              "</style>\n",
              "<table border=\"1\" class=\"dataframe\">\n",
              "  <thead>\n",
              "    <tr style=\"text-align: right;\">\n",
              "      <th></th>\n",
              "      <th>age</th>\n",
              "      <th>sex</th>\n",
              "      <th>cp</th>\n",
              "      <th>trestbps</th>\n",
              "      <th>chol</th>\n",
              "      <th>fbs</th>\n",
              "      <th>restecg</th>\n",
              "      <th>thalach</th>\n",
              "      <th>exang</th>\n",
              "      <th>oldpeak</th>\n",
              "      <th>slope</th>\n",
              "      <th>ca</th>\n",
              "      <th>thal</th>\n",
              "      <th>target</th>\n",
              "    </tr>\n",
              "  </thead>\n",
              "  <tbody>\n",
              "    <tr>\n",
              "      <th>0</th>\n",
              "      <td>63</td>\n",
              "      <td>1</td>\n",
              "      <td>3</td>\n",
              "      <td>145</td>\n",
              "      <td>233</td>\n",
              "      <td>1</td>\n",
              "      <td>0</td>\n",
              "      <td>150</td>\n",
              "      <td>0</td>\n",
              "      <td>2.3</td>\n",
              "      <td>0</td>\n",
              "      <td>0</td>\n",
              "      <td>1</td>\n",
              "      <td>1</td>\n",
              "    </tr>\n",
              "    <tr>\n",
              "      <th>1</th>\n",
              "      <td>37</td>\n",
              "      <td>1</td>\n",
              "      <td>2</td>\n",
              "      <td>130</td>\n",
              "      <td>250</td>\n",
              "      <td>0</td>\n",
              "      <td>1</td>\n",
              "      <td>187</td>\n",
              "      <td>0</td>\n",
              "      <td>3.5</td>\n",
              "      <td>0</td>\n",
              "      <td>0</td>\n",
              "      <td>2</td>\n",
              "      <td>1</td>\n",
              "    </tr>\n",
              "    <tr>\n",
              "      <th>2</th>\n",
              "      <td>41</td>\n",
              "      <td>0</td>\n",
              "      <td>1</td>\n",
              "      <td>130</td>\n",
              "      <td>204</td>\n",
              "      <td>0</td>\n",
              "      <td>0</td>\n",
              "      <td>172</td>\n",
              "      <td>0</td>\n",
              "      <td>1.4</td>\n",
              "      <td>2</td>\n",
              "      <td>0</td>\n",
              "      <td>2</td>\n",
              "      <td>1</td>\n",
              "    </tr>\n",
              "    <tr>\n",
              "      <th>3</th>\n",
              "      <td>56</td>\n",
              "      <td>1</td>\n",
              "      <td>1</td>\n",
              "      <td>120</td>\n",
              "      <td>236</td>\n",
              "      <td>0</td>\n",
              "      <td>1</td>\n",
              "      <td>178</td>\n",
              "      <td>0</td>\n",
              "      <td>0.8</td>\n",
              "      <td>2</td>\n",
              "      <td>0</td>\n",
              "      <td>2</td>\n",
              "      <td>1</td>\n",
              "    </tr>\n",
              "    <tr>\n",
              "      <th>4</th>\n",
              "      <td>57</td>\n",
              "      <td>0</td>\n",
              "      <td>0</td>\n",
              "      <td>120</td>\n",
              "      <td>354</td>\n",
              "      <td>0</td>\n",
              "      <td>1</td>\n",
              "      <td>163</td>\n",
              "      <td>1</td>\n",
              "      <td>0.6</td>\n",
              "      <td>2</td>\n",
              "      <td>0</td>\n",
              "      <td>2</td>\n",
              "      <td>1</td>\n",
              "    </tr>\n",
              "    <tr>\n",
              "      <th>...</th>\n",
              "      <td>...</td>\n",
              "      <td>...</td>\n",
              "      <td>...</td>\n",
              "      <td>...</td>\n",
              "      <td>...</td>\n",
              "      <td>...</td>\n",
              "      <td>...</td>\n",
              "      <td>...</td>\n",
              "      <td>...</td>\n",
              "      <td>...</td>\n",
              "      <td>...</td>\n",
              "      <td>...</td>\n",
              "      <td>...</td>\n",
              "      <td>...</td>\n",
              "    </tr>\n",
              "    <tr>\n",
              "      <th>298</th>\n",
              "      <td>57</td>\n",
              "      <td>0</td>\n",
              "      <td>0</td>\n",
              "      <td>140</td>\n",
              "      <td>241</td>\n",
              "      <td>0</td>\n",
              "      <td>1</td>\n",
              "      <td>123</td>\n",
              "      <td>1</td>\n",
              "      <td>0.2</td>\n",
              "      <td>1</td>\n",
              "      <td>0</td>\n",
              "      <td>3</td>\n",
              "      <td>0</td>\n",
              "    </tr>\n",
              "    <tr>\n",
              "      <th>299</th>\n",
              "      <td>45</td>\n",
              "      <td>1</td>\n",
              "      <td>3</td>\n",
              "      <td>110</td>\n",
              "      <td>264</td>\n",
              "      <td>0</td>\n",
              "      <td>1</td>\n",
              "      <td>132</td>\n",
              "      <td>0</td>\n",
              "      <td>1.2</td>\n",
              "      <td>1</td>\n",
              "      <td>0</td>\n",
              "      <td>3</td>\n",
              "      <td>0</td>\n",
              "    </tr>\n",
              "    <tr>\n",
              "      <th>300</th>\n",
              "      <td>68</td>\n",
              "      <td>1</td>\n",
              "      <td>0</td>\n",
              "      <td>144</td>\n",
              "      <td>193</td>\n",
              "      <td>1</td>\n",
              "      <td>1</td>\n",
              "      <td>141</td>\n",
              "      <td>0</td>\n",
              "      <td>3.4</td>\n",
              "      <td>1</td>\n",
              "      <td>2</td>\n",
              "      <td>3</td>\n",
              "      <td>0</td>\n",
              "    </tr>\n",
              "    <tr>\n",
              "      <th>301</th>\n",
              "      <td>57</td>\n",
              "      <td>1</td>\n",
              "      <td>0</td>\n",
              "      <td>130</td>\n",
              "      <td>131</td>\n",
              "      <td>0</td>\n",
              "      <td>1</td>\n",
              "      <td>115</td>\n",
              "      <td>1</td>\n",
              "      <td>1.2</td>\n",
              "      <td>1</td>\n",
              "      <td>1</td>\n",
              "      <td>3</td>\n",
              "      <td>0</td>\n",
              "    </tr>\n",
              "    <tr>\n",
              "      <th>302</th>\n",
              "      <td>57</td>\n",
              "      <td>0</td>\n",
              "      <td>1</td>\n",
              "      <td>130</td>\n",
              "      <td>236</td>\n",
              "      <td>0</td>\n",
              "      <td>0</td>\n",
              "      <td>174</td>\n",
              "      <td>0</td>\n",
              "      <td>0.0</td>\n",
              "      <td>1</td>\n",
              "      <td>1</td>\n",
              "      <td>2</td>\n",
              "      <td>0</td>\n",
              "    </tr>\n",
              "  </tbody>\n",
              "</table>\n",
              "<p>303 rows × 14 columns</p>\n",
              "</div>\n",
              "      <button class=\"colab-df-convert\" onclick=\"convertToInteractive('df-9727ec14-3c05-42dd-b55c-6dae1925ef5c')\"\n",
              "              title=\"Convert this dataframe to an interactive table.\"\n",
              "              style=\"display:none;\">\n",
              "        \n",
              "  <svg xmlns=\"http://www.w3.org/2000/svg\" height=\"24px\"viewBox=\"0 0 24 24\"\n",
              "       width=\"24px\">\n",
              "    <path d=\"M0 0h24v24H0V0z\" fill=\"none\"/>\n",
              "    <path d=\"M18.56 5.44l.94 2.06.94-2.06 2.06-.94-2.06-.94-.94-2.06-.94 2.06-2.06.94zm-11 1L8.5 8.5l.94-2.06 2.06-.94-2.06-.94L8.5 2.5l-.94 2.06-2.06.94zm10 10l.94 2.06.94-2.06 2.06-.94-2.06-.94-.94-2.06-.94 2.06-2.06.94z\"/><path d=\"M17.41 7.96l-1.37-1.37c-.4-.4-.92-.59-1.43-.59-.52 0-1.04.2-1.43.59L10.3 9.45l-7.72 7.72c-.78.78-.78 2.05 0 2.83L4 21.41c.39.39.9.59 1.41.59.51 0 1.02-.2 1.41-.59l7.78-7.78 2.81-2.81c.8-.78.8-2.07 0-2.86zM5.41 20L4 18.59l7.72-7.72 1.47 1.35L5.41 20z\"/>\n",
              "  </svg>\n",
              "      </button>\n",
              "      \n",
              "  <style>\n",
              "    .colab-df-container {\n",
              "      display:flex;\n",
              "      flex-wrap:wrap;\n",
              "      gap: 12px;\n",
              "    }\n",
              "\n",
              "    .colab-df-convert {\n",
              "      background-color: #E8F0FE;\n",
              "      border: none;\n",
              "      border-radius: 50%;\n",
              "      cursor: pointer;\n",
              "      display: none;\n",
              "      fill: #1967D2;\n",
              "      height: 32px;\n",
              "      padding: 0 0 0 0;\n",
              "      width: 32px;\n",
              "    }\n",
              "\n",
              "    .colab-df-convert:hover {\n",
              "      background-color: #E2EBFA;\n",
              "      box-shadow: 0px 1px 2px rgba(60, 64, 67, 0.3), 0px 1px 3px 1px rgba(60, 64, 67, 0.15);\n",
              "      fill: #174EA6;\n",
              "    }\n",
              "\n",
              "    [theme=dark] .colab-df-convert {\n",
              "      background-color: #3B4455;\n",
              "      fill: #D2E3FC;\n",
              "    }\n",
              "\n",
              "    [theme=dark] .colab-df-convert:hover {\n",
              "      background-color: #434B5C;\n",
              "      box-shadow: 0px 1px 3px 1px rgba(0, 0, 0, 0.15);\n",
              "      filter: drop-shadow(0px 1px 2px rgba(0, 0, 0, 0.3));\n",
              "      fill: #FFFFFF;\n",
              "    }\n",
              "  </style>\n",
              "\n",
              "      <script>\n",
              "        const buttonEl =\n",
              "          document.querySelector('#df-9727ec14-3c05-42dd-b55c-6dae1925ef5c button.colab-df-convert');\n",
              "        buttonEl.style.display =\n",
              "          google.colab.kernel.accessAllowed ? 'block' : 'none';\n",
              "\n",
              "        async function convertToInteractive(key) {\n",
              "          const element = document.querySelector('#df-9727ec14-3c05-42dd-b55c-6dae1925ef5c');\n",
              "          const dataTable =\n",
              "            await google.colab.kernel.invokeFunction('convertToInteractive',\n",
              "                                                     [key], {});\n",
              "          if (!dataTable) return;\n",
              "\n",
              "          const docLinkHtml = 'Like what you see? Visit the ' +\n",
              "            '<a target=\"_blank\" href=https://colab.research.google.com/notebooks/data_table.ipynb>data table notebook</a>'\n",
              "            + ' to learn more about interactive tables.';\n",
              "          element.innerHTML = '';\n",
              "          dataTable['output_type'] = 'display_data';\n",
              "          await google.colab.output.renderOutput(dataTable, element);\n",
              "          const docLink = document.createElement('div');\n",
              "          docLink.innerHTML = docLinkHtml;\n",
              "          element.appendChild(docLink);\n",
              "        }\n",
              "      </script>\n",
              "    </div>\n",
              "  </div>\n",
              "  "
            ]
          },
          "metadata": {},
          "execution_count": 62
        }
      ]
    },
    {
      "cell_type": "markdown",
      "source": [
        "GRAFICAS"
      ],
      "metadata": {
        "id": "que6kK2Nuv0O"
      }
    },
    {
      "cell_type": "code",
      "source": [
        "import matplotlib.pyplot as plt\n",
        "%matplotlib inline"
      ],
      "metadata": {
        "id": "AjDPaFprvUfG"
      },
      "execution_count": 63,
      "outputs": []
    },
    {
      "cell_type": "code",
      "source": [
        "x = df['sex'].value_counts()\n",
        "grupos = pd.unique(df['sex']) \n",
        "\n",
        "fig = plt.figure(figsize =(6, 6))\n",
        "plt.pie(x, labels = grupos, colors = ['mediumseagreen', 'lightgreen'], autopct='%1.0f%%')\n",
        "plt.title('Género')\n",
        "plt.show()"
      ],
      "metadata": {
        "colab": {
          "base_uri": "https://localhost:8080/",
          "height": 373
        },
        "id": "okUW3ZZ5W14n",
        "outputId": "0d69c8f1-919b-4cbb-e612-3cfd182c4423"
      },
      "execution_count": 64,
      "outputs": [
        {
          "output_type": "display_data",
          "data": {
            "text/plain": [
              "<Figure size 432x432 with 1 Axes>"
            ],
            "image/png": "[encoded data removed]"
          },
          "metadata": {}
        }
      ]
    },
    {
      "cell_type": "code",
      "source": [
        "x = df['age'].value_counts()\n",
        "grupos = pd.unique(df['age']) \n",
        "\n",
        "fig = plt.figure(figsize =(6, 6))\n",
        "plt.pie(x, labels = grupos, autopct='%1.0f%%')\n",
        "plt.title('Edad')\n",
        "plt.show()"
      ],
      "metadata": {
        "id": "awZQNjtk1sqT",
        "outputId": "e27a390f-d574-4adc-f2fc-19613c1214a2",
        "colab": {
          "base_uri": "https://localhost:8080/",
          "height": 373
        }
      },
      "execution_count": 65,
      "outputs": [
        {
          "output_type": "display_data",
          "data": {
            "text/plain": [
              "<Figure size 432x432 with 1 Axes>"
            ],
            "image/png": "[encoded data removed]"
          },
          "metadata": {}
        }
      ]
    },
    {
      "cell_type": "code",
      "source": [
        "grupos = ['Angina Típica', 'Angina Atípica', 'Dolor no anginoso', 'Asintomático']\n",
        "x = df['cp'].value_counts()\n",
        "\n",
        "fig = plt.figure(figsize =(6, 6))\n",
        "plt.pie(x, labels = grupos, autopct='%1.0f%%')\n",
        "plt.title('CP (Chest Pain)')\n",
        "plt.show()"
      ],
      "metadata": {
        "colab": {
          "base_uri": "https://localhost:8080/",
          "height": 373
        },
        "id": "NeuvWDNmdv9e",
        "outputId": "b15330bd-88a5-4cbb-8b2c-67afa40387f9"
      },
      "execution_count": 66,
      "outputs": [
        {
          "output_type": "display_data",
          "data": {
            "text/plain": [
              "<Figure size 432x432 with 1 Axes>"
            ],
            "image/png": "[encoded data removed]"
          },
          "metadata": {}
        }
      ]
    },
    {
      "cell_type": "code",
      "source": [
        "grupos = ['>120', '<120']\n",
        "data = [ 45, 258]\n",
        "fig = plt.figure(figsize =(10, 7))\n",
        "plt.pie(data, labels = grupos)\n",
        "plt.title('fbs(Fasting Blood Sugar)')\n",
        "plt.show()"
      ],
      "metadata": {
        "colab": {
          "base_uri": "https://localhost:8080/",
          "height": 427
        },
        "id": "RCHlfot7eJNv",
        "outputId": "491fe6ee-69fa-40b5-9807-8bacee57b973"
      },
      "execution_count": 67,
      "outputs": [
        {
          "output_type": "display_data",
          "data": {
            "text/plain": [
              "<Figure size 720x504 with 1 Axes>"
            ],
            "image/png": "[encoded data removed]"
          },
          "metadata": {}
        }
      ]
    },
    {
      "cell_type": "code",
      "source": [
        "grupos = ['Normal', 'Anormalidad de la onda ST-T', 'Hipertrofia Ventricular Izquierda']\n",
        "data = [ 147, 152, 4]\n",
        "fig = plt.figure(figsize =(10, 7))\n",
        "plt.pie(data, labels = grupos)\n",
        "plt.title('restecg( Resting Electrocardiographic Results)')\n",
        "plt.show()"
      ],
      "metadata": {
        "colab": {
          "base_uri": "https://localhost:8080/",
          "height": 427
        },
        "id": "EsXzNpluehLi",
        "outputId": "215af65b-631e-4a19-ffc8-27783e0f85be"
      },
      "execution_count": 68,
      "outputs": [
        {
          "output_type": "display_data",
          "data": {
            "text/plain": [
              "<Figure size 720x504 with 1 Axes>"
            ],
            "image/png": "[encoded data removed]"
          },
          "metadata": {}
        }
      ]
    },
    {
      "cell_type": "code",
      "source": [
        "grupos = ['No', 'Sí']\n",
        "data = [ 204, 99]\n",
        "fig = plt.figure(figsize =(10, 7))\n",
        "plt.pie(data, labels = grupos)\n",
        "plt.title('exang (Exercise Induced Angina)')\n",
        "plt.show()"
      ],
      "metadata": {
        "colab": {
          "base_uri": "https://localhost:8080/",
          "height": 427
        },
        "id": "wIzPdH3-V0YU",
        "outputId": "089393f5-bc61-4195-e69c-0d41cc1ada14"
      },
      "execution_count": 69,
      "outputs": [
        {
          "output_type": "display_data",
          "data": {
            "text/plain": [
              "<Figure size 720x504 with 1 Axes>"
            ],
            "image/png": "[encoded data removed]"
          },
          "metadata": {}
        }
      ]
    },
    {
      "cell_type": "code",
      "source": [
        "grupos = ['Pendiente Ascendente', 'Sin Pendiente', 'Pendiente Descendiente']\n",
        "data = [21, 140, 142]\n",
        "fig = plt.figure(figsize =(10, 7))\n",
        "plt.pie(data, labels = grupos)\n",
        "plt.title('slope (Pendiente del segmento ST máximo de ejercicio)')\n",
        "plt.show()"
      ],
      "metadata": {
        "colab": {
          "base_uri": "https://localhost:8080/",
          "height": 427
        },
        "id": "EmEHXZ_sfWPQ",
        "outputId": "d19d6f9e-39c1-4041-c2a9-3cfeba230303"
      },
      "execution_count": 70,
      "outputs": [
        {
          "output_type": "display_data",
          "data": {
            "text/plain": [
              "<Figure size 720x504 with 1 Axes>"
            ],
            "image/png": "[encoded data removed]"
          },
          "metadata": {}
        }
      ]
    },
    {
      "cell_type": "code",
      "source": [
        "grupos = ['0', '1', '2', '3', '4']\n",
        "data = [175, 65, 38, 20, 5]\n",
        "fig = plt.figure(figsize =(10, 7))\n",
        "plt.pie(data, labels = grupos)\n",
        "plt.title('CA (Número de vasos mayores coloreados por la fluoroscopia)')\n",
        "plt.show()"
      ],
      "metadata": {
        "colab": {
          "base_uri": "https://localhost:8080/",
          "height": 427
        },
        "id": "m4d_HCJSfpCY",
        "outputId": "e8a1a7e2-fa2e-49e3-d983-5580eaffaf96"
      },
      "execution_count": 71,
      "outputs": [
        {
          "output_type": "display_data",
          "data": {
            "text/plain": [
              "<Figure size 720x504 with 1 Axes>"
            ],
            "image/png": "[encoded data removed]"
          },
          "metadata": {}
        }
      ]
    },
    {
      "cell_type": "code",
      "source": [
        "grupos = ['Normal', 'Defecto Fijo', 'Defecto Reversible']\n",
        "data = [18, 166, 117]\n",
        "fig = plt.figure(figsize =(10, 7))\n",
        "plt.pie(data, labels = grupos)\n",
        "plt.title('thal')\n",
        "plt.show()"
      ],
      "metadata": {
        "colab": {
          "base_uri": "https://localhost:8080/",
          "height": 427
        },
        "id": "g3hg_sJVf9At",
        "outputId": "31f36fbc-b5bc-40ca-b5eb-47715374fb8d"
      },
      "execution_count": 72,
      "outputs": [
        {
          "output_type": "display_data",
          "data": {
            "text/plain": [
              "<Figure size 720x504 with 1 Axes>"
            ],
            "image/png": "[encoded data removed]"
          },
          "metadata": {}
        }
      ]
    },
    {
      "cell_type": "code",
      "source": [
        "grupos = ['Sí', 'No']\n",
        "data = [165, 138]\n",
        "fig = plt.figure(figsize =(10, 7))\n",
        "plt.pie(data, labels = grupos)\n",
        "plt.title('Target ( Paciente Sufre Ataque al Corazón')\n",
        "plt.show()"
      ],
      "metadata": {
        "colab": {
          "base_uri": "https://localhost:8080/",
          "height": 427
        },
        "id": "goOkvWChgLiZ",
        "outputId": "50bbbe4d-dfa2-4020-f652-cb32b0639ad4"
      },
      "execution_count": 73,
      "outputs": [
        {
          "output_type": "display_data",
          "data": {
            "text/plain": [
              "<Figure size 720x504 with 1 Axes>"
            ],
            "image/png": "[encoded data removed]"
          },
          "metadata": {}
        }
      ]
    },
    {
      "cell_type": "markdown",
      "source": [
        "Creamos dos dataframes nuevos separando variables numéricas de categóricas "
      ],
      "metadata": {
        "id": "z8xoTAQDPq9-"
      }
    },
    {
      "cell_type": "code",
      "source": [
        "continuas = df[['age', 'trestbps', 'chol', 'thalach', 'oldpeak']]\n",
        "continuas"
      ],
      "metadata": {
        "id": "Cx9QdpOPQKOC",
        "outputId": "f3348e05-e8b2-4a1e-b002-ed91482c68c4",
        "colab": {
          "base_uri": "https://localhost:8080/",
          "height": 424
        }
      },
      "execution_count": 74,
      "outputs": [
        {
          "output_type": "execute_result",
          "data": {
            "text/plain": [
              "     age  trestbps  chol  thalach  oldpeak\n",
              "0     63       145   233      150      2.3\n",
              "1     37       130   250      187      3.5\n",
              "2     41       130   204      172      1.4\n",
              "3     56       120   236      178      0.8\n",
              "4     57       120   354      163      0.6\n",
              "..   ...       ...   ...      ...      ...\n",
              "298   57       140   241      123      0.2\n",
              "299   45       110   264      132      1.2\n",
              "300   68       144   193      141      3.4\n",
              "301   57       130   131      115      1.2\n",
              "302   57       130   236      174      0.0\n",
              "\n",
              "[303 rows x 5 columns]"
            ],
            "text/html": [
              "\n",
              "  <div id=\"df-eb1441f1-e8da-489e-a565-9c183c91672e\">\n",
              "    <div class=\"colab-df-container\">\n",
              "      <div>\n",
              "<style scoped>\n",
              "    .dataframe tbody tr th:only-of-type {\n",
              "        vertical-align: middle;\n",
              "    }\n",
              "\n",
              "    .dataframe tbody tr th {\n",
              "        vertical-align: top;\n",
              "    }\n",
              "\n",
              "    .dataframe thead th {\n",
              "        text-align: right;\n",
              "    }\n",
              "</style>\n",
              "<table border=\"1\" class=\"dataframe\">\n",
              "  <thead>\n",
              "    <tr style=\"text-align: right;\">\n",
              "      <th></th>\n",
              "      <th>age</th>\n",
              "      <th>trestbps</th>\n",
              "      <th>chol</th>\n",
              "      <th>thalach</th>\n",
              "      <th>oldpeak</th>\n",
              "    </tr>\n",
              "  </thead>\n",
              "  <tbody>\n",
              "    <tr>\n",
              "      <th>0</th>\n",
              "      <td>63</td>\n",
              "      <td>145</td>\n",
              "      <td>233</td>\n",
              "      <td>150</td>\n",
              "      <td>2.3</td>\n",
              "    </tr>\n",
              "    <tr>\n",
              "      <th>1</th>\n",
              "      <td>37</td>\n",
              "      <td>130</td>\n",
              "      <td>250</td>\n",
              "      <td>187</td>\n",
              "      <td>3.5</td>\n",
              "    </tr>\n",
              "    <tr>\n",
              "      <th>2</th>\n",
              "      <td>41</td>\n",
              "      <td>130</td>\n",
              "      <td>204</td>\n",
              "      <td>172</td>\n",
              "      <td>1.4</td>\n",
              "    </tr>\n",
              "    <tr>\n",
              "      <th>3</th>\n",
              "      <td>56</td>\n",
              "      <td>120</td>\n",
              "      <td>236</td>\n",
              "      <td>178</td>\n",
              "      <td>0.8</td>\n",
              "    </tr>\n",
              "    <tr>\n",
              "      <th>4</th>\n",
              "      <td>57</td>\n",
              "      <td>120</td>\n",
              "      <td>354</td>\n",
              "      <td>163</td>\n",
              "      <td>0.6</td>\n",
              "    </tr>\n",
              "    <tr>\n",
              "      <th>...</th>\n",
              "      <td>...</td>\n",
              "      <td>...</td>\n",
              "      <td>...</td>\n",
              "      <td>...</td>\n",
              "      <td>...</td>\n",
              "    </tr>\n",
              "    <tr>\n",
              "      <th>298</th>\n",
              "      <td>57</td>\n",
              "      <td>140</td>\n",
              "      <td>241</td>\n",
              "      <td>123</td>\n",
              "      <td>0.2</td>\n",
              "    </tr>\n",
              "    <tr>\n",
              "      <th>299</th>\n",
              "      <td>45</td>\n",
              "      <td>110</td>\n",
              "      <td>264</td>\n",
              "      <td>132</td>\n",
              "      <td>1.2</td>\n",
              "    </tr>\n",
              "    <tr>\n",
              "      <th>300</th>\n",
              "      <td>68</td>\n",
              "      <td>144</td>\n",
              "      <td>193</td>\n",
              "      <td>141</td>\n",
              "      <td>3.4</td>\n",
              "    </tr>\n",
              "    <tr>\n",
              "      <th>301</th>\n",
              "      <td>57</td>\n",
              "      <td>130</td>\n",
              "      <td>131</td>\n",
              "      <td>115</td>\n",
              "      <td>1.2</td>\n",
              "    </tr>\n",
              "    <tr>\n",
              "      <th>302</th>\n",
              "      <td>57</td>\n",
              "      <td>130</td>\n",
              "      <td>236</td>\n",
              "      <td>174</td>\n",
              "      <td>0.0</td>\n",
              "    </tr>\n",
              "  </tbody>\n",
              "</table>\n",
              "<p>303 rows × 5 columns</p>\n",
              "</div>\n",
              "      <button class=\"colab-df-convert\" onclick=\"convertToInteractive('df-eb1441f1-e8da-489e-a565-9c183c91672e')\"\n",
              "              title=\"Convert this dataframe to an interactive table.\"\n",
              "              style=\"display:none;\">\n",
              "        \n",
              "  <svg xmlns=\"http://www.w3.org/2000/svg\" height=\"24px\"viewBox=\"0 0 24 24\"\n",
              "       width=\"24px\">\n",
              "    <path d=\"M0 0h24v24H0V0z\" fill=\"none\"/>\n",
              "    <path d=\"M18.56 5.44l.94 2.06.94-2.06 2.06-.94-2.06-.94-.94-2.06-.94 2.06-2.06.94zm-11 1L8.5 8.5l.94-2.06 2.06-.94-2.06-.94L8.5 2.5l-.94 2.06-2.06.94zm10 10l.94 2.06.94-2.06 2.06-.94-2.06-.94-.94-2.06-.94 2.06-2.06.94z\"/><path d=\"M17.41 7.96l-1.37-1.37c-.4-.4-.92-.59-1.43-.59-.52 0-1.04.2-1.43.59L10.3 9.45l-7.72 7.72c-.78.78-.78 2.05 0 2.83L4 21.41c.39.39.9.59 1.41.59.51 0 1.02-.2 1.41-.59l7.78-7.78 2.81-2.81c.8-.78.8-2.07 0-2.86zM5.41 20L4 18.59l7.72-7.72 1.47 1.35L5.41 20z\"/>\n",
              "  </svg>\n",
              "      </button>\n",
              "      \n",
              "  <style>\n",
              "    .colab-df-container {\n",
              "      display:flex;\n",
              "      flex-wrap:wrap;\n",
              "      gap: 12px;\n",
              "    }\n",
              "\n",
              "    .colab-df-convert {\n",
              "      background-color: #E8F0FE;\n",
              "      border: none;\n",
              "      border-radius: 50%;\n",
              "      cursor: pointer;\n",
              "      display: none;\n",
              "      fill: #1967D2;\n",
              "      height: 32px;\n",
              "      padding: 0 0 0 0;\n",
              "      width: 32px;\n",
              "    }\n",
              "\n",
              "    .colab-df-convert:hover {\n",
              "      background-color: #E2EBFA;\n",
              "      box-shadow: 0px 1px 2px rgba(60, 64, 67, 0.3), 0px 1px 3px 1px rgba(60, 64, 67, 0.15);\n",
              "      fill: #174EA6;\n",
              "    }\n",
              "\n",
              "    [theme=dark] .colab-df-convert {\n",
              "      background-color: #3B4455;\n",
              "      fill: #D2E3FC;\n",
              "    }\n",
              "\n",
              "    [theme=dark] .colab-df-convert:hover {\n",
              "      background-color: #434B5C;\n",
              "      box-shadow: 0px 1px 3px 1px rgba(0, 0, 0, 0.15);\n",
              "      filter: drop-shadow(0px 1px 2px rgba(0, 0, 0, 0.3));\n",
              "      fill: #FFFFFF;\n",
              "    }\n",
              "  </style>\n",
              "\n",
              "      <script>\n",
              "        const buttonEl =\n",
              "          document.querySelector('#df-eb1441f1-e8da-489e-a565-9c183c91672e button.colab-df-convert');\n",
              "        buttonEl.style.display =\n",
              "          google.colab.kernel.accessAllowed ? 'block' : 'none';\n",
              "\n",
              "        async function convertToInteractive(key) {\n",
              "          const element = document.querySelector('#df-eb1441f1-e8da-489e-a565-9c183c91672e');\n",
              "          const dataTable =\n",
              "            await google.colab.kernel.invokeFunction('convertToInteractive',\n",
              "                                                     [key], {});\n",
              "          if (!dataTable) return;\n",
              "\n",
              "          const docLinkHtml = 'Like what you see? Visit the ' +\n",
              "            '<a target=\"_blank\" href=https://colab.research.google.com/notebooks/data_table.ipynb>data table notebook</a>'\n",
              "            + ' to learn more about interactive tables.';\n",
              "          element.innerHTML = '';\n",
              "          dataTable['output_type'] = 'display_data';\n",
              "          await google.colab.output.renderOutput(dataTable, element);\n",
              "          const docLink = document.createElement('div');\n",
              "          docLink.innerHTML = docLinkHtml;\n",
              "          element.appendChild(docLink);\n",
              "        }\n",
              "      </script>\n",
              "    </div>\n",
              "  </div>\n",
              "  "
            ]
          },
          "metadata": {},
          "execution_count": 74
        }
      ]
    },
    {
      "cell_type": "markdown",
      "source": [
        "Normalizamos las continuas"
      ],
      "metadata": {
        "id": "8WUjRKHCQu7z"
      }
    },
    {
      "cell_type": "code",
      "source": [
        "mean = continuas.mean(axis=0)\n",
        "#print(mean)\n",
        "#continuas -= mean\n",
        "std = continuas.std(axis=0)\n",
        "#print(std)\n",
        "continuas /= std\n",
        "\n",
        "continuas"
      ],
      "metadata": {
        "id": "bYF-isJ-QjLo",
        "outputId": "c9cb6e75-648d-42a0-fd26-7e59d9cf07a3",
        "colab": {
          "base_uri": "https://localhost:8080/",
          "height": 424
        }
      },
      "execution_count": 75,
      "outputs": [
        {
          "output_type": "execute_result",
          "data": {
            "text/plain": [
              "          age  trestbps      chol   thalach   oldpeak\n",
              "0    6.936721  8.267694  4.495401  6.548742  1.980923\n",
              "1    4.073947  7.412415  4.823391  8.164099  3.014448\n",
              "2    4.514374  7.412415  3.935887  7.509225  1.205779\n",
              "3    6.165974  6.842230  4.553282  7.771174  0.689017\n",
              "4    6.276081  6.842230  6.829922  7.116300  0.516762\n",
              "..        ...       ...       ...       ...       ...\n",
              "298  6.276081  7.982601  4.649749  5.369969  0.172254\n",
              "299  4.954801  6.272044  5.093501  5.762893  1.033525\n",
              "300  7.487254  8.210676  3.723658  6.155818  2.928321\n",
              "301  6.276081  7.412415  2.527457  5.020703  1.033525\n",
              "302  6.276081  7.412415  4.553282  7.596541  0.000000\n",
              "\n",
              "[303 rows x 5 columns]"
            ],
            "text/html": [
              "\n",
              "  <div id=\"df-16e3193f-b40f-44ed-8e20-4ecea8a15911\">\n",
              "    <div class=\"colab-df-container\">\n",
              "      <div>\n",
              "<style scoped>\n",
              "    .dataframe tbody tr th:only-of-type {\n",
              "        vertical-align: middle;\n",
              "    }\n",
              "\n",
              "    .dataframe tbody tr th {\n",
              "        vertical-align: top;\n",
              "    }\n",
              "\n",
              "    .dataframe thead th {\n",
              "        text-align: right;\n",
              "    }\n",
              "</style>\n",
              "<table border=\"1\" class=\"dataframe\">\n",
              "  <thead>\n",
              "    <tr style=\"text-align: right;\">\n",
              "      <th></th>\n",
              "      <th>age</th>\n",
              "      <th>trestbps</th>\n",
              "      <th>chol</th>\n",
              "      <th>thalach</th>\n",
              "      <th>oldpeak</th>\n",
              "    </tr>\n",
              "  </thead>\n",
              "  <tbody>\n",
              "    <tr>\n",
              "      <th>0</th>\n",
              "      <td>6.936721</td>\n",
              "      <td>8.267694</td>\n",
              "      <td>4.495401</td>\n",
              "      <td>6.548742</td>\n",
              "      <td>1.980923</td>\n",
              "    </tr>\n",
              "    <tr>\n",
              "      <th>1</th>\n",
              "      <td>4.073947</td>\n",
              "      <td>7.412415</td>\n",
              "      <td>4.823391</td>\n",
              "      <td>8.164099</td>\n",
              "      <td>3.014448</td>\n",
              "    </tr>\n",
              "    <tr>\n",
              "      <th>2</th>\n",
              "      <td>4.514374</td>\n",
              "      <td>7.412415</td>\n",
              "      <td>3.935887</td>\n",
              "      <td>7.509225</td>\n",
              "      <td>1.205779</td>\n",
              "    </tr>\n",
              "    <tr>\n",
              "      <th>3</th>\n",
              "      <td>6.165974</td>\n",
              "      <td>6.842230</td>\n",
              "      <td>4.553282</td>\n",
              "      <td>7.771174</td>\n",
              "      <td>0.689017</td>\n",
              "    </tr>\n",
              "    <tr>\n",
              "      <th>4</th>\n",
              "      <td>6.276081</td>\n",
              "      <td>6.842230</td>\n",
              "      <td>6.829922</td>\n",
              "      <td>7.116300</td>\n",
              "      <td>0.516762</td>\n",
              "    </tr>\n",
              "    <tr>\n",
              "      <th>...</th>\n",
              "      <td>...</td>\n",
              "      <td>...</td>\n",
              "      <td>...</td>\n",
              "      <td>...</td>\n",
              "      <td>...</td>\n",
              "    </tr>\n",
              "    <tr>\n",
              "      <th>298</th>\n",
              "      <td>6.276081</td>\n",
              "      <td>7.982601</td>\n",
              "      <td>4.649749</td>\n",
              "      <td>5.369969</td>\n",
              "      <td>0.172254</td>\n",
              "    </tr>\n",
              "    <tr>\n",
              "      <th>299</th>\n",
              "      <td>4.954801</td>\n",
              "      <td>6.272044</td>\n",
              "      <td>5.093501</td>\n",
              "      <td>5.762893</td>\n",
              "      <td>1.033525</td>\n",
              "    </tr>\n",
              "    <tr>\n",
              "      <th>300</th>\n",
              "      <td>7.487254</td>\n",
              "      <td>8.210676</td>\n",
              "      <td>3.723658</td>\n",
              "      <td>6.155818</td>\n",
              "      <td>2.928321</td>\n",
              "    </tr>\n",
              "    <tr>\n",
              "      <th>301</th>\n",
              "      <td>6.276081</td>\n",
              "      <td>7.412415</td>\n",
              "      <td>2.527457</td>\n",
              "      <td>5.020703</td>\n",
              "      <td>1.033525</td>\n",
              "    </tr>\n",
              "    <tr>\n",
              "      <th>302</th>\n",
              "      <td>6.276081</td>\n",
              "      <td>7.412415</td>\n",
              "      <td>4.553282</td>\n",
              "      <td>7.596541</td>\n",
              "      <td>0.000000</td>\n",
              "    </tr>\n",
              "  </tbody>\n",
              "</table>\n",
              "<p>303 rows × 5 columns</p>\n",
              "</div>\n",
              "      <button class=\"colab-df-convert\" onclick=\"convertToInteractive('df-16e3193f-b40f-44ed-8e20-4ecea8a15911')\"\n",
              "              title=\"Convert this dataframe to an interactive table.\"\n",
              "              style=\"display:none;\">\n",
              "        \n",
              "  <svg xmlns=\"http://www.w3.org/2000/svg\" height=\"24px\"viewBox=\"0 0 24 24\"\n",
              "       width=\"24px\">\n",
              "    <path d=\"M0 0h24v24H0V0z\" fill=\"none\"/>\n",
              "    <path d=\"M18.56 5.44l.94 2.06.94-2.06 2.06-.94-2.06-.94-.94-2.06-.94 2.06-2.06.94zm-11 1L8.5 8.5l.94-2.06 2.06-.94-2.06-.94L8.5 2.5l-.94 2.06-2.06.94zm10 10l.94 2.06.94-2.06 2.06-.94-2.06-.94-.94-2.06-.94 2.06-2.06.94z\"/><path d=\"M17.41 7.96l-1.37-1.37c-.4-.4-.92-.59-1.43-.59-.52 0-1.04.2-1.43.59L10.3 9.45l-7.72 7.72c-.78.78-.78 2.05 0 2.83L4 21.41c.39.39.9.59 1.41.59.51 0 1.02-.2 1.41-.59l7.78-7.78 2.81-2.81c.8-.78.8-2.07 0-2.86zM5.41 20L4 18.59l7.72-7.72 1.47 1.35L5.41 20z\"/>\n",
              "  </svg>\n",
              "      </button>\n",
              "      \n",
              "  <style>\n",
              "    .colab-df-container {\n",
              "      display:flex;\n",
              "      flex-wrap:wrap;\n",
              "      gap: 12px;\n",
              "    }\n",
              "\n",
              "    .colab-df-convert {\n",
              "      background-color: #E8F0FE;\n",
              "      border: none;\n",
              "      border-radius: 50%;\n",
              "      cursor: pointer;\n",
              "      display: none;\n",
              "      fill: #1967D2;\n",
              "      height: 32px;\n",
              "      padding: 0 0 0 0;\n",
              "      width: 32px;\n",
              "    }\n",
              "\n",
              "    .colab-df-convert:hover {\n",
              "      background-color: #E2EBFA;\n",
              "      box-shadow: 0px 1px 2px rgba(60, 64, 67, 0.3), 0px 1px 3px 1px rgba(60, 64, 67, 0.15);\n",
              "      fill: #174EA6;\n",
              "    }\n",
              "\n",
              "    [theme=dark] .colab-df-convert {\n",
              "      background-color: #3B4455;\n",
              "      fill: #D2E3FC;\n",
              "    }\n",
              "\n",
              "    [theme=dark] .colab-df-convert:hover {\n",
              "      background-color: #434B5C;\n",
              "      box-shadow: 0px 1px 3px 1px rgba(0, 0, 0, 0.15);\n",
              "      filter: drop-shadow(0px 1px 2px rgba(0, 0, 0, 0.3));\n",
              "      fill: #FFFFFF;\n",
              "    }\n",
              "  </style>\n",
              "\n",
              "      <script>\n",
              "        const buttonEl =\n",
              "          document.querySelector('#df-16e3193f-b40f-44ed-8e20-4ecea8a15911 button.colab-df-convert');\n",
              "        buttonEl.style.display =\n",
              "          google.colab.kernel.accessAllowed ? 'block' : 'none';\n",
              "\n",
              "        async function convertToInteractive(key) {\n",
              "          const element = document.querySelector('#df-16e3193f-b40f-44ed-8e20-4ecea8a15911');\n",
              "          const dataTable =\n",
              "            await google.colab.kernel.invokeFunction('convertToInteractive',\n",
              "                                                     [key], {});\n",
              "          if (!dataTable) return;\n",
              "\n",
              "          const docLinkHtml = 'Like what you see? Visit the ' +\n",
              "            '<a target=\"_blank\" href=https://colab.research.google.com/notebooks/data_table.ipynb>data table notebook</a>'\n",
              "            + ' to learn more about interactive tables.';\n",
              "          element.innerHTML = '';\n",
              "          dataTable['output_type'] = 'display_data';\n",
              "          await google.colab.output.renderOutput(dataTable, element);\n",
              "          const docLink = document.createElement('div');\n",
              "          docLink.innerHTML = docLinkHtml;\n",
              "          element.appendChild(docLink);\n",
              "        }\n",
              "      </script>\n",
              "    </div>\n",
              "  </div>\n",
              "  "
            ]
          },
          "metadata": {},
          "execution_count": 75
        }
      ]
    },
    {
      "cell_type": "code",
      "source": [
        "clases = df[['sex', 'fbs', 'exang', 'cp', 'restecg', 'slope', 'ca', 'thal']]\n",
        "clases"
      ],
      "metadata": {
        "colab": {
          "base_uri": "https://localhost:8080/",
          "height": 424
        },
        "id": "I5swDGB4XdGw",
        "outputId": "b8e34745-bd20-4349-b494-c7f467fdcdca"
      },
      "execution_count": 76,
      "outputs": [
        {
          "output_type": "execute_result",
          "data": {
            "text/plain": [
              "     sex  fbs  exang  cp  restecg  slope  ca  thal\n",
              "0      1    1      0   3        0      0   0     1\n",
              "1      1    0      0   2        1      0   0     2\n",
              "2      0    0      0   1        0      2   0     2\n",
              "3      1    0      0   1        1      2   0     2\n",
              "4      0    0      1   0        1      2   0     2\n",
              "..   ...  ...    ...  ..      ...    ...  ..   ...\n",
              "298    0    0      1   0        1      1   0     3\n",
              "299    1    0      0   3        1      1   0     3\n",
              "300    1    1      0   0        1      1   2     3\n",
              "301    1    0      1   0        1      1   1     3\n",
              "302    0    0      0   1        0      1   1     2\n",
              "\n",
              "[303 rows x 8 columns]"
            ],
            "text/html": [
              "\n",
              "  <div id=\"df-335b98be-b0b7-4198-bcf4-b5f2630f3812\">\n",
              "    <div class=\"colab-df-container\">\n",
              "      <div>\n",
              "<style scoped>\n",
              "    .dataframe tbody tr th:only-of-type {\n",
              "        vertical-align: middle;\n",
              "    }\n",
              "\n",
              "    .dataframe tbody tr th {\n",
              "        vertical-align: top;\n",
              "    }\n",
              "\n",
              "    .dataframe thead th {\n",
              "        text-align: right;\n",
              "    }\n",
              "</style>\n",
              "<table border=\"1\" class=\"dataframe\">\n",
              "  <thead>\n",
              "    <tr style=\"text-align: right;\">\n",
              "      <th></th>\n",
              "      <th>sex</th>\n",
              "      <th>fbs</th>\n",
              "      <th>exang</th>\n",
              "      <th>cp</th>\n",
              "      <th>restecg</th>\n",
              "      <th>slope</th>\n",
              "      <th>ca</th>\n",
              "      <th>thal</th>\n",
              "    </tr>\n",
              "  </thead>\n",
              "  <tbody>\n",
              "    <tr>\n",
              "      <th>0</th>\n",
              "      <td>1</td>\n",
              "      <td>1</td>\n",
              "      <td>0</td>\n",
              "      <td>3</td>\n",
              "      <td>0</td>\n",
              "      <td>0</td>\n",
              "      <td>0</td>\n",
              "      <td>1</td>\n",
              "    </tr>\n",
              "    <tr>\n",
              "      <th>1</th>\n",
              "      <td>1</td>\n",
              "      <td>0</td>\n",
              "      <td>0</td>\n",
              "      <td>2</td>\n",
              "      <td>1</td>\n",
              "      <td>0</td>\n",
              "      <td>0</td>\n",
              "      <td>2</td>\n",
              "    </tr>\n",
              "    <tr>\n",
              "      <th>2</th>\n",
              "      <td>0</td>\n",
              "      <td>0</td>\n",
              "      <td>0</td>\n",
              "      <td>1</td>\n",
              "      <td>0</td>\n",
              "      <td>2</td>\n",
              "      <td>0</td>\n",
              "      <td>2</td>\n",
              "    </tr>\n",
              "    <tr>\n",
              "      <th>3</th>\n",
              "      <td>1</td>\n",
              "      <td>0</td>\n",
              "      <td>0</td>\n",
              "      <td>1</td>\n",
              "      <td>1</td>\n",
              "      <td>2</td>\n",
              "      <td>0</td>\n",
              "      <td>2</td>\n",
              "    </tr>\n",
              "    <tr>\n",
              "      <th>4</th>\n",
              "      <td>0</td>\n",
              "      <td>0</td>\n",
              "      <td>1</td>\n",
              "      <td>0</td>\n",
              "      <td>1</td>\n",
              "      <td>2</td>\n",
              "      <td>0</td>\n",
              "      <td>2</td>\n",
              "    </tr>\n",
              "    <tr>\n",
              "      <th>...</th>\n",
              "      <td>...</td>\n",
              "      <td>...</td>\n",
              "      <td>...</td>\n",
              "      <td>...</td>\n",
              "      <td>...</td>\n",
              "      <td>...</td>\n",
              "      <td>...</td>\n",
              "      <td>...</td>\n",
              "    </tr>\n",
              "    <tr>\n",
              "      <th>298</th>\n",
              "      <td>0</td>\n",
              "      <td>0</td>\n",
              "      <td>1</td>\n",
              "      <td>0</td>\n",
              "      <td>1</td>\n",
              "      <td>1</td>\n",
              "      <td>0</td>\n",
              "      <td>3</td>\n",
              "    </tr>\n",
              "    <tr>\n",
              "      <th>299</th>\n",
              "      <td>1</td>\n",
              "      <td>0</td>\n",
              "      <td>0</td>\n",
              "      <td>3</td>\n",
              "      <td>1</td>\n",
              "      <td>1</td>\n",
              "      <td>0</td>\n",
              "      <td>3</td>\n",
              "    </tr>\n",
              "    <tr>\n",
              "      <th>300</th>\n",
              "      <td>1</td>\n",
              "      <td>1</td>\n",
              "      <td>0</td>\n",
              "      <td>0</td>\n",
              "      <td>1</td>\n",
              "      <td>1</td>\n",
              "      <td>2</td>\n",
              "      <td>3</td>\n",
              "    </tr>\n",
              "    <tr>\n",
              "      <th>301</th>\n",
              "      <td>1</td>\n",
              "      <td>0</td>\n",
              "      <td>1</td>\n",
              "      <td>0</td>\n",
              "      <td>1</td>\n",
              "      <td>1</td>\n",
              "      <td>1</td>\n",
              "      <td>3</td>\n",
              "    </tr>\n",
              "    <tr>\n",
              "      <th>302</th>\n",
              "      <td>0</td>\n",
              "      <td>0</td>\n",
              "      <td>0</td>\n",
              "      <td>1</td>\n",
              "      <td>0</td>\n",
              "      <td>1</td>\n",
              "      <td>1</td>\n",
              "      <td>2</td>\n",
              "    </tr>\n",
              "  </tbody>\n",
              "</table>\n",
              "<p>303 rows × 8 columns</p>\n",
              "</div>\n",
              "      <button class=\"colab-df-convert\" onclick=\"convertToInteractive('df-335b98be-b0b7-4198-bcf4-b5f2630f3812')\"\n",
              "              title=\"Convert this dataframe to an interactive table.\"\n",
              "              style=\"display:none;\">\n",
              "        \n",
              "  <svg xmlns=\"http://www.w3.org/2000/svg\" height=\"24px\"viewBox=\"0 0 24 24\"\n",
              "       width=\"24px\">\n",
              "    <path d=\"M0 0h24v24H0V0z\" fill=\"none\"/>\n",
              "    <path d=\"M18.56 5.44l.94 2.06.94-2.06 2.06-.94-2.06-.94-.94-2.06-.94 2.06-2.06.94zm-11 1L8.5 8.5l.94-2.06 2.06-.94-2.06-.94L8.5 2.5l-.94 2.06-2.06.94zm10 10l.94 2.06.94-2.06 2.06-.94-2.06-.94-.94-2.06-.94 2.06-2.06.94z\"/><path d=\"M17.41 7.96l-1.37-1.37c-.4-.4-.92-.59-1.43-.59-.52 0-1.04.2-1.43.59L10.3 9.45l-7.72 7.72c-.78.78-.78 2.05 0 2.83L4 21.41c.39.39.9.59 1.41.59.51 0 1.02-.2 1.41-.59l7.78-7.78 2.81-2.81c.8-.78.8-2.07 0-2.86zM5.41 20L4 18.59l7.72-7.72 1.47 1.35L5.41 20z\"/>\n",
              "  </svg>\n",
              "      </button>\n",
              "      \n",
              "  <style>\n",
              "    .colab-df-container {\n",
              "      display:flex;\n",
              "      flex-wrap:wrap;\n",
              "      gap: 12px;\n",
              "    }\n",
              "\n",
              "    .colab-df-convert {\n",
              "      background-color: #E8F0FE;\n",
              "      border: none;\n",
              "      border-radius: 50%;\n",
              "      cursor: pointer;\n",
              "      display: none;\n",
              "      fill: #1967D2;\n",
              "      height: 32px;\n",
              "      padding: 0 0 0 0;\n",
              "      width: 32px;\n",
              "    }\n",
              "\n",
              "    .colab-df-convert:hover {\n",
              "      background-color: #E2EBFA;\n",
              "      box-shadow: 0px 1px 2px rgba(60, 64, 67, 0.3), 0px 1px 3px 1px rgba(60, 64, 67, 0.15);\n",
              "      fill: #174EA6;\n",
              "    }\n",
              "\n",
              "    [theme=dark] .colab-df-convert {\n",
              "      background-color: #3B4455;\n",
              "      fill: #D2E3FC;\n",
              "    }\n",
              "\n",
              "    [theme=dark] .colab-df-convert:hover {\n",
              "      background-color: #434B5C;\n",
              "      box-shadow: 0px 1px 3px 1px rgba(0, 0, 0, 0.15);\n",
              "      filter: drop-shadow(0px 1px 2px rgba(0, 0, 0, 0.3));\n",
              "      fill: #FFFFFF;\n",
              "    }\n",
              "  </style>\n",
              "\n",
              "      <script>\n",
              "        const buttonEl =\n",
              "          document.querySelector('#df-335b98be-b0b7-4198-bcf4-b5f2630f3812 button.colab-df-convert');\n",
              "        buttonEl.style.display =\n",
              "          google.colab.kernel.accessAllowed ? 'block' : 'none';\n",
              "\n",
              "        async function convertToInteractive(key) {\n",
              "          const element = document.querySelector('#df-335b98be-b0b7-4198-bcf4-b5f2630f3812');\n",
              "          const dataTable =\n",
              "            await google.colab.kernel.invokeFunction('convertToInteractive',\n",
              "                                                     [key], {});\n",
              "          if (!dataTable) return;\n",
              "\n",
              "          const docLinkHtml = 'Like what you see? Visit the ' +\n",
              "            '<a target=\"_blank\" href=https://colab.research.google.com/notebooks/data_table.ipynb>data table notebook</a>'\n",
              "            + ' to learn more about interactive tables.';\n",
              "          element.innerHTML = '';\n",
              "          dataTable['output_type'] = 'display_data';\n",
              "          await google.colab.output.renderOutput(dataTable, element);\n",
              "          const docLink = document.createElement('div');\n",
              "          docLink.innerHTML = docLinkHtml;\n",
              "          element.appendChild(docLink);\n",
              "        }\n",
              "      </script>\n",
              "    </div>\n",
              "  </div>\n",
              "  "
            ]
          },
          "metadata": {},
          "execution_count": 76
        }
      ]
    },
    {
      "cell_type": "markdown",
      "source": [
        "Vectorizamos las variables categóricas y las unimos al dataframe con las variables continuas ya normalizadas"
      ],
      "metadata": {
        "id": "3k64FwXcP3ny"
      }
    },
    {
      "cell_type": "code",
      "source": [
        "\n",
        "normalizado = continuas\n",
        "for i in clases:\n",
        "  y = pd.get_dummies(df[i] ,prefix = i)\n",
        "  #print(y)\n",
        "  normalizado = normalizado.join(y)\n",
        "\n",
        "\n",
        "normalizado = normalizado.join(df['target'])\n",
        "normalizado "
      ],
      "metadata": {
        "id": "V9RzfElXPi7t",
        "outputId": "abf17dae-b9c5-4a86-bc26-bd6e1930c11e",
        "colab": {
          "base_uri": "https://localhost:8080/",
          "height": 468
        }
      },
      "execution_count": 77,
      "outputs": [
        {
          "output_type": "execute_result",
          "data": {
            "text/plain": [
              "          age  trestbps      chol   thalach   oldpeak  sex_0  sex_1  fbs_0  \\\n",
              "0    6.936721  8.267694  4.495401  6.548742  1.980923      0      1      0   \n",
              "1    4.073947  7.412415  4.823391  8.164099  3.014448      0      1      1   \n",
              "2    4.514374  7.412415  3.935887  7.509225  1.205779      1      0      1   \n",
              "3    6.165974  6.842230  4.553282  7.771174  0.689017      0      1      1   \n",
              "4    6.276081  6.842230  6.829922  7.116300  0.516762      1      0      1   \n",
              "..        ...       ...       ...       ...       ...    ...    ...    ...   \n",
              "298  6.276081  7.982601  4.649749  5.369969  0.172254      1      0      1   \n",
              "299  4.954801  6.272044  5.093501  5.762893  1.033525      0      1      1   \n",
              "300  7.487254  8.210676  3.723658  6.155818  2.928321      0      1      0   \n",
              "301  6.276081  7.412415  2.527457  5.020703  1.033525      0      1      1   \n",
              "302  6.276081  7.412415  4.553282  7.596541  0.000000      1      0      1   \n",
              "\n",
              "     fbs_1  exang_0  ...  ca_0  ca_1  ca_2  ca_3  ca_4  thal_0  thal_1  \\\n",
              "0        1        1  ...     1     0     0     0     0       0       1   \n",
              "1        0        1  ...     1     0     0     0     0       0       0   \n",
              "2        0        1  ...     1     0     0     0     0       0       0   \n",
              "3        0        1  ...     1     0     0     0     0       0       0   \n",
              "4        0        0  ...     1     0     0     0     0       0       0   \n",
              "..     ...      ...  ...   ...   ...   ...   ...   ...     ...     ...   \n",
              "298      0        0  ...     1     0     0     0     0       0       0   \n",
              "299      0        1  ...     1     0     0     0     0       0       0   \n",
              "300      1        1  ...     0     0     1     0     0       0       0   \n",
              "301      0        0  ...     0     1     0     0     0       0       0   \n",
              "302      0        1  ...     0     1     0     0     0       0       0   \n",
              "\n",
              "     thal_2  thal_3  target  \n",
              "0         0       0       1  \n",
              "1         1       0       1  \n",
              "2         1       0       1  \n",
              "3         1       0       1  \n",
              "4         1       0       1  \n",
              "..      ...     ...     ...  \n",
              "298       0       1       0  \n",
              "299       0       1       0  \n",
              "300       0       1       0  \n",
              "301       0       1       0  \n",
              "302       1       0       0  \n",
              "\n",
              "[303 rows x 31 columns]"
            ],
            "text/html": [
              "\n",
              "  <div id=\"df-030daa5f-60da-4222-a9b6-782dede142ec\">\n",
              "    <div class=\"colab-df-container\">\n",
              "      <div>\n",
              "<style scoped>\n",
              "    .dataframe tbody tr th:only-of-type {\n",
              "        vertical-align: middle;\n",
              "    }\n",
              "\n",
              "    .dataframe tbody tr th {\n",
              "        vertical-align: top;\n",
              "    }\n",
              "\n",
              "    .dataframe thead th {\n",
              "        text-align: right;\n",
              "    }\n",
              "</style>\n",
              "<table border=\"1\" class=\"dataframe\">\n",
              "  <thead>\n",
              "    <tr style=\"text-align: right;\">\n",
              "      <th></th>\n",
              "      <th>age</th>\n",
              "      <th>trestbps</th>\n",
              "      <th>chol</th>\n",
              "      <th>thalach</th>\n",
              "      <th>oldpeak</th>\n",
              "      <th>sex_0</th>\n",
              "      <th>sex_1</th>\n",
              "      <th>fbs_0</th>\n",
              "      <th>fbs_1</th>\n",
              "      <th>exang_0</th>\n",
              "      <th>...</th>\n",
              "      <th>ca_0</th>\n",
              "      <th>ca_1</th>\n",
              "      <th>ca_2</th>\n",
              "      <th>ca_3</th>\n",
              "      <th>ca_4</th>\n",
              "      <th>thal_0</th>\n",
              "      <th>thal_1</th>\n",
              "      <th>thal_2</th>\n",
              "      <th>thal_3</th>\n",
              "      <th>target</th>\n",
              "    </tr>\n",
              "  </thead>\n",
              "  <tbody>\n",
              "    <tr>\n",
              "      <th>0</th>\n",
              "      <td>6.936721</td>\n",
              "      <td>8.267694</td>\n",
              "      <td>4.495401</td>\n",
              "      <td>6.548742</td>\n",
              "      <td>1.980923</td>\n",
              "      <td>0</td>\n",
              "      <td>1</td>\n",
              "      <td>0</td>\n",
              "      <td>1</td>\n",
              "      <td>1</td>\n",
              "      <td>...</td>\n",
              "      <td>1</td>\n",
              "      <td>0</td>\n",
              "      <td>0</td>\n",
              "      <td>0</td>\n",
              "      <td>0</td>\n",
              "      <td>0</td>\n",
              "      <td>1</td>\n",
              "      <td>0</td>\n",
              "      <td>0</td>\n",
              "      <td>1</td>\n",
              "    </tr>\n",
              "    <tr>\n",
              "      <th>1</th>\n",
              "      <td>4.073947</td>\n",
              "      <td>7.412415</td>\n",
              "      <td>4.823391</td>\n",
              "      <td>8.164099</td>\n",
              "      <td>3.014448</td>\n",
              "      <td>0</td>\n",
              "      <td>1</td>\n",
              "      <td>1</td>\n",
              "      <td>0</td>\n",
              "      <td>1</td>\n",
              "      <td>...</td>\n",
              "      <td>1</td>\n",
              "      <td>0</td>\n",
              "      <td>0</td>\n",
              "      <td>0</td>\n",
              "      <td>0</td>\n",
              "      <td>0</td>\n",
              "      <td>0</td>\n",
              "      <td>1</td>\n",
              "      <td>0</td>\n",
              "      <td>1</td>\n",
              "    </tr>\n",
              "    <tr>\n",
              "      <th>2</th>\n",
              "      <td>4.514374</td>\n",
              "      <td>7.412415</td>\n",
              "      <td>3.935887</td>\n",
              "      <td>7.509225</td>\n",
              "      <td>1.205779</td>\n",
              "      <td>1</td>\n",
              "      <td>0</td>\n",
              "      <td>1</td>\n",
              "      <td>0</td>\n",
              "      <td>1</td>\n",
              "      <td>...</td>\n",
              "      <td>1</td>\n",
              "      <td>0</td>\n",
              "      <td>0</td>\n",
              "      <td>0</td>\n",
              "      <td>0</td>\n",
              "      <td>0</td>\n",
              "      <td>0</td>\n",
              "      <td>1</td>\n",
              "      <td>0</td>\n",
              "      <td>1</td>\n",
              "    </tr>\n",
              "    <tr>\n",
              "      <th>3</th>\n",
              "      <td>6.165974</td>\n",
              "      <td>6.842230</td>\n",
              "      <td>4.553282</td>\n",
              "      <td>7.771174</td>\n",
              "      <td>0.689017</td>\n",
              "      <td>0</td>\n",
              "      <td>1</td>\n",
              "      <td>1</td>\n",
              "      <td>0</td>\n",
              "      <td>1</td>\n",
              "      <td>...</td>\n",
              "      <td>1</td>\n",
              "      <td>0</td>\n",
              "      <td>0</td>\n",
              "      <td>0</td>\n",
              "      <td>0</td>\n",
              "      <td>0</td>\n",
              "      <td>0</td>\n",
              "      <td>1</td>\n",
              "      <td>0</td>\n",
              "      <td>1</td>\n",
              "    </tr>\n",
              "    <tr>\n",
              "      <th>4</th>\n",
              "      <td>6.276081</td>\n",
              "      <td>6.842230</td>\n",
              "      <td>6.829922</td>\n",
              "      <td>7.116300</td>\n",
              "      <td>0.516762</td>\n",
              "      <td>1</td>\n",
              "      <td>0</td>\n",
              "      <td>1</td>\n",
              "      <td>0</td>\n",
              "      <td>0</td>\n",
              "      <td>...</td>\n",
              "      <td>1</td>\n",
              "      <td>0</td>\n",
              "      <td>0</td>\n",
              "      <td>0</td>\n",
              "      <td>0</td>\n",
              "      <td>0</td>\n",
              "      <td>0</td>\n",
              "      <td>1</td>\n",
              "      <td>0</td>\n",
              "      <td>1</td>\n",
              "    </tr>\n",
              "    <tr>\n",
              "      <th>...</th>\n",
              "      <td>...</td>\n",
              "      <td>...</td>\n",
              "      <td>...</td>\n",
              "      <td>...</td>\n",
              "      <td>...</td>\n",
              "      <td>...</td>\n",
              "      <td>...</td>\n",
              "      <td>...</td>\n",
              "      <td>...</td>\n",
              "      <td>...</td>\n",
              "      <td>...</td>\n",
              "      <td>...</td>\n",
              "      <td>...</td>\n",
              "      <td>...</td>\n",
              "      <td>...</td>\n",
              "      <td>...</td>\n",
              "      <td>...</td>\n",
              "      <td>...</td>\n",
              "      <td>...</td>\n",
              "      <td>...</td>\n",
              "      <td>...</td>\n",
              "    </tr>\n",
              "    <tr>\n",
              "      <th>298</th>\n",
              "      <td>6.276081</td>\n",
              "      <td>7.982601</td>\n",
              "      <td>4.649749</td>\n",
              "      <td>5.369969</td>\n",
              "      <td>0.172254</td>\n",
              "      <td>1</td>\n",
              "      <td>0</td>\n",
              "      <td>1</td>\n",
              "      <td>0</td>\n",
              "      <td>0</td>\n",
              "      <td>...</td>\n",
              "      <td>1</td>\n",
              "      <td>0</td>\n",
              "      <td>0</td>\n",
              "      <td>0</td>\n",
              "      <td>0</td>\n",
              "      <td>0</td>\n",
              "      <td>0</td>\n",
              "      <td>0</td>\n",
              "      <td>1</td>\n",
              "      <td>0</td>\n",
              "    </tr>\n",
              "    <tr>\n",
              "      <th>299</th>\n",
              "      <td>4.954801</td>\n",
              "      <td>6.272044</td>\n",
              "      <td>5.093501</td>\n",
              "      <td>5.762893</td>\n",
              "      <td>1.033525</td>\n",
              "      <td>0</td>\n",
              "      <td>1</td>\n",
              "      <td>1</td>\n",
              "      <td>0</td>\n",
              "      <td>1</td>\n",
              "      <td>...</td>\n",
              "      <td>1</td>\n",
              "      <td>0</td>\n",
              "      <td>0</td>\n",
              "      <td>0</td>\n",
              "      <td>0</td>\n",
              "      <td>0</td>\n",
              "      <td>0</td>\n",
              "      <td>0</td>\n",
              "      <td>1</td>\n",
              "      <td>0</td>\n",
              "    </tr>\n",
              "    <tr>\n",
              "      <th>300</th>\n",
              "      <td>7.487254</td>\n",
              "      <td>8.210676</td>\n",
              "      <td>3.723658</td>\n",
              "      <td>6.155818</td>\n",
              "      <td>2.928321</td>\n",
              "      <td>0</td>\n",
              "      <td>1</td>\n",
              "      <td>0</td>\n",
              "      <td>1</td>\n",
              "      <td>1</td>\n",
              "      <td>...</td>\n",
              "      <td>0</td>\n",
              "      <td>0</td>\n",
              "      <td>1</td>\n",
              "      <td>0</td>\n",
              "      <td>0</td>\n",
              "      <td>0</td>\n",
              "      <td>0</td>\n",
              "      <td>0</td>\n",
              "      <td>1</td>\n",
              "      <td>0</td>\n",
              "    </tr>\n",
              "    <tr>\n",
              "      <th>301</th>\n",
              "      <td>6.276081</td>\n",
              "      <td>7.412415</td>\n",
              "      <td>2.527457</td>\n",
              "      <td>5.020703</td>\n",
              "      <td>1.033525</td>\n",
              "      <td>0</td>\n",
              "      <td>1</td>\n",
              "      <td>1</td>\n",
              "      <td>0</td>\n",
              "      <td>0</td>\n",
              "      <td>...</td>\n",
              "      <td>0</td>\n",
              "      <td>1</td>\n",
              "      <td>0</td>\n",
              "      <td>0</td>\n",
              "      <td>0</td>\n",
              "      <td>0</td>\n",
              "      <td>0</td>\n",
              "      <td>0</td>\n",
              "      <td>1</td>\n",
              "      <td>0</td>\n",
              "    </tr>\n",
              "    <tr>\n",
              "      <th>302</th>\n",
              "      <td>6.276081</td>\n",
              "      <td>7.412415</td>\n",
              "      <td>4.553282</td>\n",
              "      <td>7.596541</td>\n",
              "      <td>0.000000</td>\n",
              "      <td>1</td>\n",
              "      <td>0</td>\n",
              "      <td>1</td>\n",
              "      <td>0</td>\n",
              "      <td>1</td>\n",
              "      <td>...</td>\n",
              "      <td>0</td>\n",
              "      <td>1</td>\n",
              "      <td>0</td>\n",
              "      <td>0</td>\n",
              "      <td>0</td>\n",
              "      <td>0</td>\n",
              "      <td>0</td>\n",
              "      <td>1</td>\n",
              "      <td>0</td>\n",
              "      <td>0</td>\n",
              "    </tr>\n",
              "  </tbody>\n",
              "</table>\n",
              "<p>303 rows × 31 columns</p>\n",
              "</div>\n",
              "      <button class=\"colab-df-convert\" onclick=\"convertToInteractive('df-030daa5f-60da-4222-a9b6-782dede142ec')\"\n",
              "              title=\"Convert this dataframe to an interactive table.\"\n",
              "              style=\"display:none;\">\n",
              "        \n",
              "  <svg xmlns=\"http://www.w3.org/2000/svg\" height=\"24px\"viewBox=\"0 0 24 24\"\n",
              "       width=\"24px\">\n",
              "    <path d=\"M0 0h24v24H0V0z\" fill=\"none\"/>\n",
              "    <path d=\"M18.56 5.44l.94 2.06.94-2.06 2.06-.94-2.06-.94-.94-2.06-.94 2.06-2.06.94zm-11 1L8.5 8.5l.94-2.06 2.06-.94-2.06-.94L8.5 2.5l-.94 2.06-2.06.94zm10 10l.94 2.06.94-2.06 2.06-.94-2.06-.94-.94-2.06-.94 2.06-2.06.94z\"/><path d=\"M17.41 7.96l-1.37-1.37c-.4-.4-.92-.59-1.43-.59-.52 0-1.04.2-1.43.59L10.3 9.45l-7.72 7.72c-.78.78-.78 2.05 0 2.83L4 21.41c.39.39.9.59 1.41.59.51 0 1.02-.2 1.41-.59l7.78-7.78 2.81-2.81c.8-.78.8-2.07 0-2.86zM5.41 20L4 18.59l7.72-7.72 1.47 1.35L5.41 20z\"/>\n",
              "  </svg>\n",
              "      </button>\n",
              "      \n",
              "  <style>\n",
              "    .colab-df-container {\n",
              "      display:flex;\n",
              "      flex-wrap:wrap;\n",
              "      gap: 12px;\n",
              "    }\n",
              "\n",
              "    .colab-df-convert {\n",
              "      background-color: #E8F0FE;\n",
              "      border: none;\n",
              "      border-radius: 50%;\n",
              "      cursor: pointer;\n",
              "      display: none;\n",
              "      fill: #1967D2;\n",
              "      height: 32px;\n",
              "      padding: 0 0 0 0;\n",
              "      width: 32px;\n",
              "    }\n",
              "\n",
              "    .colab-df-convert:hover {\n",
              "      background-color: #E2EBFA;\n",
              "      box-shadow: 0px 1px 2px rgba(60, 64, 67, 0.3), 0px 1px 3px 1px rgba(60, 64, 67, 0.15);\n",
              "      fill: #174EA6;\n",
              "    }\n",
              "\n",
              "    [theme=dark] .colab-df-convert {\n",
              "      background-color: #3B4455;\n",
              "      fill: #D2E3FC;\n",
              "    }\n",
              "\n",
              "    [theme=dark] .colab-df-convert:hover {\n",
              "      background-color: #434B5C;\n",
              "      box-shadow: 0px 1px 3px 1px rgba(0, 0, 0, 0.15);\n",
              "      filter: drop-shadow(0px 1px 2px rgba(0, 0, 0, 0.3));\n",
              "      fill: #FFFFFF;\n",
              "    }\n",
              "  </style>\n",
              "\n",
              "      <script>\n",
              "        const buttonEl =\n",
              "          document.querySelector('#df-030daa5f-60da-4222-a9b6-782dede142ec button.colab-df-convert');\n",
              "        buttonEl.style.display =\n",
              "          google.colab.kernel.accessAllowed ? 'block' : 'none';\n",
              "\n",
              "        async function convertToInteractive(key) {\n",
              "          const element = document.querySelector('#df-030daa5f-60da-4222-a9b6-782dede142ec');\n",
              "          const dataTable =\n",
              "            await google.colab.kernel.invokeFunction('convertToInteractive',\n",
              "                                                     [key], {});\n",
              "          if (!dataTable) return;\n",
              "\n",
              "          const docLinkHtml = 'Like what you see? Visit the ' +\n",
              "            '<a target=\"_blank\" href=https://colab.research.google.com/notebooks/data_table.ipynb>data table notebook</a>'\n",
              "            + ' to learn more about interactive tables.';\n",
              "          element.innerHTML = '';\n",
              "          dataTable['output_type'] = 'display_data';\n",
              "          await google.colab.output.renderOutput(dataTable, element);\n",
              "          const docLink = document.createElement('div');\n",
              "          docLink.innerHTML = docLinkHtml;\n",
              "          element.appendChild(docLink);\n",
              "        }\n",
              "      </script>\n",
              "    </div>\n",
              "  </div>\n",
              "  "
            ]
          },
          "metadata": {},
          "execution_count": 77
        }
      ]
    },
    {
      "cell_type": "code",
      "source": [
        "from keras.utils.np_utils import to_categorical"
      ],
      "metadata": {
        "id": "xE7m3JKZRCPD"
      },
      "execution_count": 78,
      "outputs": []
    },
    {
      "cell_type": "code",
      "source": [
        "train_data = normalizado.sample(frac=0.8,random_state=0)\n",
        "# El resto de datos los almacenamos en test_data:\n",
        "test_data = normalizado.drop(train_data.index)"
      ],
      "metadata": {
        "id": "0g-fUO4gOYcK"
      },
      "execution_count": 79,
      "outputs": []
    },
    {
      "cell_type": "code",
      "source": [
        "train_data"
      ],
      "metadata": {
        "id": "Q4Xavd5kOeOF",
        "outputId": "015ea051-52a0-40d2-e3db-bac7b1495e31",
        "colab": {
          "base_uri": "https://localhost:8080/",
          "height": 468
        }
      },
      "execution_count": 80,
      "outputs": [
        {
          "output_type": "execute_result",
          "data": {
            "text/plain": [
              "          age  trestbps      chol   thalach   oldpeak  sex_0  sex_1  fbs_0  \\\n",
              "225  7.707468  8.267694  3.357080  5.457285  2.239304      0      1      1   \n",
              "152  7.046828  9.693159  4.379639  6.767034  0.516762      0      1      1   \n",
              "228  6.496294  9.693159  5.556547  6.941667  0.172254      0      1      1   \n",
              "201  6.606401  7.127323  4.977740  6.155818  2.411558      0      1      1   \n",
              "52   6.826614  7.412415  4.456814  6.374109  1.550287      0      1      1   \n",
              "..        ...       ...       ...       ...       ...    ...    ...    ...   \n",
              "82   6.606401  5.815895  6.135354  6.985325  0.000000      1      0      1   \n",
              "285  5.064907  7.982601  6.000299  5.238994  1.550287      0      1      1   \n",
              "11   5.285121  7.412415  5.305731  6.068501  0.172254      1      0      1   \n",
              "119  5.064907  7.868564  4.688336  6.636059  0.000000      1      0      1   \n",
              "102  6.936721  7.982601  3.762245  7.814833  0.000000      1      0      1   \n",
              "\n",
              "     fbs_1  exang_0  ...  ca_0  ca_1  ca_2  ca_3  ca_4  thal_0  thal_1  \\\n",
              "225      0        0  ...     1     0     0     0     0       0       0   \n",
              "152      0        1  ...     1     0     0     0     0       0       0   \n",
              "228      0        1  ...     1     0     0     0     0       0       0   \n",
              "201      0        0  ...     0     1     0     0     0       0       0   \n",
              "52       0        1  ...     0     0     0     1     0       0       0   \n",
              "..     ...      ...  ...   ...   ...   ...   ...   ...     ...     ...   \n",
              "82       0        1  ...     0     1     0     0     0       0       0   \n",
              "285      0        0  ...     0     0     1     0     0       0       0   \n",
              "11       0        1  ...     1     0     0     0     0       0       0   \n",
              "119      0        0  ...     1     0     0     0     0       0       0   \n",
              "102      0        1  ...     0     0     1     0     0       0       0   \n",
              "\n",
              "     thal_2  thal_3  target  \n",
              "225       0       1       0  \n",
              "152       0       1       1  \n",
              "228       0       1       0  \n",
              "201       0       1       0  \n",
              "52        0       1       1  \n",
              "..      ...     ...     ...  \n",
              "82        1       0       1  \n",
              "285       0       1       0  \n",
              "11        1       0       1  \n",
              "119       1       0       1  \n",
              "102       1       0       1  \n",
              "\n",
              "[242 rows x 31 columns]"
            ],
            "text/html": [
              "\n",
              "  <div id=\"df-b7ab41cc-1d05-444f-ab43-2a94bc608be2\">\n",
              "    <div class=\"colab-df-container\">\n",
              "      <div>\n",
              "<style scoped>\n",
              "    .dataframe tbody tr th:only-of-type {\n",
              "        vertical-align: middle;\n",
              "    }\n",
              "\n",
              "    .dataframe tbody tr th {\n",
              "        vertical-align: top;\n",
              "    }\n",
              "\n",
              "    .dataframe thead th {\n",
              "        text-align: right;\n",
              "    }\n",
              "</style>\n",
              "<table border=\"1\" class=\"dataframe\">\n",
              "  <thead>\n",
              "    <tr style=\"text-align: right;\">\n",
              "      <th></th>\n",
              "      <th>age</th>\n",
              "      <th>trestbps</th>\n",
              "      <th>chol</th>\n",
              "      <th>thalach</th>\n",
              "      <th>oldpeak</th>\n",
              "      <th>sex_0</th>\n",
              "      <th>sex_1</th>\n",
              "      <th>fbs_0</th>\n",
              "      <th>fbs_1</th>\n",
              "      <th>exang_0</th>\n",
              "      <th>...</th>\n",
              "      <th>ca_0</th>\n",
              "      <th>ca_1</th>\n",
              "      <th>ca_2</th>\n",
              "      <th>ca_3</th>\n",
              "      <th>ca_4</th>\n",
              "      <th>thal_0</th>\n",
              "      <th>thal_1</th>\n",
              "      <th>thal_2</th>\n",
              "      <th>thal_3</th>\n",
              "      <th>target</th>\n",
              "    </tr>\n",
              "  </thead>\n",
              "  <tbody>\n",
              "    <tr>\n",
              "      <th>225</th>\n",
              "      <td>7.707468</td>\n",
              "      <td>8.267694</td>\n",
              "      <td>3.357080</td>\n",
              "      <td>5.457285</td>\n",
              "      <td>2.239304</td>\n",
              "      <td>0</td>\n",
              "      <td>1</td>\n",
              "      <td>1</td>\n",
              "      <td>0</td>\n",
              "      <td>0</td>\n",
              "      <td>...</td>\n",
              "      <td>1</td>\n",
              "      <td>0</td>\n",
              "      <td>0</td>\n",
              "      <td>0</td>\n",
              "      <td>0</td>\n",
              "      <td>0</td>\n",
              "      <td>0</td>\n",
              "      <td>0</td>\n",
              "      <td>1</td>\n",
              "      <td>0</td>\n",
              "    </tr>\n",
              "    <tr>\n",
              "      <th>152</th>\n",
              "      <td>7.046828</td>\n",
              "      <td>9.693159</td>\n",
              "      <td>4.379639</td>\n",
              "      <td>6.767034</td>\n",
              "      <td>0.516762</td>\n",
              "      <td>0</td>\n",
              "      <td>1</td>\n",
              "      <td>1</td>\n",
              "      <td>0</td>\n",
              "      <td>1</td>\n",
              "      <td>...</td>\n",
              "      <td>1</td>\n",
              "      <td>0</td>\n",
              "      <td>0</td>\n",
              "      <td>0</td>\n",
              "      <td>0</td>\n",
              "      <td>0</td>\n",
              "      <td>0</td>\n",
              "      <td>0</td>\n",
              "      <td>1</td>\n",
              "      <td>1</td>\n",
              "    </tr>\n",
              "    <tr>\n",
              "      <th>228</th>\n",
              "      <td>6.496294</td>\n",
              "      <td>9.693159</td>\n",
              "      <td>5.556547</td>\n",
              "      <td>6.941667</td>\n",
              "      <td>0.172254</td>\n",
              "      <td>0</td>\n",
              "      <td>1</td>\n",
              "      <td>1</td>\n",
              "      <td>0</td>\n",
              "      <td>1</td>\n",
              "      <td>...</td>\n",
              "      <td>1</td>\n",
              "      <td>0</td>\n",
              "      <td>0</td>\n",
              "      <td>0</td>\n",
              "      <td>0</td>\n",
              "      <td>0</td>\n",
              "      <td>0</td>\n",
              "      <td>0</td>\n",
              "      <td>1</td>\n",
              "      <td>0</td>\n",
              "    </tr>\n",
              "    <tr>\n",
              "      <th>201</th>\n",
              "      <td>6.606401</td>\n",
              "      <td>7.127323</td>\n",
              "      <td>4.977740</td>\n",
              "      <td>6.155818</td>\n",
              "      <td>2.411558</td>\n",
              "      <td>0</td>\n",
              "      <td>1</td>\n",
              "      <td>1</td>\n",
              "      <td>0</td>\n",
              "      <td>0</td>\n",
              "      <td>...</td>\n",
              "      <td>0</td>\n",
              "      <td>1</td>\n",
              "      <td>0</td>\n",
              "      <td>0</td>\n",
              "      <td>0</td>\n",
              "      <td>0</td>\n",
              "      <td>0</td>\n",
              "      <td>0</td>\n",
              "      <td>1</td>\n",
              "      <td>0</td>\n",
              "    </tr>\n",
              "    <tr>\n",
              "      <th>52</th>\n",
              "      <td>6.826614</td>\n",
              "      <td>7.412415</td>\n",
              "      <td>4.456814</td>\n",
              "      <td>6.374109</td>\n",
              "      <td>1.550287</td>\n",
              "      <td>0</td>\n",
              "      <td>1</td>\n",
              "      <td>1</td>\n",
              "      <td>0</td>\n",
              "      <td>1</td>\n",
              "      <td>...</td>\n",
              "      <td>0</td>\n",
              "      <td>0</td>\n",
              "      <td>0</td>\n",
              "      <td>1</td>\n",
              "      <td>0</td>\n",
              "      <td>0</td>\n",
              "      <td>0</td>\n",
              "      <td>0</td>\n",
              "      <td>1</td>\n",
              "      <td>1</td>\n",
              "    </tr>\n",
              "    <tr>\n",
              "      <th>...</th>\n",
              "      <td>...</td>\n",
              "      <td>...</td>\n",
              "      <td>...</td>\n",
              "      <td>...</td>\n",
              "      <td>...</td>\n",
              "      <td>...</td>\n",
              "      <td>...</td>\n",
              "      <td>...</td>\n",
              "      <td>...</td>\n",
              "      <td>...</td>\n",
              "      <td>...</td>\n",
              "      <td>...</td>\n",
              "      <td>...</td>\n",
              "      <td>...</td>\n",
              "      <td>...</td>\n",
              "      <td>...</td>\n",
              "      <td>...</td>\n",
              "      <td>...</td>\n",
              "      <td>...</td>\n",
              "      <td>...</td>\n",
              "      <td>...</td>\n",
              "    </tr>\n",
              "    <tr>\n",
              "      <th>82</th>\n",
              "      <td>6.606401</td>\n",
              "      <td>5.815895</td>\n",
              "      <td>6.135354</td>\n",
              "      <td>6.985325</td>\n",
              "      <td>0.000000</td>\n",
              "      <td>1</td>\n",
              "      <td>0</td>\n",
              "      <td>1</td>\n",
              "      <td>0</td>\n",
              "      <td>1</td>\n",
              "      <td>...</td>\n",
              "      <td>0</td>\n",
              "      <td>1</td>\n",
              "      <td>0</td>\n",
              "      <td>0</td>\n",
              "      <td>0</td>\n",
              "      <td>0</td>\n",
              "      <td>0</td>\n",
              "      <td>1</td>\n",
              "      <td>0</td>\n",
              "      <td>1</td>\n",
              "    </tr>\n",
              "    <tr>\n",
              "      <th>285</th>\n",
              "      <td>5.064907</td>\n",
              "      <td>7.982601</td>\n",
              "      <td>6.000299</td>\n",
              "      <td>5.238994</td>\n",
              "      <td>1.550287</td>\n",
              "      <td>0</td>\n",
              "      <td>1</td>\n",
              "      <td>1</td>\n",
              "      <td>0</td>\n",
              "      <td>0</td>\n",
              "      <td>...</td>\n",
              "      <td>0</td>\n",
              "      <td>0</td>\n",
              "      <td>1</td>\n",
              "      <td>0</td>\n",
              "      <td>0</td>\n",
              "      <td>0</td>\n",
              "      <td>0</td>\n",
              "      <td>0</td>\n",
              "      <td>1</td>\n",
              "      <td>0</td>\n",
              "    </tr>\n",
              "    <tr>\n",
              "      <th>11</th>\n",
              "      <td>5.285121</td>\n",
              "      <td>7.412415</td>\n",
              "      <td>5.305731</td>\n",
              "      <td>6.068501</td>\n",
              "      <td>0.172254</td>\n",
              "      <td>1</td>\n",
              "      <td>0</td>\n",
              "      <td>1</td>\n",
              "      <td>0</td>\n",
              "      <td>1</td>\n",
              "      <td>...</td>\n",
              "      <td>1</td>\n",
              "      <td>0</td>\n",
              "      <td>0</td>\n",
              "      <td>0</td>\n",
              "      <td>0</td>\n",
              "      <td>0</td>\n",
              "      <td>0</td>\n",
              "      <td>1</td>\n",
              "      <td>0</td>\n",
              "      <td>1</td>\n",
              "    </tr>\n",
              "    <tr>\n",
              "      <th>119</th>\n",
              "      <td>5.064907</td>\n",
              "      <td>7.868564</td>\n",
              "      <td>4.688336</td>\n",
              "      <td>6.636059</td>\n",
              "      <td>0.000000</td>\n",
              "      <td>1</td>\n",
              "      <td>0</td>\n",
              "      <td>1</td>\n",
              "      <td>0</td>\n",
              "      <td>0</td>\n",
              "      <td>...</td>\n",
              "      <td>1</td>\n",
              "      <td>0</td>\n",
              "      <td>0</td>\n",
              "      <td>0</td>\n",
              "      <td>0</td>\n",
              "      <td>0</td>\n",
              "      <td>0</td>\n",
              "      <td>1</td>\n",
              "      <td>0</td>\n",
              "      <td>1</td>\n",
              "    </tr>\n",
              "    <tr>\n",
              "      <th>102</th>\n",
              "      <td>6.936721</td>\n",
              "      <td>7.982601</td>\n",
              "      <td>3.762245</td>\n",
              "      <td>7.814833</td>\n",
              "      <td>0.000000</td>\n",
              "      <td>1</td>\n",
              "      <td>0</td>\n",
              "      <td>1</td>\n",
              "      <td>0</td>\n",
              "      <td>1</td>\n",
              "      <td>...</td>\n",
              "      <td>0</td>\n",
              "      <td>0</td>\n",
              "      <td>1</td>\n",
              "      <td>0</td>\n",
              "      <td>0</td>\n",
              "      <td>0</td>\n",
              "      <td>0</td>\n",
              "      <td>1</td>\n",
              "      <td>0</td>\n",
              "      <td>1</td>\n",
              "    </tr>\n",
              "  </tbody>\n",
              "</table>\n",
              "<p>242 rows × 31 columns</p>\n",
              "</div>\n",
              "      <button class=\"colab-df-convert\" onclick=\"convertToInteractive('df-b7ab41cc-1d05-444f-ab43-2a94bc608be2')\"\n",
              "              title=\"Convert this dataframe to an interactive table.\"\n",
              "              style=\"display:none;\">\n",
              "        \n",
              "  <svg xmlns=\"http://www.w3.org/2000/svg\" height=\"24px\"viewBox=\"0 0 24 24\"\n",
              "       width=\"24px\">\n",
              "    <path d=\"M0 0h24v24H0V0z\" fill=\"none\"/>\n",
              "    <path d=\"M18.56 5.44l.94 2.06.94-2.06 2.06-.94-2.06-.94-.94-2.06-.94 2.06-2.06.94zm-11 1L8.5 8.5l.94-2.06 2.06-.94-2.06-.94L8.5 2.5l-.94 2.06-2.06.94zm10 10l.94 2.06.94-2.06 2.06-.94-2.06-.94-.94-2.06-.94 2.06-2.06.94z\"/><path d=\"M17.41 7.96l-1.37-1.37c-.4-.4-.92-.59-1.43-.59-.52 0-1.04.2-1.43.59L10.3 9.45l-7.72 7.72c-.78.78-.78 2.05 0 2.83L4 21.41c.39.39.9.59 1.41.59.51 0 1.02-.2 1.41-.59l7.78-7.78 2.81-2.81c.8-.78.8-2.07 0-2.86zM5.41 20L4 18.59l7.72-7.72 1.47 1.35L5.41 20z\"/>\n",
              "  </svg>\n",
              "      </button>\n",
              "      \n",
              "  <style>\n",
              "    .colab-df-container {\n",
              "      display:flex;\n",
              "      flex-wrap:wrap;\n",
              "      gap: 12px;\n",
              "    }\n",
              "\n",
              "    .colab-df-convert {\n",
              "      background-color: #E8F0FE;\n",
              "      border: none;\n",
              "      border-radius: 50%;\n",
              "      cursor: pointer;\n",
              "      display: none;\n",
              "      fill: #1967D2;\n",
              "      height: 32px;\n",
              "      padding: 0 0 0 0;\n",
              "      width: 32px;\n",
              "    }\n",
              "\n",
              "    .colab-df-convert:hover {\n",
              "      background-color: #E2EBFA;\n",
              "      box-shadow: 0px 1px 2px rgba(60, 64, 67, 0.3), 0px 1px 3px 1px rgba(60, 64, 67, 0.15);\n",
              "      fill: #174EA6;\n",
              "    }\n",
              "\n",
              "    [theme=dark] .colab-df-convert {\n",
              "      background-color: #3B4455;\n",
              "      fill: #D2E3FC;\n",
              "    }\n",
              "\n",
              "    [theme=dark] .colab-df-convert:hover {\n",
              "      background-color: #434B5C;\n",
              "      box-shadow: 0px 1px 3px 1px rgba(0, 0, 0, 0.15);\n",
              "      filter: drop-shadow(0px 1px 2px rgba(0, 0, 0, 0.3));\n",
              "      fill: #FFFFFF;\n",
              "    }\n",
              "  </style>\n",
              "\n",
              "      <script>\n",
              "        const buttonEl =\n",
              "          document.querySelector('#df-b7ab41cc-1d05-444f-ab43-2a94bc608be2 button.colab-df-convert');\n",
              "        buttonEl.style.display =\n",
              "          google.colab.kernel.accessAllowed ? 'block' : 'none';\n",
              "\n",
              "        async function convertToInteractive(key) {\n",
              "          const element = document.querySelector('#df-b7ab41cc-1d05-444f-ab43-2a94bc608be2');\n",
              "          const dataTable =\n",
              "            await google.colab.kernel.invokeFunction('convertToInteractive',\n",
              "                                                     [key], {});\n",
              "          if (!dataTable) return;\n",
              "\n",
              "          const docLinkHtml = 'Like what you see? Visit the ' +\n",
              "            '<a target=\"_blank\" href=https://colab.research.google.com/notebooks/data_table.ipynb>data table notebook</a>'\n",
              "            + ' to learn more about interactive tables.';\n",
              "          element.innerHTML = '';\n",
              "          dataTable['output_type'] = 'display_data';\n",
              "          await google.colab.output.renderOutput(dataTable, element);\n",
              "          const docLink = document.createElement('div');\n",
              "          docLink.innerHTML = docLinkHtml;\n",
              "          element.appendChild(docLink);\n",
              "        }\n",
              "      </script>\n",
              "    </div>\n",
              "  </div>\n",
              "  "
            ]
          },
          "metadata": {},
          "execution_count": 80
        }
      ]
    },
    {
      "cell_type": "code",
      "source": [
        "train_labels = train_data.pop('target')\n",
        "test_labels = test_data.pop('target')"
      ],
      "metadata": {
        "id": "8pVuf2mBRjlO"
      },
      "execution_count": 81,
      "outputs": []
    },
    {
      "cell_type": "markdown",
      "source": [
        "##Creamos la red"
      ],
      "metadata": {
        "id": "pEH1tYz3Q37D"
      }
    },
    {
      "cell_type": "code",
      "source": [
        "import tensorflow as tf\n",
        "\n",
        "from keras import models\n",
        "from keras import layers\n",
        "\n",
        "model = models.Sequential()\n",
        "model.add(layers.Dense(16, activation='relu', input_shape=(30,)))\n",
        "model.add(layers.Dense(16, activation='relu'))\n",
        "model.add(layers.Dense(1, activation='sigmoid'))"
      ],
      "metadata": {
        "id": "UR0XxJQGSMSV"
      },
      "execution_count": 82,
      "outputs": []
    },
    {
      "cell_type": "markdown",
      "source": [
        "DATOS VALIDACION"
      ],
      "metadata": {
        "id": "xIvm06DM0Qwo"
      }
    },
    {
      "cell_type": "code",
      "source": [
        "x_val = train_data[:160]\n",
        "partial_x_train = train_data[160:]\n",
        "\n",
        "y_val = train_labels[:160]\n",
        "partial_y_train = train_labels[160:]"
      ],
      "metadata": {
        "id": "WPtpx-dD0H3Y"
      },
      "execution_count": 83,
      "outputs": []
    },
    {
      "cell_type": "code",
      "source": [
        "model.compile(optimizer='rmsprop',\n",
        "              loss='binary_crossentropy',\n",
        "              metrics=['accuracy'])\n",
        "\n",
        "history = model.fit(partial_x_train,\n",
        "                    partial_y_train,\n",
        "                    epochs=50,\n",
        "                    batch_size=40,   #con 60 accuracy tdo el rato 4146  (epochs = 20)\n",
        "                    validation_data=(x_val, y_val))"
      ],
      "metadata": {
        "colab": {
          "base_uri": "https://localhost:8080/"
        },
        "id": "y5lwGLLw0eMG",
        "outputId": "6a74086a-fe86-4abd-aad0-d8890b2c8e6c"
      },
      "execution_count": 84,
      "outputs": [
        {
          "output_type": "stream",
          "name": "stdout",
          "text": [
            "Epoch 1/50\n",
            "1/3 [=========>....................] - ETA: 2s - loss: 0.6771 - accuracy: 0.6000WARNING:tensorflow:5 out of the last 207 calls to <function Model.make_test_function.<locals>.test_function at 0x7fba20f56200> triggered tf.function retracing. Tracing is expensive and the excessive number of tracings could be due to (1) creating @tf.function repeatedly in a loop, (2) passing tensors with different shapes, (3) passing Python objects instead of tensors. For (1), please define your @tf.function outside of the loop. For (2), @tf.function has experimental_relax_shapes=True option that relaxes argument shapes that can avoid unnecessary retracing. For (3), please refer to https://www.tensorflow.org/guide/function#controlling_retracing and https://www.tensorflow.org/api_docs/python/tf/function for  more details.\n",
            "3/3 [==============================] - 1s 173ms/step - loss: 0.6790 - accuracy: 0.5854 - val_loss: 0.7297 - val_accuracy: 0.5375\n",
            "Epoch 2/50\n",
            "3/3 [==============================] - 0s 35ms/step - loss: 0.6552 - accuracy: 0.5854 - val_loss: 0.6961 - val_accuracy: 0.5375\n",
            "Epoch 3/50\n",
            "3/3 [==============================] - 0s 27ms/step - loss: 0.6341 - accuracy: 0.5854 - val_loss: 0.7014 - val_accuracy: 0.5375\n",
            "Epoch 4/50\n",
            "3/3 [==============================] - 0s 48ms/step - loss: 0.6251 - accuracy: 0.5854 - val_loss: 0.7020 - val_accuracy: 0.5375\n",
            "Epoch 5/50\n",
            "3/3 [==============================] - 0s 44ms/step - loss: 0.6211 - accuracy: 0.5976 - val_loss: 0.7019 - val_accuracy: 0.5375\n",
            "Epoch 6/50\n",
            "3/3 [==============================] - 0s 28ms/step - loss: 0.6169 - accuracy: 0.5854 - val_loss: 0.6694 - val_accuracy: 0.5437\n",
            "Epoch 7/50\n",
            "3/3 [==============================] - 0s 26ms/step - loss: 0.5956 - accuracy: 0.6098 - val_loss: 0.6515 - val_accuracy: 0.5562\n",
            "Epoch 8/50\n",
            "3/3 [==============================] - 0s 48ms/step - loss: 0.5886 - accuracy: 0.6098 - val_loss: 0.6479 - val_accuracy: 0.5625\n",
            "Epoch 9/50\n",
            "3/3 [==============================] - 0s 59ms/step - loss: 0.5805 - accuracy: 0.6341 - val_loss: 0.6363 - val_accuracy: 0.6062\n",
            "Epoch 10/50\n",
            "3/3 [==============================] - 0s 60ms/step - loss: 0.5761 - accuracy: 0.6951 - val_loss: 0.6385 - val_accuracy: 0.5750\n",
            "Epoch 11/50\n",
            "3/3 [==============================] - 0s 38ms/step - loss: 0.5689 - accuracy: 0.6463 - val_loss: 0.6273 - val_accuracy: 0.6250\n",
            "Epoch 12/50\n",
            "3/3 [==============================] - 0s 38ms/step - loss: 0.5640 - accuracy: 0.7073 - val_loss: 0.6223 - val_accuracy: 0.6250\n",
            "Epoch 13/50\n",
            "3/3 [==============================] - 0s 38ms/step - loss: 0.5570 - accuracy: 0.7561 - val_loss: 0.6295 - val_accuracy: 0.5813\n",
            "Epoch 14/50\n",
            "3/3 [==============================] - 0s 36ms/step - loss: 0.5513 - accuracy: 0.6707 - val_loss: 0.6205 - val_accuracy: 0.6062\n",
            "Epoch 15/50\n",
            "3/3 [==============================] - 0s 43ms/step - loss: 0.5459 - accuracy: 0.7195 - val_loss: 0.6125 - val_accuracy: 0.6313\n",
            "Epoch 16/50\n",
            "3/3 [==============================] - 0s 74ms/step - loss: 0.5417 - accuracy: 0.7683 - val_loss: 0.6052 - val_accuracy: 0.6500\n",
            "Epoch 17/50\n",
            "3/3 [==============================] - 0s 71ms/step - loss: 0.5355 - accuracy: 0.7805 - val_loss: 0.6154 - val_accuracy: 0.6000\n",
            "Epoch 18/50\n",
            "3/3 [==============================] - 0s 28ms/step - loss: 0.5309 - accuracy: 0.7073 - val_loss: 0.6046 - val_accuracy: 0.6375\n",
            "Epoch 19/50\n",
            "3/3 [==============================] - 0s 48ms/step - loss: 0.5227 - accuracy: 0.7683 - val_loss: 0.5965 - val_accuracy: 0.6500\n",
            "Epoch 20/50\n",
            "3/3 [==============================] - 0s 37ms/step - loss: 0.5164 - accuracy: 0.7805 - val_loss: 0.6103 - val_accuracy: 0.6125\n",
            "Epoch 21/50\n",
            "3/3 [==============================] - 0s 40ms/step - loss: 0.5151 - accuracy: 0.7195 - val_loss: 0.6098 - val_accuracy: 0.6125\n",
            "Epoch 22/50\n",
            "3/3 [==============================] - 0s 26ms/step - loss: 0.5110 - accuracy: 0.7317 - val_loss: 0.6154 - val_accuracy: 0.6000\n",
            "Epoch 23/50\n",
            "3/3 [==============================] - 0s 22ms/step - loss: 0.5098 - accuracy: 0.7317 - val_loss: 0.5870 - val_accuracy: 0.6625\n",
            "Epoch 24/50\n",
            "3/3 [==============================] - 0s 16ms/step - loss: 0.4954 - accuracy: 0.7805 - val_loss: 0.5970 - val_accuracy: 0.6438\n",
            "Epoch 25/50\n",
            "3/3 [==============================] - 0s 16ms/step - loss: 0.4940 - accuracy: 0.7683 - val_loss: 0.5759 - val_accuracy: 0.6875\n",
            "Epoch 26/50\n",
            "3/3 [==============================] - 0s 15ms/step - loss: 0.4863 - accuracy: 0.8171 - val_loss: 0.5842 - val_accuracy: 0.6625\n",
            "Epoch 27/50\n",
            "3/3 [==============================] - 0s 19ms/step - loss: 0.4854 - accuracy: 0.7927 - val_loss: 0.5694 - val_accuracy: 0.6938\n",
            "Epoch 28/50\n",
            "3/3 [==============================] - 0s 22ms/step - loss: 0.4778 - accuracy: 0.8171 - val_loss: 0.5531 - val_accuracy: 0.7812\n",
            "Epoch 29/50\n",
            "3/3 [==============================] - 0s 25ms/step - loss: 0.4719 - accuracy: 0.8537 - val_loss: 0.5455 - val_accuracy: 0.7875\n",
            "Epoch 30/50\n",
            "3/3 [==============================] - 0s 15ms/step - loss: 0.4661 - accuracy: 0.8659 - val_loss: 0.5452 - val_accuracy: 0.7688\n",
            "Epoch 31/50\n",
            "3/3 [==============================] - 0s 16ms/step - loss: 0.4581 - accuracy: 0.8537 - val_loss: 0.5577 - val_accuracy: 0.6938\n",
            "Epoch 32/50\n",
            "3/3 [==============================] - 0s 16ms/step - loss: 0.4573 - accuracy: 0.8415 - val_loss: 0.5641 - val_accuracy: 0.6875\n",
            "Epoch 33/50\n",
            "3/3 [==============================] - 0s 22ms/step - loss: 0.4542 - accuracy: 0.8171 - val_loss: 0.5737 - val_accuracy: 0.6750\n",
            "Epoch 34/50\n",
            "3/3 [==============================] - 0s 16ms/step - loss: 0.4546 - accuracy: 0.7927 - val_loss: 0.5545 - val_accuracy: 0.6938\n",
            "Epoch 35/50\n",
            "3/3 [==============================] - 0s 16ms/step - loss: 0.4427 - accuracy: 0.8293 - val_loss: 0.5531 - val_accuracy: 0.7000\n",
            "Epoch 36/50\n",
            "3/3 [==============================] - 0s 15ms/step - loss: 0.4413 - accuracy: 0.8171 - val_loss: 0.5659 - val_accuracy: 0.6750\n",
            "Epoch 37/50\n",
            "3/3 [==============================] - 0s 16ms/step - loss: 0.4411 - accuracy: 0.8171 - val_loss: 0.5355 - val_accuracy: 0.7312\n",
            "Epoch 38/50\n",
            "3/3 [==============================] - 0s 23ms/step - loss: 0.4288 - accuracy: 0.8415 - val_loss: 0.5113 - val_accuracy: 0.8062\n",
            "Epoch 39/50\n",
            "3/3 [==============================] - 0s 16ms/step - loss: 0.4275 - accuracy: 0.9024 - val_loss: 0.5058 - val_accuracy: 0.8062\n",
            "Epoch 40/50\n",
            "3/3 [==============================] - 0s 23ms/step - loss: 0.4241 - accuracy: 0.8902 - val_loss: 0.5025 - val_accuracy: 0.7937\n",
            "Epoch 41/50\n",
            "3/3 [==============================] - 0s 16ms/step - loss: 0.4204 - accuracy: 0.8902 - val_loss: 0.4975 - val_accuracy: 0.8000\n",
            "Epoch 42/50\n",
            "3/3 [==============================] - 0s 22ms/step - loss: 0.4145 - accuracy: 0.8902 - val_loss: 0.4995 - val_accuracy: 0.8000\n",
            "Epoch 43/50\n",
            "3/3 [==============================] - 0s 15ms/step - loss: 0.4062 - accuracy: 0.8902 - val_loss: 0.5162 - val_accuracy: 0.7500\n",
            "Epoch 44/50\n",
            "3/3 [==============================] - 0s 23ms/step - loss: 0.4038 - accuracy: 0.8415 - val_loss: 0.5066 - val_accuracy: 0.7750\n",
            "Epoch 45/50\n",
            "3/3 [==============================] - 0s 22ms/step - loss: 0.4007 - accuracy: 0.8780 - val_loss: 0.4919 - val_accuracy: 0.8000\n",
            "Epoch 46/50\n",
            "3/3 [==============================] - 0s 22ms/step - loss: 0.4047 - accuracy: 0.8902 - val_loss: 0.4953 - val_accuracy: 0.8000\n",
            "Epoch 47/50\n",
            "3/3 [==============================] - 0s 16ms/step - loss: 0.3957 - accuracy: 0.9024 - val_loss: 0.5019 - val_accuracy: 0.7812\n",
            "Epoch 48/50\n",
            "3/3 [==============================] - 0s 15ms/step - loss: 0.3922 - accuracy: 0.8780 - val_loss: 0.5085 - val_accuracy: 0.7750\n",
            "Epoch 49/50\n",
            "3/3 [==============================] - 0s 24ms/step - loss: 0.3901 - accuracy: 0.8537 - val_loss: 0.5254 - val_accuracy: 0.7312\n",
            "Epoch 50/50\n",
            "3/3 [==============================] - 0s 21ms/step - loss: 0.3916 - accuracy: 0.8293 - val_loss: 0.4993 - val_accuracy: 0.7812\n"
          ]
        }
      ]
    },
    {
      "cell_type": "markdown",
      "source": [
        "Graficamos datos obtenidos"
      ],
      "metadata": {
        "id": "kC2psPlWilOW"
      }
    },
    {
      "cell_type": "code",
      "source": [
        "import matplotlib.pyplot as plt\n",
        "\n",
        "acc = history.history['accuracy']\n",
        "val_acc = history.history['val_accuracy']\n",
        "loss = history.history['loss']\n",
        "val_loss = history.history['val_loss']\n",
        "\n",
        "epochs = range(1, len(acc) + 1)\n",
        "\n",
        "# \"bo\" es para \"punto azun\"\n",
        "plt.plot(epochs, loss, 'bo', label='Pérdida de Entrenamiento')\n",
        "# \"b\" es para \"linea continua azul\"\n",
        "plt.plot(epochs, val_loss, 'b', label='Pérdida de Validación')\n",
        "plt.title('Pérdida de Entrenamiento y Validación')\n",
        "plt.xlabel('Epochs')\n",
        "plt.ylabel('Loss')\n",
        "plt.legend()\n",
        "plt.show()"
      ],
      "metadata": {
        "id": "1u1yZC5Xgs0F",
        "outputId": "975cb55a-2637-488f-d27e-610e70afcada",
        "colab": {
          "base_uri": "https://localhost:8080/",
          "height": 295
        }
      },
      "execution_count": 85,
      "outputs": [
        {
          "output_type": "display_data",
          "data": {
            "text/plain": [
              "<Figure size 432x288 with 1 Axes>"
            ],
            "image/png": "[encoded data removed]"
          },
          "metadata": {
            "needs_background": "light"
          }
        }
      ]
    },
    {
      "cell_type": "code",
      "source": [
        "plt.clf()   # Limpia la figura\n",
        "acc_values = history.history['accuracy']\n",
        "val_acc_values = history.history['val_accuracy']\n",
        "\n",
        "plt.plot(epochs, acc, 'bo', label='Precisión de Entrenamiento')\n",
        "plt.plot(epochs, val_acc, 'b', label='Precisión de Validación')\n",
        "plt.title('Precisión de Entrenamiento y Valización')\n",
        "plt.xlabel('Epochs')\n",
        "plt.ylabel('Loss')\n",
        "plt.legend()\n",
        "\n",
        "plt.show()"
      ],
      "metadata": {
        "id": "4g5b3hClhvHZ",
        "outputId": "22473d68-472a-49bd-a066-54b8e1297c07",
        "colab": {
          "base_uri": "https://localhost:8080/",
          "height": 295
        }
      },
      "execution_count": 86,
      "outputs": [
        {
          "output_type": "display_data",
          "data": {
            "text/plain": [
              "<Figure size 432x288 with 1 Axes>"
            ],
            "image/png": "[encoded data removed]"
          },
          "metadata": {
            "needs_background": "light"
          }
        }
      ]
    },
    {
      "cell_type": "markdown",
      "source": [
        "Creamos nuevos modelos configurando los parametros e hiperparametros "
      ],
      "metadata": {
        "id": "d3Fu37qzy0zn"
      }
    },
    {
      "cell_type": "markdown",
      "source": [
        "**MODELO 2 -> rmsprp**"
      ],
      "metadata": {
        "id": "4VewDMa3TISy"
      }
    },
    {
      "cell_type": "code",
      "source": [
        "model2 = models.Sequential()\n",
        "# Entrada, un tensor con la crítica vectorizada (10000 valores)\n",
        "model2.add(layers.Dense(16, activation='relu', input_shape=(30,)))\n",
        "model2.add(layers.Dense(16, activation='relu'))\n",
        "model2.add(layers.Dense(1, activation='sigmoid'))"
      ],
      "metadata": {
        "id": "luN-qJLzyzY0"
      },
      "execution_count": 87,
      "outputs": []
    },
    {
      "cell_type": "code",
      "source": [
        "model2.compile(optimizer='rmsprop',\n",
        "              loss='binary_crossentropy',\n",
        "              metrics=['accuracy'])"
      ],
      "metadata": {
        "id": "w20bvMMyzjdN"
      },
      "execution_count": 88,
      "outputs": []
    },
    {
      "cell_type": "code",
      "source": [
        "history = model2.fit(train_data,\n",
        "                    train_labels,\n",
        "                    epochs=30,\n",
        "                    batch_size=40, )"
      ],
      "metadata": {
        "id": "wlUlnGjIy9Bh",
        "outputId": "e10d3690-8f21-4021-df1d-801545d6c214",
        "colab": {
          "base_uri": "https://localhost:8080/"
        }
      },
      "execution_count": 89,
      "outputs": [
        {
          "output_type": "stream",
          "name": "stdout",
          "text": [
            "Epoch 1/30\n",
            "7/7 [==============================] - 1s 4ms/step - loss: 0.7350 - accuracy: 0.5496\n",
            "Epoch 2/30\n",
            "7/7 [==============================] - 0s 4ms/step - loss: 0.7011 - accuracy: 0.5413\n",
            "Epoch 3/30\n",
            "7/7 [==============================] - 0s 4ms/step - loss: 0.6885 - accuracy: 0.5537\n",
            "Epoch 4/30\n",
            "7/7 [==============================] - 0s 4ms/step - loss: 0.6691 - accuracy: 0.5868\n",
            "Epoch 5/30\n",
            "7/7 [==============================] - 0s 4ms/step - loss: 0.6583 - accuracy: 0.5785\n",
            "Epoch 6/30\n",
            "7/7 [==============================] - 0s 4ms/step - loss: 0.6393 - accuracy: 0.6364\n",
            "Epoch 7/30\n",
            "7/7 [==============================] - 0s 3ms/step - loss: 0.6163 - accuracy: 0.6942\n",
            "Epoch 8/30\n",
            "7/7 [==============================] - 0s 3ms/step - loss: 0.5971 - accuracy: 0.6942\n",
            "Epoch 9/30\n",
            "7/7 [==============================] - 0s 4ms/step - loss: 0.5751 - accuracy: 0.6777\n",
            "Epoch 10/30\n",
            "7/7 [==============================] - 0s 4ms/step - loss: 0.5520 - accuracy: 0.7893\n",
            "Epoch 11/30\n",
            "7/7 [==============================] - 0s 4ms/step - loss: 0.5395 - accuracy: 0.7810\n",
            "Epoch 12/30\n",
            "7/7 [==============================] - 0s 4ms/step - loss: 0.5252 - accuracy: 0.8264\n",
            "Epoch 13/30\n",
            "7/7 [==============================] - 0s 3ms/step - loss: 0.5144 - accuracy: 0.7769\n",
            "Epoch 14/30\n",
            "7/7 [==============================] - 0s 4ms/step - loss: 0.5009 - accuracy: 0.8223\n",
            "Epoch 15/30\n",
            "7/7 [==============================] - 0s 3ms/step - loss: 0.4871 - accuracy: 0.8388\n",
            "Epoch 16/30\n",
            "7/7 [==============================] - 0s 4ms/step - loss: 0.4757 - accuracy: 0.8347\n",
            "Epoch 17/30\n",
            "7/7 [==============================] - 0s 3ms/step - loss: 0.4639 - accuracy: 0.8347\n",
            "Epoch 18/30\n",
            "7/7 [==============================] - 0s 4ms/step - loss: 0.4580 - accuracy: 0.8223\n",
            "Epoch 19/30\n",
            "7/7 [==============================] - 0s 4ms/step - loss: 0.4464 - accuracy: 0.8347\n",
            "Epoch 20/30\n",
            "7/7 [==============================] - 0s 4ms/step - loss: 0.4336 - accuracy: 0.8388\n",
            "Epoch 21/30\n",
            "7/7 [==============================] - 0s 4ms/step - loss: 0.4217 - accuracy: 0.8471\n",
            "Epoch 22/30\n",
            "7/7 [==============================] - 0s 3ms/step - loss: 0.4149 - accuracy: 0.8388\n",
            "Epoch 23/30\n",
            "7/7 [==============================] - 0s 4ms/step - loss: 0.4041 - accuracy: 0.8512\n",
            "Epoch 24/30\n",
            "7/7 [==============================] - 0s 3ms/step - loss: 0.3959 - accuracy: 0.8471\n",
            "Epoch 25/30\n",
            "7/7 [==============================] - 0s 5ms/step - loss: 0.3861 - accuracy: 0.8678\n",
            "Epoch 26/30\n",
            "7/7 [==============================] - 0s 4ms/step - loss: 0.3793 - accuracy: 0.8595\n",
            "Epoch 27/30\n",
            "7/7 [==============================] - 0s 4ms/step - loss: 0.3803 - accuracy: 0.8595\n",
            "Epoch 28/30\n",
            "7/7 [==============================] - 0s 5ms/step - loss: 0.3709 - accuracy: 0.8595\n",
            "Epoch 29/30\n",
            "7/7 [==============================] - 0s 3ms/step - loss: 0.3708 - accuracy: 0.8512\n",
            "Epoch 30/30\n",
            "7/7 [==============================] - 0s 5ms/step - loss: 0.3651 - accuracy: 0.8636\n"
          ]
        }
      ]
    },
    {
      "cell_type": "code",
      "source": [
        "results2 = model2.evaluate(test_data, test_labels)"
      ],
      "metadata": {
        "id": "_-z9ad6M0IxT",
        "outputId": "6804e7a1-bb07-4859-e3eb-3c48e21ea70b",
        "colab": {
          "base_uri": "https://localhost:8080/"
        }
      },
      "execution_count": 90,
      "outputs": [
        {
          "output_type": "stream",
          "name": "stdout",
          "text": [
            "2/2 [==============================] - 0s 8ms/step - loss: 0.3776 - accuracy: 0.8361\n"
          ]
        }
      ]
    },
    {
      "cell_type": "markdown",
      "source": [
        "MATRIZ DE CONFUSIÓN"
      ],
      "metadata": {
        "id": "3HFHcEQa1U2O"
      }
    },
    {
      "cell_type": "code",
      "source": [
        "#import matplotlib.pyplot as plt\n",
        "def plot_confusion_matrix(cm, classes,\n",
        "                          normalize=False,\n",
        "                          title='Confusion matrix',\n",
        "                          cmap=plt.cm.Blues):\n",
        "    \"\"\"\n",
        "    This function prints and plots the confusion matrix.\n",
        "    Normalization can be applied by setting `normalize=True`.\n",
        "    \"\"\"\n",
        "    plt.imshow(cm, interpolation='nearest', cmap=cmap)\n",
        "    plt.title(title)\n",
        "    plt.colorbar()\n",
        "    tick_marks = np.arange(len(classes))\n",
        "    plt.xticks(tick_marks, classes, rotation=45)\n",
        "    plt.yticks(tick_marks, classes)\n",
        "\n",
        "    if normalize:\n",
        "        cm = cm.astype('float') / cm.sum(axis=1)[:, np.newaxis]\n",
        "\n",
        "    thresh = cm.max() / 2.\n",
        "    for i, j in itertools.product(range(cm.shape[0]), range(cm.shape[1])):\n",
        "        plt.text(j, i, cm[i, j],\n",
        "                 horizontalalignment=\"center\",\n",
        "                 color=\"white\" if cm[i, j] > thresh else \"black\")\n",
        "\n",
        "    plt.tight_layout()\n",
        "    plt.ylabel('Observación')\n",
        "    plt.xlabel('Predicción')"
      ],
      "metadata": {
        "id": "PvKFAjZ92gnz"
      },
      "execution_count": 91,
      "outputs": []
    },
    {
      "cell_type": "code",
      "source": [
        "from collections import Counter\n",
        "from sklearn.metrics import confusion_matrix\n",
        "import itertools\n",
        "import numpy as np\n",
        "from keras.utils.np_utils import to_categorical"
      ],
      "metadata": {
        "id": "Wxf82x6F2uKP"
      },
      "execution_count": 92,
      "outputs": []
    },
    {
      "cell_type": "markdown",
      "source": [
        "Según UCI Machine Learning Repository a partir de 0.5 se considera riesgo de sufrir un ataque al corazón .\n"
      ],
      "metadata": {
        "id": "j_kwdaQTpfnu"
      }
    },
    {
      "cell_type": "code",
      "source": [
        "predicciones = model2.predict(test_data)\n",
        "#predicciones\n",
        "\n",
        "# Clasificación predicha\n",
        "# ==============================================================================\n",
        "clasificacion = np.where(predicciones<0.5, 0, 1)\n",
        "#clasificacion\n"
      ],
      "metadata": {
        "id": "vnQTzJsPnN00"
      },
      "execution_count": 93,
      "outputs": []
    },
    {
      "cell_type": "code",
      "source": [
        "#Y_pred2 = model2.predict(test_data)\n",
        "#Y_pred_classes2 = np.argmax(Y_pred2, axis = 1) \n",
        "#Y_true2 = np.argmax(test_labels, axis = 1) \n",
        "ytrue = test_labels.tolist()\n",
        "#yhat = yhat.tolist()\n",
        "confusion_mtx2 = confusion_matrix(ytrue, clasificacion) \n",
        "plot_confusion_matrix(confusion_mtx2, classes = range(2))"
      ],
      "metadata": {
        "id": "jBAyJDwZ2qkF",
        "outputId": "dcc6b0d2-94fc-425e-9e0d-66c1f1009cf0",
        "colab": {
          "base_uri": "https://localhost:8080/",
          "height": 311
        }
      },
      "execution_count": 94,
      "outputs": [
        {
          "output_type": "display_data",
          "data": {
            "text/plain": [
              "<Figure size 432x288 with 2 Axes>"
            ],
            "image/png": "[encoded data removed]"
          },
          "metadata": {
            "needs_background": "light"
          }
        }
      ]
    },
    {
      "cell_type": "markdown",
      "source": [
        "**MODELO 3 -> ADAM**"
      ],
      "metadata": {
        "id": "oCTnDsqHqOIk"
      }
    },
    {
      "cell_type": "code",
      "source": [
        "model3 = models.Sequential()\n",
        "# Entrada, un tensor con la crítica vectorizada (10000 valores)\n",
        "model3.add(layers.Dense(16, activation='relu', input_shape=(30,)))\n",
        "model3.add(layers.Dense(16, activation='relu'))\n",
        "model3.add(layers.Dense(1, activation='sigmoid'))"
      ],
      "metadata": {
        "id": "zrYOjSu7qOIl"
      },
      "execution_count": 95,
      "outputs": []
    },
    {
      "cell_type": "code",
      "source": [
        "model3.compile(optimizer='adam',\n",
        "              loss='binary_crossentropy',\n",
        "              metrics=['accuracy'])"
      ],
      "metadata": {
        "id": "_32CUVFZqOIl"
      },
      "execution_count": 96,
      "outputs": []
    },
    {
      "cell_type": "code",
      "source": [
        "history = model3.fit(train_data,\n",
        "                    train_labels,\n",
        "                    epochs=30,\n",
        "                    batch_size=40, )"
      ],
      "metadata": {
        "outputId": "2a451d7c-67d7-4021-f57b-1ed495b206d6",
        "colab": {
          "base_uri": "https://localhost:8080/"
        },
        "id": "Hi5njnQJqOIm"
      },
      "execution_count": 97,
      "outputs": [
        {
          "output_type": "stream",
          "name": "stdout",
          "text": [
            "Epoch 1/30\n",
            "7/7 [==============================] - 0s 4ms/step - loss: 0.8645 - accuracy: 0.4463\n",
            "Epoch 2/30\n",
            "7/7 [==============================] - 0s 3ms/step - loss: 0.7204 - accuracy: 0.4463\n",
            "Epoch 3/30\n",
            "7/7 [==============================] - 0s 4ms/step - loss: 0.6482 - accuracy: 0.5372\n",
            "Epoch 4/30\n",
            "7/7 [==============================] - 0s 3ms/step - loss: 0.6172 - accuracy: 0.7521\n",
            "Epoch 5/30\n",
            "7/7 [==============================] - 0s 4ms/step - loss: 0.6051 - accuracy: 0.7686\n",
            "Epoch 6/30\n",
            "7/7 [==============================] - 0s 3ms/step - loss: 0.5928 - accuracy: 0.7645\n",
            "Epoch 7/30\n",
            "7/7 [==============================] - 0s 4ms/step - loss: 0.5777 - accuracy: 0.7769\n",
            "Epoch 8/30\n",
            "7/7 [==============================] - 0s 3ms/step - loss: 0.5628 - accuracy: 0.7851\n",
            "Epoch 9/30\n",
            "7/7 [==============================] - 0s 3ms/step - loss: 0.5496 - accuracy: 0.7975\n",
            "Epoch 10/30\n",
            "7/7 [==============================] - 0s 4ms/step - loss: 0.5363 - accuracy: 0.7893\n",
            "Epoch 11/30\n",
            "7/7 [==============================] - 0s 4ms/step - loss: 0.5236 - accuracy: 0.7934\n",
            "Epoch 12/30\n",
            "7/7 [==============================] - 0s 4ms/step - loss: 0.5069 - accuracy: 0.8017\n",
            "Epoch 13/30\n",
            "7/7 [==============================] - 0s 4ms/step - loss: 0.4908 - accuracy: 0.8017\n",
            "Epoch 14/30\n",
            "7/7 [==============================] - 0s 5ms/step - loss: 0.4755 - accuracy: 0.8017\n",
            "Epoch 15/30\n",
            "7/7 [==============================] - 0s 4ms/step - loss: 0.4645 - accuracy: 0.7975\n",
            "Epoch 16/30\n",
            "7/7 [==============================] - 0s 3ms/step - loss: 0.4551 - accuracy: 0.7975\n",
            "Epoch 17/30\n",
            "7/7 [==============================] - 0s 3ms/step - loss: 0.4448 - accuracy: 0.7934\n",
            "Epoch 18/30\n",
            "7/7 [==============================] - 0s 3ms/step - loss: 0.4363 - accuracy: 0.8017\n",
            "Epoch 19/30\n",
            "7/7 [==============================] - 0s 4ms/step - loss: 0.4275 - accuracy: 0.8223\n",
            "Epoch 20/30\n",
            "7/7 [==============================] - 0s 3ms/step - loss: 0.4190 - accuracy: 0.8182\n",
            "Epoch 21/30\n",
            "7/7 [==============================] - 0s 3ms/step - loss: 0.4099 - accuracy: 0.8182\n",
            "Epoch 22/30\n",
            "7/7 [==============================] - 0s 3ms/step - loss: 0.4031 - accuracy: 0.8264\n",
            "Epoch 23/30\n",
            "7/7 [==============================] - 0s 4ms/step - loss: 0.3965 - accuracy: 0.8264\n",
            "Epoch 24/30\n",
            "7/7 [==============================] - 0s 3ms/step - loss: 0.3904 - accuracy: 0.8058\n",
            "Epoch 25/30\n",
            "7/7 [==============================] - 0s 3ms/step - loss: 0.3845 - accuracy: 0.8099\n",
            "Epoch 26/30\n",
            "7/7 [==============================] - 0s 3ms/step - loss: 0.3777 - accuracy: 0.8347\n",
            "Epoch 27/30\n",
            "7/7 [==============================] - 0s 3ms/step - loss: 0.3812 - accuracy: 0.8388\n",
            "Epoch 28/30\n",
            "7/7 [==============================] - 0s 3ms/step - loss: 0.3794 - accuracy: 0.8430\n",
            "Epoch 29/30\n",
            "7/7 [==============================] - 0s 3ms/step - loss: 0.3719 - accuracy: 0.8388\n",
            "Epoch 30/30\n",
            "7/7 [==============================] - 0s 3ms/step - loss: 0.3618 - accuracy: 0.8430\n"
          ]
        }
      ]
    },
    {
      "cell_type": "code",
      "source": [
        "results3 = model3.evaluate(test_data, test_labels)"
      ],
      "metadata": {
        "outputId": "2203cc00-ec8a-43e5-f924-1fbaafd5b915",
        "colab": {
          "base_uri": "https://localhost:8080/"
        },
        "id": "eWVKxU_mqOIm"
      },
      "execution_count": 98,
      "outputs": [
        {
          "output_type": "stream",
          "name": "stdout",
          "text": [
            "2/2 [==============================] - 0s 8ms/step - loss: 0.3570 - accuracy: 0.8525\n"
          ]
        }
      ]
    },
    {
      "cell_type": "markdown",
      "source": [
        "MATRIZ DE CONFUSIÓN"
      ],
      "metadata": {
        "id": "GoJyH57BqOIn"
      }
    },
    {
      "cell_type": "markdown",
      "source": [
        "Según UCI Machine Learning Repository a partir de 0.5 se considera riesgo de sufrir un ataque al corazón .\n"
      ],
      "metadata": {
        "id": "ExfXsu5zqOIo"
      }
    },
    {
      "cell_type": "code",
      "source": [
        "predicciones3 = model3.predict(test_data)\n",
        "print(predicciones3)\n",
        "\n",
        "# Clasificación predicha\n",
        "# ==============================================================================\n",
        "clasificacion3 = np.where(predicciones3<0.5, 0, 1)\n",
        "clasificacion3\n"
      ],
      "metadata": {
        "outputId": "2889fdc7-cd3b-43e0-eb7a-65156fa2f641",
        "colab": {
          "base_uri": "https://localhost:8080/"
        },
        "id": "swFhplKgqOIo"
      },
      "execution_count": 99,
      "outputs": [
        {
          "output_type": "stream",
          "name": "stdout",
          "text": [
            "WARNING:tensorflow:5 out of the last 11 calls to <function Model.make_predict_function.<locals>.predict_function at 0x7fba1ce3f560> triggered tf.function retracing. Tracing is expensive and the excessive number of tracings could be due to (1) creating @tf.function repeatedly in a loop, (2) passing tensors with different shapes, (3) passing Python objects instead of tensors. For (1), please define your @tf.function outside of the loop. For (2), @tf.function has experimental_relax_shapes=True option that relaxes argument shapes that can avoid unnecessary retracing. For (3), please refer to https://www.tensorflow.org/guide/function#controlling_retracing and https://www.tensorflow.org/api_docs/python/tf/function for  more details.\n",
            "[[0.65504366]\n",
            " [0.9159988 ]\n",
            " [0.69471145]\n",
            " [0.8595617 ]\n",
            " [0.52607393]\n",
            " [0.68198323]\n",
            " [0.8789288 ]\n",
            " [0.6421262 ]\n",
            " [0.9238677 ]\n",
            " [0.88688606]\n",
            " [0.11867375]\n",
            " [0.88622475]\n",
            " [0.8844635 ]\n",
            " [0.7831171 ]\n",
            " [0.8834835 ]\n",
            " [0.5834059 ]\n",
            " [0.839578  ]\n",
            " [0.30617002]\n",
            " [0.8458146 ]\n",
            " [0.89302564]\n",
            " [0.72509605]\n",
            " [0.79690033]\n",
            " [0.9079906 ]\n",
            " [0.47715747]\n",
            " [0.28099462]\n",
            " [0.8875416 ]\n",
            " [0.88621706]\n",
            " [0.8805061 ]\n",
            " [0.92940646]\n",
            " [0.74211067]\n",
            " [0.8952482 ]\n",
            " [0.02995862]\n",
            " [0.03018136]\n",
            " [0.56196886]\n",
            " [0.01813489]\n",
            " [0.87120616]\n",
            " [0.18072145]\n",
            " [0.3962468 ]\n",
            " [0.08111219]\n",
            " [0.14967206]\n",
            " [0.0091126 ]\n",
            " [0.01402493]\n",
            " [0.12736987]\n",
            " [0.12203142]\n",
            " [0.01406301]\n",
            " [0.04452838]\n",
            " [0.10293585]\n",
            " [0.03819714]\n",
            " [0.03719047]\n",
            " [0.04085679]\n",
            " [0.1050991 ]\n",
            " [0.18836676]\n",
            " [0.78475296]\n",
            " [0.32477805]\n",
            " [0.408238  ]\n",
            " [0.8004186 ]\n",
            " [0.74106395]\n",
            " [0.11314426]\n",
            " [0.0953478 ]\n",
            " [0.02534855]\n",
            " [0.06132322]]\n"
          ]
        },
        {
          "output_type": "execute_result",
          "data": {
            "text/plain": [
              "array([[1],\n",
              "       [1],\n",
              "       [1],\n",
              "       [1],\n",
              "       [1],\n",
              "       [1],\n",
              "       [1],\n",
              "       [1],\n",
              "       [1],\n",
              "       [1],\n",
              "       [0],\n",
              "       [1],\n",
              "       [1],\n",
              "       [1],\n",
              "       [1],\n",
              "       [1],\n",
              "       [1],\n",
              "       [0],\n",
              "       [1],\n",
              "       [1],\n",
              "       [1],\n",
              "       [1],\n",
              "       [1],\n",
              "       [0],\n",
              "       [0],\n",
              "       [1],\n",
              "       [1],\n",
              "       [1],\n",
              "       [1],\n",
              "       [1],\n",
              "       [1],\n",
              "       [0],\n",
              "       [0],\n",
              "       [1],\n",
              "       [0],\n",
              "       [1],\n",
              "       [0],\n",
              "       [0],\n",
              "       [0],\n",
              "       [0],\n",
              "       [0],\n",
              "       [0],\n",
              "       [0],\n",
              "       [0],\n",
              "       [0],\n",
              "       [0],\n",
              "       [0],\n",
              "       [0],\n",
              "       [0],\n",
              "       [0],\n",
              "       [0],\n",
              "       [0],\n",
              "       [1],\n",
              "       [0],\n",
              "       [0],\n",
              "       [1],\n",
              "       [1],\n",
              "       [0],\n",
              "       [0],\n",
              "       [0],\n",
              "       [0]])"
            ]
          },
          "metadata": {},
          "execution_count": 99
        }
      ]
    },
    {
      "cell_type": "code",
      "source": [
        "ytrue = test_labels.tolist()\n",
        "#yhat = yhat.tolist()\n",
        "confusion_mtx3 = confusion_matrix(ytrue, clasificacion3) \n",
        "plot_confusion_matrix(confusion_mtx3, classes = range(2))"
      ],
      "metadata": {
        "outputId": "5c15961e-79ae-406e-c040-3a589b4e2256",
        "colab": {
          "base_uri": "https://localhost:8080/",
          "height": 311
        },
        "id": "WmHYSlW7qOIo"
      },
      "execution_count": 100,
      "outputs": [
        {
          "output_type": "display_data",
          "data": {
            "text/plain": [
              "<Figure size 432x288 with 2 Axes>"
            ],
            "image/png": "[encoded data removed]"
          },
          "metadata": {
            "needs_background": "light"
          }
        }
      ]
    },
    {
      "cell_type": "code",
      "source": [
        "results3"
      ],
      "metadata": {
        "colab": {
          "base_uri": "https://localhost:8080/"
        },
        "id": "s3vapM6SCcAJ",
        "outputId": "f379a4eb-8054-4c77-f802-ff9f487ae1d6"
      },
      "execution_count": 101,
      "outputs": [
        {
          "output_type": "execute_result",
          "data": {
            "text/plain": [
              "[0.3569563031196594, 0.8524590134620667]"
            ]
          },
          "metadata": {},
          "execution_count": 101
        }
      ]
    },
    {
      "cell_type": "markdown",
      "source": [
        "MODELO 4 -> ADAGRAD\n"
      ],
      "metadata": {
        "id": "1BO0ZP8vUA0J"
      }
    },
    {
      "cell_type": "code",
      "source": [
        "model4 = models.Sequential()\n",
        "# Entrada, un tensor con la crítica vectorizada (10000 valores)\n",
        "model4.add(layers.Dense(16, activation='relu', input_shape=(30,)))\n",
        "model4.add(layers.Dense(16, activation='relu'))\n",
        "model4.add(layers.Dense(1, activation='sigmoid'))"
      ],
      "metadata": {
        "id": "2EB0UsurUEpO"
      },
      "execution_count": 102,
      "outputs": []
    },
    {
      "cell_type": "code",
      "source": [
        "model4.compile(optimizer='adagrad',\n",
        "              loss='binary_crossentropy',\n",
        "              metrics=['accuracy'])"
      ],
      "metadata": {
        "id": "dDgPtXcrUEpP"
      },
      "execution_count": 103,
      "outputs": []
    },
    {
      "cell_type": "code",
      "source": [
        "history = model4.fit(train_data,\n",
        "                    train_labels,\n",
        "                    epochs=30,\n",
        "                    batch_size=40, )"
      ],
      "metadata": {
        "outputId": "d29d5e0d-bca8-4199-ec84-804c20eec45e",
        "colab": {
          "base_uri": "https://localhost:8080/"
        },
        "id": "DyuGeHO1UEpP"
      },
      "execution_count": 104,
      "outputs": [
        {
          "output_type": "stream",
          "name": "stdout",
          "text": [
            "Epoch 1/30\n",
            "7/7 [==============================] - 0s 4ms/step - loss: 0.9938 - accuracy: 0.5537\n",
            "Epoch 2/30\n",
            "7/7 [==============================] - 0s 3ms/step - loss: 0.9416 - accuracy: 0.5537\n",
            "Epoch 3/30\n",
            "7/7 [==============================] - 0s 3ms/step - loss: 0.9139 - accuracy: 0.5537\n",
            "Epoch 4/30\n",
            "7/7 [==============================] - 0s 4ms/step - loss: 0.9007 - accuracy: 0.5537\n",
            "Epoch 5/30\n",
            "7/7 [==============================] - 0s 3ms/step - loss: 0.8884 - accuracy: 0.5537\n",
            "Epoch 6/30\n",
            "7/7 [==============================] - 0s 3ms/step - loss: 0.8740 - accuracy: 0.5537\n",
            "Epoch 7/30\n",
            "7/7 [==============================] - 0s 3ms/step - loss: 0.8650 - accuracy: 0.5537\n",
            "Epoch 8/30\n",
            "7/7 [==============================] - 0s 3ms/step - loss: 0.8567 - accuracy: 0.5537\n",
            "Epoch 9/30\n",
            "7/7 [==============================] - 0s 3ms/step - loss: 0.8493 - accuracy: 0.5537\n",
            "Epoch 10/30\n",
            "7/7 [==============================] - 0s 3ms/step - loss: 0.8379 - accuracy: 0.5537\n",
            "Epoch 11/30\n",
            "7/7 [==============================] - 0s 3ms/step - loss: 0.8301 - accuracy: 0.5537\n",
            "Epoch 12/30\n",
            "7/7 [==============================] - 0s 3ms/step - loss: 0.8227 - accuracy: 0.5537\n",
            "Epoch 13/30\n",
            "7/7 [==============================] - 0s 4ms/step - loss: 0.8131 - accuracy: 0.5537\n",
            "Epoch 14/30\n",
            "7/7 [==============================] - 0s 3ms/step - loss: 0.8071 - accuracy: 0.5537\n",
            "Epoch 15/30\n",
            "7/7 [==============================] - 0s 3ms/step - loss: 0.8023 - accuracy: 0.5537\n",
            "Epoch 16/30\n",
            "7/7 [==============================] - 0s 3ms/step - loss: 0.7955 - accuracy: 0.5537\n",
            "Epoch 17/30\n",
            "7/7 [==============================] - 0s 3ms/step - loss: 0.7900 - accuracy: 0.5579\n",
            "Epoch 18/30\n",
            "7/7 [==============================] - 0s 4ms/step - loss: 0.7856 - accuracy: 0.5579\n",
            "Epoch 19/30\n",
            "7/7 [==============================] - 0s 4ms/step - loss: 0.7810 - accuracy: 0.5579\n",
            "Epoch 20/30\n",
            "7/7 [==============================] - 0s 3ms/step - loss: 0.7773 - accuracy: 0.5537\n",
            "Epoch 21/30\n",
            "7/7 [==============================] - 0s 3ms/step - loss: 0.7728 - accuracy: 0.5537\n",
            "Epoch 22/30\n",
            "7/7 [==============================] - 0s 3ms/step - loss: 0.7690 - accuracy: 0.5496\n",
            "Epoch 23/30\n",
            "7/7 [==============================] - 0s 4ms/step - loss: 0.7672 - accuracy: 0.5496\n",
            "Epoch 24/30\n",
            "7/7 [==============================] - 0s 3ms/step - loss: 0.7653 - accuracy: 0.5537\n",
            "Epoch 25/30\n",
            "7/7 [==============================] - 0s 3ms/step - loss: 0.7628 - accuracy: 0.5496\n",
            "Epoch 26/30\n",
            "7/7 [==============================] - 0s 3ms/step - loss: 0.7603 - accuracy: 0.5496\n",
            "Epoch 27/30\n",
            "7/7 [==============================] - 0s 3ms/step - loss: 0.7587 - accuracy: 0.5496\n",
            "Epoch 28/30\n",
            "7/7 [==============================] - 0s 3ms/step - loss: 0.7552 - accuracy: 0.5496\n",
            "Epoch 29/30\n",
            "7/7 [==============================] - 0s 3ms/step - loss: 0.7537 - accuracy: 0.5496\n",
            "Epoch 30/30\n",
            "7/7 [==============================] - 0s 3ms/step - loss: 0.7522 - accuracy: 0.5537\n"
          ]
        }
      ]
    },
    {
      "cell_type": "code",
      "source": [
        "results4 = model4.evaluate(test_data, test_labels)"
      ],
      "metadata": {
        "outputId": "b97c8464-f2cb-4551-ef40-7868b7806b1c",
        "colab": {
          "base_uri": "https://localhost:8080/"
        },
        "id": "JftOKf3CUz5P"
      },
      "execution_count": 105,
      "outputs": [
        {
          "output_type": "stream",
          "name": "stdout",
          "text": [
            "2/2 [==============================] - 0s 7ms/step - loss: 0.7954 - accuracy: 0.4918\n"
          ]
        }
      ]
    },
    {
      "cell_type": "markdown",
      "source": [
        "MATRIZ DE CONFUSIÓN"
      ],
      "metadata": {
        "id": "k7iB18tIUz5Q"
      }
    },
    {
      "cell_type": "markdown",
      "source": [
        "Según UCI Machine Learning Repository a partir de 0.5 se considera riesgo de sufrir un ataque al corazón .\n"
      ],
      "metadata": {
        "id": "DynsQuvzUz5R"
      }
    },
    {
      "cell_type": "code",
      "source": [
        "predicciones4 = model4.predict(test_data)\n",
        "print(predicciones4)\n",
        "\n",
        "# Clasificación predicha\n",
        "# ==============================================================================\n",
        "clasificacion4 = np.where(predicciones4<0.5, 0, 1)\n",
        "clasificacion4\n"
      ],
      "metadata": {
        "outputId": "d18689fa-f718-4dca-db97-ad46dfb45c20",
        "colab": {
          "base_uri": "https://localhost:8080/"
        },
        "id": "1xmGvjcMUz5S"
      },
      "execution_count": 111,
      "outputs": [
        {
          "output_type": "stream",
          "name": "stdout",
          "text": [
            "[[0.44504052]\n",
            " [0.6189798 ]\n",
            " [0.7723429 ]\n",
            " [0.73287773]\n",
            " [0.75591105]\n",
            " [0.58891624]\n",
            " [0.5841993 ]\n",
            " [0.6486557 ]\n",
            " [0.6683255 ]\n",
            " [0.67564464]\n",
            " [0.57521677]\n",
            " [0.59013987]\n",
            " [0.5498041 ]\n",
            " [0.553997  ]\n",
            " [0.5816538 ]\n",
            " [0.5239116 ]\n",
            " [0.53988516]\n",
            " [0.53325033]\n",
            " [0.5775483 ]\n",
            " [0.5721832 ]\n",
            " [0.6653145 ]\n",
            " [0.7136429 ]\n",
            " [0.5727575 ]\n",
            " [0.5764295 ]\n",
            " [0.7294059 ]\n",
            " [0.6944792 ]\n",
            " [0.6224394 ]\n",
            " [0.53582877]\n",
            " [0.69222844]\n",
            " [0.69191474]\n",
            " [0.5531282 ]\n",
            " [0.78919065]\n",
            " [0.68568826]\n",
            " [0.58709365]\n",
            " [0.6998825 ]\n",
            " [0.6123373 ]\n",
            " [0.55869716]\n",
            " [0.6040527 ]\n",
            " [0.6241846 ]\n",
            " [0.613976  ]\n",
            " [0.66810787]\n",
            " [0.6853645 ]\n",
            " [0.64855313]\n",
            " [0.69033974]\n",
            " [0.62339973]\n",
            " [0.7374711 ]\n",
            " [0.6765542 ]\n",
            " [0.6815982 ]\n",
            " [0.70842236]\n",
            " [0.63655066]\n",
            " [0.7757556 ]\n",
            " [0.71737653]\n",
            " [0.62379414]\n",
            " [0.6654174 ]\n",
            " [0.57746273]\n",
            " [0.5612778 ]\n",
            " [0.7664653 ]\n",
            " [0.50952625]\n",
            " [0.72913617]\n",
            " [0.6427943 ]\n",
            " [0.790198  ]]\n"
          ]
        },
        {
          "output_type": "execute_result",
          "data": {
            "text/plain": [
              "array([[0],\n",
              "       [1],\n",
              "       [1],\n",
              "       [1],\n",
              "       [1],\n",
              "       [1],\n",
              "       [1],\n",
              "       [1],\n",
              "       [1],\n",
              "       [1],\n",
              "       [1],\n",
              "       [1],\n",
              "       [1],\n",
              "       [1],\n",
              "       [1],\n",
              "       [1],\n",
              "       [1],\n",
              "       [1],\n",
              "       [1],\n",
              "       [1],\n",
              "       [1],\n",
              "       [1],\n",
              "       [1],\n",
              "       [1],\n",
              "       [1],\n",
              "       [1],\n",
              "       [1],\n",
              "       [1],\n",
              "       [1],\n",
              "       [1],\n",
              "       [1],\n",
              "       [1],\n",
              "       [1],\n",
              "       [1],\n",
              "       [1],\n",
              "       [1],\n",
              "       [1],\n",
              "       [1],\n",
              "       [1],\n",
              "       [1],\n",
              "       [1],\n",
              "       [1],\n",
              "       [1],\n",
              "       [1],\n",
              "       [1],\n",
              "       [1],\n",
              "       [1],\n",
              "       [1],\n",
              "       [1],\n",
              "       [1],\n",
              "       [1],\n",
              "       [1],\n",
              "       [1],\n",
              "       [1],\n",
              "       [1],\n",
              "       [1],\n",
              "       [1],\n",
              "       [1],\n",
              "       [1],\n",
              "       [1],\n",
              "       [1]])"
            ]
          },
          "metadata": {},
          "execution_count": 111
        }
      ]
    },
    {
      "cell_type": "code",
      "source": [
        "ytrue = test_labels.tolist()\n",
        "#yhat = yhat.tolist()\n",
        "confusion_mtx4 = confusion_matrix(ytrue, clasificacion4) \n",
        "plot_confusion_matrix(confusion_mtx4, classes = range(2))"
      ],
      "metadata": {
        "id": "pd5QPekuVGx3",
        "outputId": "4def70f8-23f5-4b56-c0ab-4f437cc8b93e",
        "colab": {
          "base_uri": "https://localhost:8080/",
          "height": 311
        }
      },
      "execution_count": 112,
      "outputs": [
        {
          "output_type": "display_data",
          "data": {
            "text/plain": [
              "<Figure size 432x288 with 2 Axes>"
            ],
            "image/png": "[encoded data removed]"
          },
          "metadata": {
            "needs_background": "light"
          }
        }
      ]
    },
    {
      "cell_type": "code",
      "source": [
        "results4"
      ],
      "metadata": {
        "id": "5aflovXBViOf",
        "outputId": "ec385fe8-5e1c-4d8e-cb96-5647aaa1dd91",
        "colab": {
          "base_uri": "https://localhost:8080/"
        }
      },
      "execution_count": 108,
      "outputs": [
        {
          "output_type": "execute_result",
          "data": {
            "text/plain": [
              "[0.7953596115112305, 0.49180328845977783]"
            ]
          },
          "metadata": {},
          "execution_count": 108
        }
      ]
    },
    {
      "cell_type": "markdown",
      "source": [
        "##COMPARACIONES "
      ],
      "metadata": {
        "id": "wIDXg0P7U0l1"
      }
    },
    {
      "cell_type": "code",
      "source": [
        "numero = len(results2)\n",
        "indice_barras = np.arange(numero)\n",
        "#indice_barras"
      ],
      "metadata": {
        "id": "peHwdKgDFJDM"
      },
      "execution_count": 109,
      "outputs": []
    },
    {
      "cell_type": "code",
      "source": [
        "x = ['loss', 'acc']\n",
        "res = [results2, results3, results4]\n",
        "plt.bar(indice_barras, results2, width = 0.2, label = 'Rmsprop', color = 'skyblue')\n",
        "plt.bar(indice_barras + 0.2, results3, width = 0.2, label = 'Adam', color = 'c')\n",
        "plt.bar(indice_barras + 0.4, results4, width = 0.2, label = 'Adagrad', color = 'b')\n",
        "\n",
        "plt.xticks(indice_barras + 0.2, ('loss', 'acc'))\n",
        "plt.legend(loc='best')\n",
        "plt.title('Resultados')\n",
        "plt.show()"
      ],
      "metadata": {
        "colab": {
          "base_uri": "https://localhost:8080/",
          "height": 281
        },
        "id": "_dqjl0HHBVjO",
        "outputId": "e0f3aedb-f8a1-4eb2-8626-c56fbcb9b317"
      },
      "execution_count": 110,
      "outputs": [
        {
          "output_type": "display_data",
          "data": {
            "text/plain": [
              "<Figure size 432x288 with 1 Axes>"
            ],
            "image/png": "[encoded data removed]"
          },
          "metadata": {
            "needs_background": "light"
          }
        }
      ]
    }
  ]
}