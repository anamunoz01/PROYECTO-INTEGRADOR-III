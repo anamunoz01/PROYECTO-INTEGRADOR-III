{
  "nbformat": 4,
  "nbformat_minor": 0,
  "metadata": {
    "colab": {
      "name": "ValidacionCruzada.ipynb",
      "provenance": [],
      "authorship_tag": "ABX9TyPhHGgIHx2/WIxT413OkYG2",
      "include_colab_link": true
    },
    "kernelspec": {
      "name": "python3",
      "display_name": "Python 3"
    },
    "language_info": {
      "name": "python"
    },
    "accelerator": "GPU"
  },
  "cells": [
    {
      "cell_type": "markdown",
      "metadata": {
        "id": "view-in-github",
        "colab_type": "text"
      },
      "source": [
        "<a href=\"https://colab.research.google.com/github/anamunoz01/PROYECTO-INTEGRADOR-III/blob/main/ValidacionCruzada.ipynb\" target=\"_parent\"><img src=\"https://colab.research.google.com/assets/colab-badge.svg\" alt=\"Open In Colab\"/></a>"
      ]
    },
    {
      "cell_type": "markdown",
      "source": [
        "#**MODELO PREDICTIVO DE ATAQUES AL CORAZÓN CON REDES NEURONALES** \n",
        "\n",
        "**Proyecto Integrador III**\n",
        "\n",
        "- Elena Gómez\n",
        "\n",
        "- Ana Muñoz\n",
        "\n",
        "- Inés Sánchez\n",
        "\n",
        "- Miriam Toledo\n"
      ],
      "metadata": {
        "id": "jDKv23TfLEqS"
      }
    },
    {
      "cell_type": "markdown",
      "source": [
        "## **Objetivo**\n",
        "\n",
        "Vamos a predecir la posibilidad de sufrir un ataque al corazón dependiendo de diferentes características relacionadas con la salud del paciente.  \n",
        "\n",
        "Para ello creamos un modelo de clasificación binaria, con el que obtendremos una salida que será 0 o 1.\n",
        "- 0 significará que la probabilidad de sufrir un ataque al corazón es muy baja.\n",
        "-1 será el caso contrario, es decir, que la probabilidad es alta.\n",
        "\n",
        "La base de datos que utilizaremos la encontramos en kaggle.com, como Health care: Heart attack possibility. \n",
        "\n",
        "Las características que vamos a estudiar son las siguientes:\n",
        "1. Edad\n",
        "2. Sexo\n",
        "3. Tipo de dolor de pecho (4 tipos)\n",
        "4. Presión en sangre\n",
        "5. Colesterol en mg/dl\n",
        "6. Azúcar en sangre > 120 mg/dl\n",
        "7. Resultado electrocardiograma (valores 0, 1, 2)\n",
        "8. Frecuencia cardiaca máxima alcanzada\n",
        "9. Angina de pecho (inducida por el ejercicio)\n",
        "10. Depresión del ST inducida por el ejercicio en relación con el reposo\n",
        "11. La pendiente del segmento ST máximo del ejercicio\n",
        "12. Número de vasos mayores (0-3) coloreados por la fluoroscopia\n",
        "13. thal: 0 = normal; 1 = defecto fijo; 2 = defecto reversible\n",
        "14. objetivo: 0= menos posibilidades de infarto 1= más posibilidades de infarto"
      ],
      "metadata": {
        "id": "6LOv1usqMJo7"
      }
    },
    {
      "cell_type": "markdown",
      "source": [
        "## **Estudio y análisis de datos**"
      ],
      "metadata": {
        "id": "6Gge8PKmNX6H"
      }
    },
    {
      "cell_type": "code",
      "source": [
        "import keras\n",
        "keras.__version__"
      ],
      "metadata": {
        "colab": {
          "base_uri": "https://localhost:8080/",
          "height": 0
        },
        "id": "6w8hfdx3Nb0O",
        "outputId": "4b529efa-a0e7-4df6-a9b2-5adec63a3931"
      },
      "execution_count": 1,
      "outputs": [
        {
          "output_type": "execute_result",
          "data": {
            "text/plain": [
              "'2.8.0'"
            ],
            "application/vnd.google.colaboratory.intrinsic+json": {
              "type": "string"
            }
          },
          "metadata": {},
          "execution_count": 1
        }
      ]
    },
    {
      "cell_type": "code",
      "source": [
        "import pandas as pd\n",
        "import numpy as np\n",
        "\n",
        "df = pd.read_excel('dataset heart attack.xlsx')\n"
      ],
      "metadata": {
        "id": "bs_Dcta2Spp1"
      },
      "execution_count": 2,
      "outputs": []
    },
    {
      "cell_type": "code",
      "source": [
        "df"
      ],
      "metadata": {
        "colab": {
          "base_uri": "https://localhost:8080/",
          "height": 0
        },
        "id": "DIwvznkOTpAc",
        "outputId": "9918779f-ea5b-4eb1-f0f7-0db99ce66649"
      },
      "execution_count": 3,
      "outputs": [
        {
          "output_type": "execute_result",
          "data": {
            "text/plain": [
              "     age  sex  cp  trestbps  chol  fbs  restecg  thalach  exang  oldpeak  \\\n",
              "0     63    1   3       145   233    1        0      150      0      2.3   \n",
              "1     37    1   2       130   250    0        1      187      0      3.5   \n",
              "2     41    0   1       130   204    0        0      172      0      1.4   \n",
              "3     56    1   1       120   236    0        1      178      0      0.8   \n",
              "4     57    0   0       120   354    0        1      163      1      0.6   \n",
              "..   ...  ...  ..       ...   ...  ...      ...      ...    ...      ...   \n",
              "298   57    0   0       140   241    0        1      123      1      0.2   \n",
              "299   45    1   3       110   264    0        1      132      0      1.2   \n",
              "300   68    1   0       144   193    1        1      141      0      3.4   \n",
              "301   57    1   0       130   131    0        1      115      1      1.2   \n",
              "302   57    0   1       130   236    0        0      174      0      0.0   \n",
              "\n",
              "     slope  ca  thal  target  \n",
              "0        0   0     1       1  \n",
              "1        0   0     2       1  \n",
              "2        2   0     2       1  \n",
              "3        2   0     2       1  \n",
              "4        2   0     2       1  \n",
              "..     ...  ..   ...     ...  \n",
              "298      1   0     3       0  \n",
              "299      1   0     3       0  \n",
              "300      1   2     3       0  \n",
              "301      1   1     3       0  \n",
              "302      1   1     2       0  \n",
              "\n",
              "[303 rows x 14 columns]"
            ],
            "text/html": [
              "\n",
              "  <div id=\"df-d3bc2fec-c46d-4903-b582-2d7b054ac44f\">\n",
              "    <div class=\"colab-df-container\">\n",
              "      <div>\n",
              "<style scoped>\n",
              "    .dataframe tbody tr th:only-of-type {\n",
              "        vertical-align: middle;\n",
              "    }\n",
              "\n",
              "    .dataframe tbody tr th {\n",
              "        vertical-align: top;\n",
              "    }\n",
              "\n",
              "    .dataframe thead th {\n",
              "        text-align: right;\n",
              "    }\n",
              "</style>\n",
              "<table border=\"1\" class=\"dataframe\">\n",
              "  <thead>\n",
              "    <tr style=\"text-align: right;\">\n",
              "      <th></th>\n",
              "      <th>age</th>\n",
              "      <th>sex</th>\n",
              "      <th>cp</th>\n",
              "      <th>trestbps</th>\n",
              "      <th>chol</th>\n",
              "      <th>fbs</th>\n",
              "      <th>restecg</th>\n",
              "      <th>thalach</th>\n",
              "      <th>exang</th>\n",
              "      <th>oldpeak</th>\n",
              "      <th>slope</th>\n",
              "      <th>ca</th>\n",
              "      <th>thal</th>\n",
              "      <th>target</th>\n",
              "    </tr>\n",
              "  </thead>\n",
              "  <tbody>\n",
              "    <tr>\n",
              "      <th>0</th>\n",
              "      <td>63</td>\n",
              "      <td>1</td>\n",
              "      <td>3</td>\n",
              "      <td>145</td>\n",
              "      <td>233</td>\n",
              "      <td>1</td>\n",
              "      <td>0</td>\n",
              "      <td>150</td>\n",
              "      <td>0</td>\n",
              "      <td>2.3</td>\n",
              "      <td>0</td>\n",
              "      <td>0</td>\n",
              "      <td>1</td>\n",
              "      <td>1</td>\n",
              "    </tr>\n",
              "    <tr>\n",
              "      <th>1</th>\n",
              "      <td>37</td>\n",
              "      <td>1</td>\n",
              "      <td>2</td>\n",
              "      <td>130</td>\n",
              "      <td>250</td>\n",
              "      <td>0</td>\n",
              "      <td>1</td>\n",
              "      <td>187</td>\n",
              "      <td>0</td>\n",
              "      <td>3.5</td>\n",
              "      <td>0</td>\n",
              "      <td>0</td>\n",
              "      <td>2</td>\n",
              "      <td>1</td>\n",
              "    </tr>\n",
              "    <tr>\n",
              "      <th>2</th>\n",
              "      <td>41</td>\n",
              "      <td>0</td>\n",
              "      <td>1</td>\n",
              "      <td>130</td>\n",
              "      <td>204</td>\n",
              "      <td>0</td>\n",
              "      <td>0</td>\n",
              "      <td>172</td>\n",
              "      <td>0</td>\n",
              "      <td>1.4</td>\n",
              "      <td>2</td>\n",
              "      <td>0</td>\n",
              "      <td>2</td>\n",
              "      <td>1</td>\n",
              "    </tr>\n",
              "    <tr>\n",
              "      <th>3</th>\n",
              "      <td>56</td>\n",
              "      <td>1</td>\n",
              "      <td>1</td>\n",
              "      <td>120</td>\n",
              "      <td>236</td>\n",
              "      <td>0</td>\n",
              "      <td>1</td>\n",
              "      <td>178</td>\n",
              "      <td>0</td>\n",
              "      <td>0.8</td>\n",
              "      <td>2</td>\n",
              "      <td>0</td>\n",
              "      <td>2</td>\n",
              "      <td>1</td>\n",
              "    </tr>\n",
              "    <tr>\n",
              "      <th>4</th>\n",
              "      <td>57</td>\n",
              "      <td>0</td>\n",
              "      <td>0</td>\n",
              "      <td>120</td>\n",
              "      <td>354</td>\n",
              "      <td>0</td>\n",
              "      <td>1</td>\n",
              "      <td>163</td>\n",
              "      <td>1</td>\n",
              "      <td>0.6</td>\n",
              "      <td>2</td>\n",
              "      <td>0</td>\n",
              "      <td>2</td>\n",
              "      <td>1</td>\n",
              "    </tr>\n",
              "    <tr>\n",
              "      <th>...</th>\n",
              "      <td>...</td>\n",
              "      <td>...</td>\n",
              "      <td>...</td>\n",
              "      <td>...</td>\n",
              "      <td>...</td>\n",
              "      <td>...</td>\n",
              "      <td>...</td>\n",
              "      <td>...</td>\n",
              "      <td>...</td>\n",
              "      <td>...</td>\n",
              "      <td>...</td>\n",
              "      <td>...</td>\n",
              "      <td>...</td>\n",
              "      <td>...</td>\n",
              "    </tr>\n",
              "    <tr>\n",
              "      <th>298</th>\n",
              "      <td>57</td>\n",
              "      <td>0</td>\n",
              "      <td>0</td>\n",
              "      <td>140</td>\n",
              "      <td>241</td>\n",
              "      <td>0</td>\n",
              "      <td>1</td>\n",
              "      <td>123</td>\n",
              "      <td>1</td>\n",
              "      <td>0.2</td>\n",
              "      <td>1</td>\n",
              "      <td>0</td>\n",
              "      <td>3</td>\n",
              "      <td>0</td>\n",
              "    </tr>\n",
              "    <tr>\n",
              "      <th>299</th>\n",
              "      <td>45</td>\n",
              "      <td>1</td>\n",
              "      <td>3</td>\n",
              "      <td>110</td>\n",
              "      <td>264</td>\n",
              "      <td>0</td>\n",
              "      <td>1</td>\n",
              "      <td>132</td>\n",
              "      <td>0</td>\n",
              "      <td>1.2</td>\n",
              "      <td>1</td>\n",
              "      <td>0</td>\n",
              "      <td>3</td>\n",
              "      <td>0</td>\n",
              "    </tr>\n",
              "    <tr>\n",
              "      <th>300</th>\n",
              "      <td>68</td>\n",
              "      <td>1</td>\n",
              "      <td>0</td>\n",
              "      <td>144</td>\n",
              "      <td>193</td>\n",
              "      <td>1</td>\n",
              "      <td>1</td>\n",
              "      <td>141</td>\n",
              "      <td>0</td>\n",
              "      <td>3.4</td>\n",
              "      <td>1</td>\n",
              "      <td>2</td>\n",
              "      <td>3</td>\n",
              "      <td>0</td>\n",
              "    </tr>\n",
              "    <tr>\n",
              "      <th>301</th>\n",
              "      <td>57</td>\n",
              "      <td>1</td>\n",
              "      <td>0</td>\n",
              "      <td>130</td>\n",
              "      <td>131</td>\n",
              "      <td>0</td>\n",
              "      <td>1</td>\n",
              "      <td>115</td>\n",
              "      <td>1</td>\n",
              "      <td>1.2</td>\n",
              "      <td>1</td>\n",
              "      <td>1</td>\n",
              "      <td>3</td>\n",
              "      <td>0</td>\n",
              "    </tr>\n",
              "    <tr>\n",
              "      <th>302</th>\n",
              "      <td>57</td>\n",
              "      <td>0</td>\n",
              "      <td>1</td>\n",
              "      <td>130</td>\n",
              "      <td>236</td>\n",
              "      <td>0</td>\n",
              "      <td>0</td>\n",
              "      <td>174</td>\n",
              "      <td>0</td>\n",
              "      <td>0.0</td>\n",
              "      <td>1</td>\n",
              "      <td>1</td>\n",
              "      <td>2</td>\n",
              "      <td>0</td>\n",
              "    </tr>\n",
              "  </tbody>\n",
              "</table>\n",
              "<p>303 rows × 14 columns</p>\n",
              "</div>\n",
              "      <button class=\"colab-df-convert\" onclick=\"convertToInteractive('df-d3bc2fec-c46d-4903-b582-2d7b054ac44f')\"\n",
              "              title=\"Convert this dataframe to an interactive table.\"\n",
              "              style=\"display:none;\">\n",
              "        \n",
              "  <svg xmlns=\"http://www.w3.org/2000/svg\" height=\"24px\"viewBox=\"0 0 24 24\"\n",
              "       width=\"24px\">\n",
              "    <path d=\"M0 0h24v24H0V0z\" fill=\"none\"/>\n",
              "    <path d=\"M18.56 5.44l.94 2.06.94-2.06 2.06-.94-2.06-.94-.94-2.06-.94 2.06-2.06.94zm-11 1L8.5 8.5l.94-2.06 2.06-.94-2.06-.94L8.5 2.5l-.94 2.06-2.06.94zm10 10l.94 2.06.94-2.06 2.06-.94-2.06-.94-.94-2.06-.94 2.06-2.06.94z\"/><path d=\"M17.41 7.96l-1.37-1.37c-.4-.4-.92-.59-1.43-.59-.52 0-1.04.2-1.43.59L10.3 9.45l-7.72 7.72c-.78.78-.78 2.05 0 2.83L4 21.41c.39.39.9.59 1.41.59.51 0 1.02-.2 1.41-.59l7.78-7.78 2.81-2.81c.8-.78.8-2.07 0-2.86zM5.41 20L4 18.59l7.72-7.72 1.47 1.35L5.41 20z\"/>\n",
              "  </svg>\n",
              "      </button>\n",
              "      \n",
              "  <style>\n",
              "    .colab-df-container {\n",
              "      display:flex;\n",
              "      flex-wrap:wrap;\n",
              "      gap: 12px;\n",
              "    }\n",
              "\n",
              "    .colab-df-convert {\n",
              "      background-color: #E8F0FE;\n",
              "      border: none;\n",
              "      border-radius: 50%;\n",
              "      cursor: pointer;\n",
              "      display: none;\n",
              "      fill: #1967D2;\n",
              "      height: 32px;\n",
              "      padding: 0 0 0 0;\n",
              "      width: 32px;\n",
              "    }\n",
              "\n",
              "    .colab-df-convert:hover {\n",
              "      background-color: #E2EBFA;\n",
              "      box-shadow: 0px 1px 2px rgba(60, 64, 67, 0.3), 0px 1px 3px 1px rgba(60, 64, 67, 0.15);\n",
              "      fill: #174EA6;\n",
              "    }\n",
              "\n",
              "    [theme=dark] .colab-df-convert {\n",
              "      background-color: #3B4455;\n",
              "      fill: #D2E3FC;\n",
              "    }\n",
              "\n",
              "    [theme=dark] .colab-df-convert:hover {\n",
              "      background-color: #434B5C;\n",
              "      box-shadow: 0px 1px 3px 1px rgba(0, 0, 0, 0.15);\n",
              "      filter: drop-shadow(0px 1px 2px rgba(0, 0, 0, 0.3));\n",
              "      fill: #FFFFFF;\n",
              "    }\n",
              "  </style>\n",
              "\n",
              "      <script>\n",
              "        const buttonEl =\n",
              "          document.querySelector('#df-d3bc2fec-c46d-4903-b582-2d7b054ac44f button.colab-df-convert');\n",
              "        buttonEl.style.display =\n",
              "          google.colab.kernel.accessAllowed ? 'block' : 'none';\n",
              "\n",
              "        async function convertToInteractive(key) {\n",
              "          const element = document.querySelector('#df-d3bc2fec-c46d-4903-b582-2d7b054ac44f');\n",
              "          const dataTable =\n",
              "            await google.colab.kernel.invokeFunction('convertToInteractive',\n",
              "                                                     [key], {});\n",
              "          if (!dataTable) return;\n",
              "\n",
              "          const docLinkHtml = 'Like what you see? Visit the ' +\n",
              "            '<a target=\"_blank\" href=https://colab.research.google.com/notebooks/data_table.ipynb>data table notebook</a>'\n",
              "            + ' to learn more about interactive tables.';\n",
              "          element.innerHTML = '';\n",
              "          dataTable['output_type'] = 'display_data';\n",
              "          await google.colab.output.renderOutput(dataTable, element);\n",
              "          const docLink = document.createElement('div');\n",
              "          docLink.innerHTML = docLinkHtml;\n",
              "          element.appendChild(docLink);\n",
              "        }\n",
              "      </script>\n",
              "    </div>\n",
              "  </div>\n",
              "  "
            ]
          },
          "metadata": {},
          "execution_count": 3
        }
      ]
    },
    {
      "cell_type": "markdown",
      "source": [
        "### **GRAFICAS**"
      ],
      "metadata": {
        "id": "que6kK2Nuv0O"
      }
    },
    {
      "cell_type": "code",
      "source": [
        "import matplotlib.pyplot as plt\n",
        "%matplotlib inline"
      ],
      "metadata": {
        "id": "AjDPaFprvUfG"
      },
      "execution_count": 4,
      "outputs": []
    },
    {
      "cell_type": "code",
      "source": [
        "x = df['sex'].value_counts()\n",
        "grupos = pd.unique(df['sex']) \n",
        "\n",
        "fig = plt.figure(figsize =(6, 6))\n",
        "plt.pie(x, labels = grupos, colors = ['mediumseagreen', 'lightgreen'], autopct='%1.0f%%')\n",
        "plt.title('Género')\n",
        "plt.show()"
      ],
      "metadata": {
        "colab": {
          "base_uri": "https://localhost:8080/",
          "height": 0
        },
        "id": "okUW3ZZ5W14n",
        "outputId": "40648a88-8afd-4934-c5fd-70c666ca71db"
      },
      "execution_count": 5,
      "outputs": [
        {
          "output_type": "display_data",
          "data": {
            "text/plain": [
              "<Figure size 432x432 with 1 Axes>"
            ],
            "image/png": "[encoded data removed]"
          },
          "metadata": {}
        }
      ]
    },
    {
      "cell_type": "code",
      "source": [
        "x = df['age'].value_counts()\n",
        "grupos = pd.unique(df['age']) \n",
        "\n",
        "fig = plt.figure(figsize =(6, 6))\n",
        "plt.pie(x, labels = grupos, autopct='%1.0f%%')\n",
        "plt.title('Edad')\n",
        "plt.show()"
      ],
      "metadata": {
        "id": "awZQNjtk1sqT",
        "outputId": "ab6558a5-f9fd-4fb7-9f97-7ce2bdb9f91d",
        "colab": {
          "base_uri": "https://localhost:8080/",
          "height": 0
        }
      },
      "execution_count": 6,
      "outputs": [
        {
          "output_type": "display_data",
          "data": {
            "text/plain": [
              "<Figure size 432x432 with 1 Axes>"
            ],
            "image/png": "[encoded data removed]"
          },
          "metadata": {}
        }
      ]
    },
    {
      "cell_type": "code",
      "source": [
        "grupos = ['Angina Típica', 'Angina Atípica', 'Dolor no anginoso', 'Asintomático']\n",
        "x = df['cp'].value_counts()\n",
        "\n",
        "fig = plt.figure(figsize =(6, 6))\n",
        "plt.pie(x, labels = grupos, autopct='%1.0f%%')\n",
        "plt.title('CP (Chest Pain)')\n",
        "plt.show()"
      ],
      "metadata": {
        "colab": {
          "base_uri": "https://localhost:8080/",
          "height": 0
        },
        "id": "NeuvWDNmdv9e",
        "outputId": "1cf531f3-8ba4-4337-b187-d655cafd5f8f"
      },
      "execution_count": 7,
      "outputs": [
        {
          "output_type": "display_data",
          "data": {
            "text/plain": [
              "<Figure size 432x432 with 1 Axes>"
            ],
            "image/png": "[encoded data removed]"
          },
          "metadata": {}
        }
      ]
    },
    {
      "cell_type": "code",
      "source": [
        "grupos = ['>120', '<120']\n",
        "data = [ 45, 258]\n",
        "fig = plt.figure(figsize =(10, 7))\n",
        "plt.pie(data, labels = grupos)\n",
        "plt.title('fbs(Fasting Blood Sugar)')\n",
        "plt.show()"
      ],
      "metadata": {
        "colab": {
          "base_uri": "https://localhost:8080/",
          "height": 0
        },
        "id": "RCHlfot7eJNv",
        "outputId": "880f6748-d766-48be-ec4e-39cb49ef5e7d"
      },
      "execution_count": 8,
      "outputs": [
        {
          "output_type": "display_data",
          "data": {
            "text/plain": [
              "<Figure size 720x504 with 1 Axes>"
            ],
            "image/png": "[encoded data removed]"
          },
          "metadata": {}
        }
      ]
    },
    {
      "cell_type": "code",
      "source": [
        "grupos = ['Normal', 'Anormalidad de la onda ST-T', 'Hipertrofia Ventricular Izquierda']\n",
        "data = [ 147, 152, 4]\n",
        "fig = plt.figure(figsize =(10, 7))\n",
        "plt.pie(data, labels = grupos)\n",
        "plt.title('restecg( Resting Electrocardiographic Results)')\n",
        "plt.show()"
      ],
      "metadata": {
        "colab": {
          "base_uri": "https://localhost:8080/",
          "height": 0
        },
        "id": "EsXzNpluehLi",
        "outputId": "8f02feb1-f6dd-4651-da38-4a0e9472ef5d"
      },
      "execution_count": 9,
      "outputs": [
        {
          "output_type": "display_data",
          "data": {
            "text/plain": [
              "<Figure size 720x504 with 1 Axes>"
            ],
            "image/png": "[encoded data removed]"
          },
          "metadata": {}
        }
      ]
    },
    {
      "cell_type": "code",
      "source": [
        "grupos = ['No', 'Sí']\n",
        "data = [ 204, 99]\n",
        "fig = plt.figure(figsize =(10, 7))\n",
        "plt.pie(data, labels = grupos)\n",
        "plt.title('exang (Exercise Induced Angina)')\n",
        "plt.show()"
      ],
      "metadata": {
        "colab": {
          "base_uri": "https://localhost:8080/",
          "height": 0
        },
        "id": "wIzPdH3-V0YU",
        "outputId": "2932da98-60ad-4669-b7eb-a2677daf3a45"
      },
      "execution_count": 10,
      "outputs": [
        {
          "output_type": "display_data",
          "data": {
            "text/plain": [
              "<Figure size 720x504 with 1 Axes>"
            ],
            "image/png": "[encoded data removed]"
          },
          "metadata": {}
        }
      ]
    },
    {
      "cell_type": "code",
      "source": [
        "grupos = ['Pendiente Ascendente', 'Sin Pendiente', 'Pendiente Descendiente']\n",
        "data = [21, 140, 142]\n",
        "fig = plt.figure(figsize =(10, 7))\n",
        "plt.pie(data, labels = grupos)\n",
        "plt.title('slope (Pendiente del segmento ST máximo de ejercicio)')\n",
        "plt.show()"
      ],
      "metadata": {
        "colab": {
          "base_uri": "https://localhost:8080/",
          "height": 0
        },
        "id": "EmEHXZ_sfWPQ",
        "outputId": "207d779a-2c5d-4ab5-b67e-146e7acfbf95"
      },
      "execution_count": 11,
      "outputs": [
        {
          "output_type": "display_data",
          "data": {
            "text/plain": [
              "<Figure size 720x504 with 1 Axes>"
            ],
            "image/png": "[encoded data removed]"
          },
          "metadata": {}
        }
      ]
    },
    {
      "cell_type": "code",
      "source": [
        "grupos = ['0', '1', '2', '3', '4']\n",
        "data = [175, 65, 38, 20, 5]\n",
        "fig = plt.figure(figsize =(10, 7))\n",
        "plt.pie(data, labels = grupos)\n",
        "plt.title('CA (Número de vasos mayores coloreados por la fluoroscopia)')\n",
        "plt.show()"
      ],
      "metadata": {
        "colab": {
          "base_uri": "https://localhost:8080/",
          "height": 0
        },
        "id": "m4d_HCJSfpCY",
        "outputId": "7b61e71b-0f73-4188-e5d4-be15bab56144"
      },
      "execution_count": 12,
      "outputs": [
        {
          "output_type": "display_data",
          "data": {
            "text/plain": [
              "<Figure size 720x504 with 1 Axes>"
            ],
            "image/png": "[encoded data removed]"
          },
          "metadata": {}
        }
      ]
    },
    {
      "cell_type": "code",
      "source": [
        "grupos = ['Normal', 'Defecto Fijo', 'Defecto Reversible']\n",
        "data = [18, 166, 117]\n",
        "fig = plt.figure(figsize =(10, 7))\n",
        "plt.pie(data, labels = grupos)\n",
        "plt.title('thal')\n",
        "plt.show()"
      ],
      "metadata": {
        "colab": {
          "base_uri": "https://localhost:8080/",
          "height": 0
        },
        "id": "g3hg_sJVf9At",
        "outputId": "ecee66c3-1bee-4fae-8663-46e7a1b32cd1"
      },
      "execution_count": 13,
      "outputs": [
        {
          "output_type": "display_data",
          "data": {
            "text/plain": [
              "<Figure size 720x504 with 1 Axes>"
            ],
            "image/png": "[encoded data removed]"
          },
          "metadata": {}
        }
      ]
    },
    {
      "cell_type": "code",
      "source": [
        "grupos = ['Sí', 'No']\n",
        "data = [165, 138]\n",
        "fig = plt.figure(figsize =(10, 7))\n",
        "plt.pie(data, labels = grupos)\n",
        "plt.title('Target ( Paciente Sufre Ataque al Corazón')\n",
        "plt.show()"
      ],
      "metadata": {
        "colab": {
          "base_uri": "https://localhost:8080/",
          "height": 0
        },
        "id": "goOkvWChgLiZ",
        "outputId": "1905ddbd-46f8-4547-82d5-3d83f248af49"
      },
      "execution_count": 14,
      "outputs": [
        {
          "output_type": "display_data",
          "data": {
            "text/plain": [
              "<Figure size 720x504 with 1 Axes>"
            ],
            "image/png": "[encoded data removed]"
          },
          "metadata": {}
        }
      ]
    },
    {
      "cell_type": "markdown",
      "source": [
        "\n",
        "###**Preprocesamiento**\n",
        "\n",
        "Creamos dos dataframes nuevos separando variables numéricas de categóricas "
      ],
      "metadata": {
        "id": "z8xoTAQDPq9-"
      }
    },
    {
      "cell_type": "code",
      "source": [
        "continuas = df[['age', 'trestbps', 'chol', 'thalach', 'oldpeak']]\n",
        "continuas"
      ],
      "metadata": {
        "id": "Cx9QdpOPQKOC",
        "outputId": "8471821f-25ac-472c-88b9-95a3637e7e8f",
        "colab": {
          "base_uri": "https://localhost:8080/",
          "height": 0
        }
      },
      "execution_count": 15,
      "outputs": [
        {
          "output_type": "execute_result",
          "data": {
            "text/plain": [
              "     age  trestbps  chol  thalach  oldpeak\n",
              "0     63       145   233      150      2.3\n",
              "1     37       130   250      187      3.5\n",
              "2     41       130   204      172      1.4\n",
              "3     56       120   236      178      0.8\n",
              "4     57       120   354      163      0.6\n",
              "..   ...       ...   ...      ...      ...\n",
              "298   57       140   241      123      0.2\n",
              "299   45       110   264      132      1.2\n",
              "300   68       144   193      141      3.4\n",
              "301   57       130   131      115      1.2\n",
              "302   57       130   236      174      0.0\n",
              "\n",
              "[303 rows x 5 columns]"
            ],
            "text/html": [
              "\n",
              "  <div id=\"df-8a5b152e-5dd6-47f5-9814-f53f1ae15623\">\n",
              "    <div class=\"colab-df-container\">\n",
              "      <div>\n",
              "<style scoped>\n",
              "    .dataframe tbody tr th:only-of-type {\n",
              "        vertical-align: middle;\n",
              "    }\n",
              "\n",
              "    .dataframe tbody tr th {\n",
              "        vertical-align: top;\n",
              "    }\n",
              "\n",
              "    .dataframe thead th {\n",
              "        text-align: right;\n",
              "    }\n",
              "</style>\n",
              "<table border=\"1\" class=\"dataframe\">\n",
              "  <thead>\n",
              "    <tr style=\"text-align: right;\">\n",
              "      <th></th>\n",
              "      <th>age</th>\n",
              "      <th>trestbps</th>\n",
              "      <th>chol</th>\n",
              "      <th>thalach</th>\n",
              "      <th>oldpeak</th>\n",
              "    </tr>\n",
              "  </thead>\n",
              "  <tbody>\n",
              "    <tr>\n",
              "      <th>0</th>\n",
              "      <td>63</td>\n",
              "      <td>145</td>\n",
              "      <td>233</td>\n",
              "      <td>150</td>\n",
              "      <td>2.3</td>\n",
              "    </tr>\n",
              "    <tr>\n",
              "      <th>1</th>\n",
              "      <td>37</td>\n",
              "      <td>130</td>\n",
              "      <td>250</td>\n",
              "      <td>187</td>\n",
              "      <td>3.5</td>\n",
              "    </tr>\n",
              "    <tr>\n",
              "      <th>2</th>\n",
              "      <td>41</td>\n",
              "      <td>130</td>\n",
              "      <td>204</td>\n",
              "      <td>172</td>\n",
              "      <td>1.4</td>\n",
              "    </tr>\n",
              "    <tr>\n",
              "      <th>3</th>\n",
              "      <td>56</td>\n",
              "      <td>120</td>\n",
              "      <td>236</td>\n",
              "      <td>178</td>\n",
              "      <td>0.8</td>\n",
              "    </tr>\n",
              "    <tr>\n",
              "      <th>4</th>\n",
              "      <td>57</td>\n",
              "      <td>120</td>\n",
              "      <td>354</td>\n",
              "      <td>163</td>\n",
              "      <td>0.6</td>\n",
              "    </tr>\n",
              "    <tr>\n",
              "      <th>...</th>\n",
              "      <td>...</td>\n",
              "      <td>...</td>\n",
              "      <td>...</td>\n",
              "      <td>...</td>\n",
              "      <td>...</td>\n",
              "    </tr>\n",
              "    <tr>\n",
              "      <th>298</th>\n",
              "      <td>57</td>\n",
              "      <td>140</td>\n",
              "      <td>241</td>\n",
              "      <td>123</td>\n",
              "      <td>0.2</td>\n",
              "    </tr>\n",
              "    <tr>\n",
              "      <th>299</th>\n",
              "      <td>45</td>\n",
              "      <td>110</td>\n",
              "      <td>264</td>\n",
              "      <td>132</td>\n",
              "      <td>1.2</td>\n",
              "    </tr>\n",
              "    <tr>\n",
              "      <th>300</th>\n",
              "      <td>68</td>\n",
              "      <td>144</td>\n",
              "      <td>193</td>\n",
              "      <td>141</td>\n",
              "      <td>3.4</td>\n",
              "    </tr>\n",
              "    <tr>\n",
              "      <th>301</th>\n",
              "      <td>57</td>\n",
              "      <td>130</td>\n",
              "      <td>131</td>\n",
              "      <td>115</td>\n",
              "      <td>1.2</td>\n",
              "    </tr>\n",
              "    <tr>\n",
              "      <th>302</th>\n",
              "      <td>57</td>\n",
              "      <td>130</td>\n",
              "      <td>236</td>\n",
              "      <td>174</td>\n",
              "      <td>0.0</td>\n",
              "    </tr>\n",
              "  </tbody>\n",
              "</table>\n",
              "<p>303 rows × 5 columns</p>\n",
              "</div>\n",
              "      <button class=\"colab-df-convert\" onclick=\"convertToInteractive('df-8a5b152e-5dd6-47f5-9814-f53f1ae15623')\"\n",
              "              title=\"Convert this dataframe to an interactive table.\"\n",
              "              style=\"display:none;\">\n",
              "        \n",
              "  <svg xmlns=\"http://www.w3.org/2000/svg\" height=\"24px\"viewBox=\"0 0 24 24\"\n",
              "       width=\"24px\">\n",
              "    <path d=\"M0 0h24v24H0V0z\" fill=\"none\"/>\n",
              "    <path d=\"M18.56 5.44l.94 2.06.94-2.06 2.06-.94-2.06-.94-.94-2.06-.94 2.06-2.06.94zm-11 1L8.5 8.5l.94-2.06 2.06-.94-2.06-.94L8.5 2.5l-.94 2.06-2.06.94zm10 10l.94 2.06.94-2.06 2.06-.94-2.06-.94-.94-2.06-.94 2.06-2.06.94z\"/><path d=\"M17.41 7.96l-1.37-1.37c-.4-.4-.92-.59-1.43-.59-.52 0-1.04.2-1.43.59L10.3 9.45l-7.72 7.72c-.78.78-.78 2.05 0 2.83L4 21.41c.39.39.9.59 1.41.59.51 0 1.02-.2 1.41-.59l7.78-7.78 2.81-2.81c.8-.78.8-2.07 0-2.86zM5.41 20L4 18.59l7.72-7.72 1.47 1.35L5.41 20z\"/>\n",
              "  </svg>\n",
              "      </button>\n",
              "      \n",
              "  <style>\n",
              "    .colab-df-container {\n",
              "      display:flex;\n",
              "      flex-wrap:wrap;\n",
              "      gap: 12px;\n",
              "    }\n",
              "\n",
              "    .colab-df-convert {\n",
              "      background-color: #E8F0FE;\n",
              "      border: none;\n",
              "      border-radius: 50%;\n",
              "      cursor: pointer;\n",
              "      display: none;\n",
              "      fill: #1967D2;\n",
              "      height: 32px;\n",
              "      padding: 0 0 0 0;\n",
              "      width: 32px;\n",
              "    }\n",
              "\n",
              "    .colab-df-convert:hover {\n",
              "      background-color: #E2EBFA;\n",
              "      box-shadow: 0px 1px 2px rgba(60, 64, 67, 0.3), 0px 1px 3px 1px rgba(60, 64, 67, 0.15);\n",
              "      fill: #174EA6;\n",
              "    }\n",
              "\n",
              "    [theme=dark] .colab-df-convert {\n",
              "      background-color: #3B4455;\n",
              "      fill: #D2E3FC;\n",
              "    }\n",
              "\n",
              "    [theme=dark] .colab-df-convert:hover {\n",
              "      background-color: #434B5C;\n",
              "      box-shadow: 0px 1px 3px 1px rgba(0, 0, 0, 0.15);\n",
              "      filter: drop-shadow(0px 1px 2px rgba(0, 0, 0, 0.3));\n",
              "      fill: #FFFFFF;\n",
              "    }\n",
              "  </style>\n",
              "\n",
              "      <script>\n",
              "        const buttonEl =\n",
              "          document.querySelector('#df-8a5b152e-5dd6-47f5-9814-f53f1ae15623 button.colab-df-convert');\n",
              "        buttonEl.style.display =\n",
              "          google.colab.kernel.accessAllowed ? 'block' : 'none';\n",
              "\n",
              "        async function convertToInteractive(key) {\n",
              "          const element = document.querySelector('#df-8a5b152e-5dd6-47f5-9814-f53f1ae15623');\n",
              "          const dataTable =\n",
              "            await google.colab.kernel.invokeFunction('convertToInteractive',\n",
              "                                                     [key], {});\n",
              "          if (!dataTable) return;\n",
              "\n",
              "          const docLinkHtml = 'Like what you see? Visit the ' +\n",
              "            '<a target=\"_blank\" href=https://colab.research.google.com/notebooks/data_table.ipynb>data table notebook</a>'\n",
              "            + ' to learn more about interactive tables.';\n",
              "          element.innerHTML = '';\n",
              "          dataTable['output_type'] = 'display_data';\n",
              "          await google.colab.output.renderOutput(dataTable, element);\n",
              "          const docLink = document.createElement('div');\n",
              "          docLink.innerHTML = docLinkHtml;\n",
              "          element.appendChild(docLink);\n",
              "        }\n",
              "      </script>\n",
              "    </div>\n",
              "  </div>\n",
              "  "
            ]
          },
          "metadata": {},
          "execution_count": 15
        }
      ]
    },
    {
      "cell_type": "markdown",
      "source": [
        "Normalizamos las continuas"
      ],
      "metadata": {
        "id": "8WUjRKHCQu7z"
      }
    },
    {
      "cell_type": "code",
      "source": [
        "mean = continuas.mean(axis=0)\n",
        "#print(mean)\n",
        "#continuas -= mean\n",
        "std = continuas.std(axis=0)\n",
        "#print(std)\n",
        "continuas /= std\n",
        "\n",
        "continuas"
      ],
      "metadata": {
        "id": "bYF-isJ-QjLo",
        "outputId": "409dab3b-455f-4dad-9c46-2fe350e6310e",
        "colab": {
          "base_uri": "https://localhost:8080/",
          "height": 0
        }
      },
      "execution_count": 16,
      "outputs": [
        {
          "output_type": "execute_result",
          "data": {
            "text/plain": [
              "          age  trestbps      chol   thalach   oldpeak\n",
              "0    6.936721  8.267694  4.495401  6.548742  1.980923\n",
              "1    4.073947  7.412415  4.823391  8.164099  3.014448\n",
              "2    4.514374  7.412415  3.935887  7.509225  1.205779\n",
              "3    6.165974  6.842230  4.553282  7.771174  0.689017\n",
              "4    6.276081  6.842230  6.829922  7.116300  0.516762\n",
              "..        ...       ...       ...       ...       ...\n",
              "298  6.276081  7.982601  4.649749  5.369969  0.172254\n",
              "299  4.954801  6.272044  5.093501  5.762893  1.033525\n",
              "300  7.487254  8.210676  3.723658  6.155818  2.928321\n",
              "301  6.276081  7.412415  2.527457  5.020703  1.033525\n",
              "302  6.276081  7.412415  4.553282  7.596541  0.000000\n",
              "\n",
              "[303 rows x 5 columns]"
            ],
            "text/html": [
              "\n",
              "  <div id=\"df-291b6edf-8aa9-4996-83f8-d2fe23c761d4\">\n",
              "    <div class=\"colab-df-container\">\n",
              "      <div>\n",
              "<style scoped>\n",
              "    .dataframe tbody tr th:only-of-type {\n",
              "        vertical-align: middle;\n",
              "    }\n",
              "\n",
              "    .dataframe tbody tr th {\n",
              "        vertical-align: top;\n",
              "    }\n",
              "\n",
              "    .dataframe thead th {\n",
              "        text-align: right;\n",
              "    }\n",
              "</style>\n",
              "<table border=\"1\" class=\"dataframe\">\n",
              "  <thead>\n",
              "    <tr style=\"text-align: right;\">\n",
              "      <th></th>\n",
              "      <th>age</th>\n",
              "      <th>trestbps</th>\n",
              "      <th>chol</th>\n",
              "      <th>thalach</th>\n",
              "      <th>oldpeak</th>\n",
              "    </tr>\n",
              "  </thead>\n",
              "  <tbody>\n",
              "    <tr>\n",
              "      <th>0</th>\n",
              "      <td>6.936721</td>\n",
              "      <td>8.267694</td>\n",
              "      <td>4.495401</td>\n",
              "      <td>6.548742</td>\n",
              "      <td>1.980923</td>\n",
              "    </tr>\n",
              "    <tr>\n",
              "      <th>1</th>\n",
              "      <td>4.073947</td>\n",
              "      <td>7.412415</td>\n",
              "      <td>4.823391</td>\n",
              "      <td>8.164099</td>\n",
              "      <td>3.014448</td>\n",
              "    </tr>\n",
              "    <tr>\n",
              "      <th>2</th>\n",
              "      <td>4.514374</td>\n",
              "      <td>7.412415</td>\n",
              "      <td>3.935887</td>\n",
              "      <td>7.509225</td>\n",
              "      <td>1.205779</td>\n",
              "    </tr>\n",
              "    <tr>\n",
              "      <th>3</th>\n",
              "      <td>6.165974</td>\n",
              "      <td>6.842230</td>\n",
              "      <td>4.553282</td>\n",
              "      <td>7.771174</td>\n",
              "      <td>0.689017</td>\n",
              "    </tr>\n",
              "    <tr>\n",
              "      <th>4</th>\n",
              "      <td>6.276081</td>\n",
              "      <td>6.842230</td>\n",
              "      <td>6.829922</td>\n",
              "      <td>7.116300</td>\n",
              "      <td>0.516762</td>\n",
              "    </tr>\n",
              "    <tr>\n",
              "      <th>...</th>\n",
              "      <td>...</td>\n",
              "      <td>...</td>\n",
              "      <td>...</td>\n",
              "      <td>...</td>\n",
              "      <td>...</td>\n",
              "    </tr>\n",
              "    <tr>\n",
              "      <th>298</th>\n",
              "      <td>6.276081</td>\n",
              "      <td>7.982601</td>\n",
              "      <td>4.649749</td>\n",
              "      <td>5.369969</td>\n",
              "      <td>0.172254</td>\n",
              "    </tr>\n",
              "    <tr>\n",
              "      <th>299</th>\n",
              "      <td>4.954801</td>\n",
              "      <td>6.272044</td>\n",
              "      <td>5.093501</td>\n",
              "      <td>5.762893</td>\n",
              "      <td>1.033525</td>\n",
              "    </tr>\n",
              "    <tr>\n",
              "      <th>300</th>\n",
              "      <td>7.487254</td>\n",
              "      <td>8.210676</td>\n",
              "      <td>3.723658</td>\n",
              "      <td>6.155818</td>\n",
              "      <td>2.928321</td>\n",
              "    </tr>\n",
              "    <tr>\n",
              "      <th>301</th>\n",
              "      <td>6.276081</td>\n",
              "      <td>7.412415</td>\n",
              "      <td>2.527457</td>\n",
              "      <td>5.020703</td>\n",
              "      <td>1.033525</td>\n",
              "    </tr>\n",
              "    <tr>\n",
              "      <th>302</th>\n",
              "      <td>6.276081</td>\n",
              "      <td>7.412415</td>\n",
              "      <td>4.553282</td>\n",
              "      <td>7.596541</td>\n",
              "      <td>0.000000</td>\n",
              "    </tr>\n",
              "  </tbody>\n",
              "</table>\n",
              "<p>303 rows × 5 columns</p>\n",
              "</div>\n",
              "      <button class=\"colab-df-convert\" onclick=\"convertToInteractive('df-291b6edf-8aa9-4996-83f8-d2fe23c761d4')\"\n",
              "              title=\"Convert this dataframe to an interactive table.\"\n",
              "              style=\"display:none;\">\n",
              "        \n",
              "  <svg xmlns=\"http://www.w3.org/2000/svg\" height=\"24px\"viewBox=\"0 0 24 24\"\n",
              "       width=\"24px\">\n",
              "    <path d=\"M0 0h24v24H0V0z\" fill=\"none\"/>\n",
              "    <path d=\"M18.56 5.44l.94 2.06.94-2.06 2.06-.94-2.06-.94-.94-2.06-.94 2.06-2.06.94zm-11 1L8.5 8.5l.94-2.06 2.06-.94-2.06-.94L8.5 2.5l-.94 2.06-2.06.94zm10 10l.94 2.06.94-2.06 2.06-.94-2.06-.94-.94-2.06-.94 2.06-2.06.94z\"/><path d=\"M17.41 7.96l-1.37-1.37c-.4-.4-.92-.59-1.43-.59-.52 0-1.04.2-1.43.59L10.3 9.45l-7.72 7.72c-.78.78-.78 2.05 0 2.83L4 21.41c.39.39.9.59 1.41.59.51 0 1.02-.2 1.41-.59l7.78-7.78 2.81-2.81c.8-.78.8-2.07 0-2.86zM5.41 20L4 18.59l7.72-7.72 1.47 1.35L5.41 20z\"/>\n",
              "  </svg>\n",
              "      </button>\n",
              "      \n",
              "  <style>\n",
              "    .colab-df-container {\n",
              "      display:flex;\n",
              "      flex-wrap:wrap;\n",
              "      gap: 12px;\n",
              "    }\n",
              "\n",
              "    .colab-df-convert {\n",
              "      background-color: #E8F0FE;\n",
              "      border: none;\n",
              "      border-radius: 50%;\n",
              "      cursor: pointer;\n",
              "      display: none;\n",
              "      fill: #1967D2;\n",
              "      height: 32px;\n",
              "      padding: 0 0 0 0;\n",
              "      width: 32px;\n",
              "    }\n",
              "\n",
              "    .colab-df-convert:hover {\n",
              "      background-color: #E2EBFA;\n",
              "      box-shadow: 0px 1px 2px rgba(60, 64, 67, 0.3), 0px 1px 3px 1px rgba(60, 64, 67, 0.15);\n",
              "      fill: #174EA6;\n",
              "    }\n",
              "\n",
              "    [theme=dark] .colab-df-convert {\n",
              "      background-color: #3B4455;\n",
              "      fill: #D2E3FC;\n",
              "    }\n",
              "\n",
              "    [theme=dark] .colab-df-convert:hover {\n",
              "      background-color: #434B5C;\n",
              "      box-shadow: 0px 1px 3px 1px rgba(0, 0, 0, 0.15);\n",
              "      filter: drop-shadow(0px 1px 2px rgba(0, 0, 0, 0.3));\n",
              "      fill: #FFFFFF;\n",
              "    }\n",
              "  </style>\n",
              "\n",
              "      <script>\n",
              "        const buttonEl =\n",
              "          document.querySelector('#df-291b6edf-8aa9-4996-83f8-d2fe23c761d4 button.colab-df-convert');\n",
              "        buttonEl.style.display =\n",
              "          google.colab.kernel.accessAllowed ? 'block' : 'none';\n",
              "\n",
              "        async function convertToInteractive(key) {\n",
              "          const element = document.querySelector('#df-291b6edf-8aa9-4996-83f8-d2fe23c761d4');\n",
              "          const dataTable =\n",
              "            await google.colab.kernel.invokeFunction('convertToInteractive',\n",
              "                                                     [key], {});\n",
              "          if (!dataTable) return;\n",
              "\n",
              "          const docLinkHtml = 'Like what you see? Visit the ' +\n",
              "            '<a target=\"_blank\" href=https://colab.research.google.com/notebooks/data_table.ipynb>data table notebook</a>'\n",
              "            + ' to learn more about interactive tables.';\n",
              "          element.innerHTML = '';\n",
              "          dataTable['output_type'] = 'display_data';\n",
              "          await google.colab.output.renderOutput(dataTable, element);\n",
              "          const docLink = document.createElement('div');\n",
              "          docLink.innerHTML = docLinkHtml;\n",
              "          element.appendChild(docLink);\n",
              "        }\n",
              "      </script>\n",
              "    </div>\n",
              "  </div>\n",
              "  "
            ]
          },
          "metadata": {},
          "execution_count": 16
        }
      ]
    },
    {
      "cell_type": "code",
      "source": [
        "clases = df[['sex', 'fbs', 'exang', 'cp', 'restecg', 'slope', 'ca', 'thal']]\n",
        "clases"
      ],
      "metadata": {
        "colab": {
          "base_uri": "https://localhost:8080/",
          "height": 0
        },
        "id": "I5swDGB4XdGw",
        "outputId": "58df9142-5f9b-4dd3-921a-742c3fa053d4"
      },
      "execution_count": 17,
      "outputs": [
        {
          "output_type": "execute_result",
          "data": {
            "text/plain": [
              "     sex  fbs  exang  cp  restecg  slope  ca  thal\n",
              "0      1    1      0   3        0      0   0     1\n",
              "1      1    0      0   2        1      0   0     2\n",
              "2      0    0      0   1        0      2   0     2\n",
              "3      1    0      0   1        1      2   0     2\n",
              "4      0    0      1   0        1      2   0     2\n",
              "..   ...  ...    ...  ..      ...    ...  ..   ...\n",
              "298    0    0      1   0        1      1   0     3\n",
              "299    1    0      0   3        1      1   0     3\n",
              "300    1    1      0   0        1      1   2     3\n",
              "301    1    0      1   0        1      1   1     3\n",
              "302    0    0      0   1        0      1   1     2\n",
              "\n",
              "[303 rows x 8 columns]"
            ],
            "text/html": [
              "\n",
              "  <div id=\"df-34209368-5edf-463a-b2cd-8a1c336b801b\">\n",
              "    <div class=\"colab-df-container\">\n",
              "      <div>\n",
              "<style scoped>\n",
              "    .dataframe tbody tr th:only-of-type {\n",
              "        vertical-align: middle;\n",
              "    }\n",
              "\n",
              "    .dataframe tbody tr th {\n",
              "        vertical-align: top;\n",
              "    }\n",
              "\n",
              "    .dataframe thead th {\n",
              "        text-align: right;\n",
              "    }\n",
              "</style>\n",
              "<table border=\"1\" class=\"dataframe\">\n",
              "  <thead>\n",
              "    <tr style=\"text-align: right;\">\n",
              "      <th></th>\n",
              "      <th>sex</th>\n",
              "      <th>fbs</th>\n",
              "      <th>exang</th>\n",
              "      <th>cp</th>\n",
              "      <th>restecg</th>\n",
              "      <th>slope</th>\n",
              "      <th>ca</th>\n",
              "      <th>thal</th>\n",
              "    </tr>\n",
              "  </thead>\n",
              "  <tbody>\n",
              "    <tr>\n",
              "      <th>0</th>\n",
              "      <td>1</td>\n",
              "      <td>1</td>\n",
              "      <td>0</td>\n",
              "      <td>3</td>\n",
              "      <td>0</td>\n",
              "      <td>0</td>\n",
              "      <td>0</td>\n",
              "      <td>1</td>\n",
              "    </tr>\n",
              "    <tr>\n",
              "      <th>1</th>\n",
              "      <td>1</td>\n",
              "      <td>0</td>\n",
              "      <td>0</td>\n",
              "      <td>2</td>\n",
              "      <td>1</td>\n",
              "      <td>0</td>\n",
              "      <td>0</td>\n",
              "      <td>2</td>\n",
              "    </tr>\n",
              "    <tr>\n",
              "      <th>2</th>\n",
              "      <td>0</td>\n",
              "      <td>0</td>\n",
              "      <td>0</td>\n",
              "      <td>1</td>\n",
              "      <td>0</td>\n",
              "      <td>2</td>\n",
              "      <td>0</td>\n",
              "      <td>2</td>\n",
              "    </tr>\n",
              "    <tr>\n",
              "      <th>3</th>\n",
              "      <td>1</td>\n",
              "      <td>0</td>\n",
              "      <td>0</td>\n",
              "      <td>1</td>\n",
              "      <td>1</td>\n",
              "      <td>2</td>\n",
              "      <td>0</td>\n",
              "      <td>2</td>\n",
              "    </tr>\n",
              "    <tr>\n",
              "      <th>4</th>\n",
              "      <td>0</td>\n",
              "      <td>0</td>\n",
              "      <td>1</td>\n",
              "      <td>0</td>\n",
              "      <td>1</td>\n",
              "      <td>2</td>\n",
              "      <td>0</td>\n",
              "      <td>2</td>\n",
              "    </tr>\n",
              "    <tr>\n",
              "      <th>...</th>\n",
              "      <td>...</td>\n",
              "      <td>...</td>\n",
              "      <td>...</td>\n",
              "      <td>...</td>\n",
              "      <td>...</td>\n",
              "      <td>...</td>\n",
              "      <td>...</td>\n",
              "      <td>...</td>\n",
              "    </tr>\n",
              "    <tr>\n",
              "      <th>298</th>\n",
              "      <td>0</td>\n",
              "      <td>0</td>\n",
              "      <td>1</td>\n",
              "      <td>0</td>\n",
              "      <td>1</td>\n",
              "      <td>1</td>\n",
              "      <td>0</td>\n",
              "      <td>3</td>\n",
              "    </tr>\n",
              "    <tr>\n",
              "      <th>299</th>\n",
              "      <td>1</td>\n",
              "      <td>0</td>\n",
              "      <td>0</td>\n",
              "      <td>3</td>\n",
              "      <td>1</td>\n",
              "      <td>1</td>\n",
              "      <td>0</td>\n",
              "      <td>3</td>\n",
              "    </tr>\n",
              "    <tr>\n",
              "      <th>300</th>\n",
              "      <td>1</td>\n",
              "      <td>1</td>\n",
              "      <td>0</td>\n",
              "      <td>0</td>\n",
              "      <td>1</td>\n",
              "      <td>1</td>\n",
              "      <td>2</td>\n",
              "      <td>3</td>\n",
              "    </tr>\n",
              "    <tr>\n",
              "      <th>301</th>\n",
              "      <td>1</td>\n",
              "      <td>0</td>\n",
              "      <td>1</td>\n",
              "      <td>0</td>\n",
              "      <td>1</td>\n",
              "      <td>1</td>\n",
              "      <td>1</td>\n",
              "      <td>3</td>\n",
              "    </tr>\n",
              "    <tr>\n",
              "      <th>302</th>\n",
              "      <td>0</td>\n",
              "      <td>0</td>\n",
              "      <td>0</td>\n",
              "      <td>1</td>\n",
              "      <td>0</td>\n",
              "      <td>1</td>\n",
              "      <td>1</td>\n",
              "      <td>2</td>\n",
              "    </tr>\n",
              "  </tbody>\n",
              "</table>\n",
              "<p>303 rows × 8 columns</p>\n",
              "</div>\n",
              "      <button class=\"colab-df-convert\" onclick=\"convertToInteractive('df-34209368-5edf-463a-b2cd-8a1c336b801b')\"\n",
              "              title=\"Convert this dataframe to an interactive table.\"\n",
              "              style=\"display:none;\">\n",
              "        \n",
              "  <svg xmlns=\"http://www.w3.org/2000/svg\" height=\"24px\"viewBox=\"0 0 24 24\"\n",
              "       width=\"24px\">\n",
              "    <path d=\"M0 0h24v24H0V0z\" fill=\"none\"/>\n",
              "    <path d=\"M18.56 5.44l.94 2.06.94-2.06 2.06-.94-2.06-.94-.94-2.06-.94 2.06-2.06.94zm-11 1L8.5 8.5l.94-2.06 2.06-.94-2.06-.94L8.5 2.5l-.94 2.06-2.06.94zm10 10l.94 2.06.94-2.06 2.06-.94-2.06-.94-.94-2.06-.94 2.06-2.06.94z\"/><path d=\"M17.41 7.96l-1.37-1.37c-.4-.4-.92-.59-1.43-.59-.52 0-1.04.2-1.43.59L10.3 9.45l-7.72 7.72c-.78.78-.78 2.05 0 2.83L4 21.41c.39.39.9.59 1.41.59.51 0 1.02-.2 1.41-.59l7.78-7.78 2.81-2.81c.8-.78.8-2.07 0-2.86zM5.41 20L4 18.59l7.72-7.72 1.47 1.35L5.41 20z\"/>\n",
              "  </svg>\n",
              "      </button>\n",
              "      \n",
              "  <style>\n",
              "    .colab-df-container {\n",
              "      display:flex;\n",
              "      flex-wrap:wrap;\n",
              "      gap: 12px;\n",
              "    }\n",
              "\n",
              "    .colab-df-convert {\n",
              "      background-color: #E8F0FE;\n",
              "      border: none;\n",
              "      border-radius: 50%;\n",
              "      cursor: pointer;\n",
              "      display: none;\n",
              "      fill: #1967D2;\n",
              "      height: 32px;\n",
              "      padding: 0 0 0 0;\n",
              "      width: 32px;\n",
              "    }\n",
              "\n",
              "    .colab-df-convert:hover {\n",
              "      background-color: #E2EBFA;\n",
              "      box-shadow: 0px 1px 2px rgba(60, 64, 67, 0.3), 0px 1px 3px 1px rgba(60, 64, 67, 0.15);\n",
              "      fill: #174EA6;\n",
              "    }\n",
              "\n",
              "    [theme=dark] .colab-df-convert {\n",
              "      background-color: #3B4455;\n",
              "      fill: #D2E3FC;\n",
              "    }\n",
              "\n",
              "    [theme=dark] .colab-df-convert:hover {\n",
              "      background-color: #434B5C;\n",
              "      box-shadow: 0px 1px 3px 1px rgba(0, 0, 0, 0.15);\n",
              "      filter: drop-shadow(0px 1px 2px rgba(0, 0, 0, 0.3));\n",
              "      fill: #FFFFFF;\n",
              "    }\n",
              "  </style>\n",
              "\n",
              "      <script>\n",
              "        const buttonEl =\n",
              "          document.querySelector('#df-34209368-5edf-463a-b2cd-8a1c336b801b button.colab-df-convert');\n",
              "        buttonEl.style.display =\n",
              "          google.colab.kernel.accessAllowed ? 'block' : 'none';\n",
              "\n",
              "        async function convertToInteractive(key) {\n",
              "          const element = document.querySelector('#df-34209368-5edf-463a-b2cd-8a1c336b801b');\n",
              "          const dataTable =\n",
              "            await google.colab.kernel.invokeFunction('convertToInteractive',\n",
              "                                                     [key], {});\n",
              "          if (!dataTable) return;\n",
              "\n",
              "          const docLinkHtml = 'Like what you see? Visit the ' +\n",
              "            '<a target=\"_blank\" href=https://colab.research.google.com/notebooks/data_table.ipynb>data table notebook</a>'\n",
              "            + ' to learn more about interactive tables.';\n",
              "          element.innerHTML = '';\n",
              "          dataTable['output_type'] = 'display_data';\n",
              "          await google.colab.output.renderOutput(dataTable, element);\n",
              "          const docLink = document.createElement('div');\n",
              "          docLink.innerHTML = docLinkHtml;\n",
              "          element.appendChild(docLink);\n",
              "        }\n",
              "      </script>\n",
              "    </div>\n",
              "  </div>\n",
              "  "
            ]
          },
          "metadata": {},
          "execution_count": 17
        }
      ]
    },
    {
      "cell_type": "markdown",
      "source": [
        "Vectorizamos las variables categóricas y las unimos al dataframe con las variables continuas ya normalizadas"
      ],
      "metadata": {
        "id": "3k64FwXcP3ny"
      }
    },
    {
      "cell_type": "code",
      "source": [
        "\n",
        "normalizado = continuas\n",
        "for i in clases:\n",
        "  y = pd.get_dummies(df[i] ,prefix = i)\n",
        "  #print(y)\n",
        "  normalizado = normalizado.join(y)\n",
        "\n",
        "\n",
        "normalizado = normalizado.join(df['target'])\n",
        "normalizado "
      ],
      "metadata": {
        "id": "V9RzfElXPi7t",
        "outputId": "291b331f-1048-4662-ec3d-de73fa571de5",
        "colab": {
          "base_uri": "https://localhost:8080/",
          "height": 0
        }
      },
      "execution_count": 18,
      "outputs": [
        {
          "output_type": "execute_result",
          "data": {
            "text/plain": [
              "          age  trestbps      chol   thalach   oldpeak  sex_0  sex_1  fbs_0  \\\n",
              "0    6.936721  8.267694  4.495401  6.548742  1.980923      0      1      0   \n",
              "1    4.073947  7.412415  4.823391  8.164099  3.014448      0      1      1   \n",
              "2    4.514374  7.412415  3.935887  7.509225  1.205779      1      0      1   \n",
              "3    6.165974  6.842230  4.553282  7.771174  0.689017      0      1      1   \n",
              "4    6.276081  6.842230  6.829922  7.116300  0.516762      1      0      1   \n",
              "..        ...       ...       ...       ...       ...    ...    ...    ...   \n",
              "298  6.276081  7.982601  4.649749  5.369969  0.172254      1      0      1   \n",
              "299  4.954801  6.272044  5.093501  5.762893  1.033525      0      1      1   \n",
              "300  7.487254  8.210676  3.723658  6.155818  2.928321      0      1      0   \n",
              "301  6.276081  7.412415  2.527457  5.020703  1.033525      0      1      1   \n",
              "302  6.276081  7.412415  4.553282  7.596541  0.000000      1      0      1   \n",
              "\n",
              "     fbs_1  exang_0  ...  ca_0  ca_1  ca_2  ca_3  ca_4  thal_0  thal_1  \\\n",
              "0        1        1  ...     1     0     0     0     0       0       1   \n",
              "1        0        1  ...     1     0     0     0     0       0       0   \n",
              "2        0        1  ...     1     0     0     0     0       0       0   \n",
              "3        0        1  ...     1     0     0     0     0       0       0   \n",
              "4        0        0  ...     1     0     0     0     0       0       0   \n",
              "..     ...      ...  ...   ...   ...   ...   ...   ...     ...     ...   \n",
              "298      0        0  ...     1     0     0     0     0       0       0   \n",
              "299      0        1  ...     1     0     0     0     0       0       0   \n",
              "300      1        1  ...     0     0     1     0     0       0       0   \n",
              "301      0        0  ...     0     1     0     0     0       0       0   \n",
              "302      0        1  ...     0     1     0     0     0       0       0   \n",
              "\n",
              "     thal_2  thal_3  target  \n",
              "0         0       0       1  \n",
              "1         1       0       1  \n",
              "2         1       0       1  \n",
              "3         1       0       1  \n",
              "4         1       0       1  \n",
              "..      ...     ...     ...  \n",
              "298       0       1       0  \n",
              "299       0       1       0  \n",
              "300       0       1       0  \n",
              "301       0       1       0  \n",
              "302       1       0       0  \n",
              "\n",
              "[303 rows x 31 columns]"
            ],
            "text/html": [
              "\n",
              "  <div id=\"df-dab07091-1b17-4021-9c44-d7907e9aa19c\">\n",
              "    <div class=\"colab-df-container\">\n",
              "      <div>\n",
              "<style scoped>\n",
              "    .dataframe tbody tr th:only-of-type {\n",
              "        vertical-align: middle;\n",
              "    }\n",
              "\n",
              "    .dataframe tbody tr th {\n",
              "        vertical-align: top;\n",
              "    }\n",
              "\n",
              "    .dataframe thead th {\n",
              "        text-align: right;\n",
              "    }\n",
              "</style>\n",
              "<table border=\"1\" class=\"dataframe\">\n",
              "  <thead>\n",
              "    <tr style=\"text-align: right;\">\n",
              "      <th></th>\n",
              "      <th>age</th>\n",
              "      <th>trestbps</th>\n",
              "      <th>chol</th>\n",
              "      <th>thalach</th>\n",
              "      <th>oldpeak</th>\n",
              "      <th>sex_0</th>\n",
              "      <th>sex_1</th>\n",
              "      <th>fbs_0</th>\n",
              "      <th>fbs_1</th>\n",
              "      <th>exang_0</th>\n",
              "      <th>...</th>\n",
              "      <th>ca_0</th>\n",
              "      <th>ca_1</th>\n",
              "      <th>ca_2</th>\n",
              "      <th>ca_3</th>\n",
              "      <th>ca_4</th>\n",
              "      <th>thal_0</th>\n",
              "      <th>thal_1</th>\n",
              "      <th>thal_2</th>\n",
              "      <th>thal_3</th>\n",
              "      <th>target</th>\n",
              "    </tr>\n",
              "  </thead>\n",
              "  <tbody>\n",
              "    <tr>\n",
              "      <th>0</th>\n",
              "      <td>6.936721</td>\n",
              "      <td>8.267694</td>\n",
              "      <td>4.495401</td>\n",
              "      <td>6.548742</td>\n",
              "      <td>1.980923</td>\n",
              "      <td>0</td>\n",
              "      <td>1</td>\n",
              "      <td>0</td>\n",
              "      <td>1</td>\n",
              "      <td>1</td>\n",
              "      <td>...</td>\n",
              "      <td>1</td>\n",
              "      <td>0</td>\n",
              "      <td>0</td>\n",
              "      <td>0</td>\n",
              "      <td>0</td>\n",
              "      <td>0</td>\n",
              "      <td>1</td>\n",
              "      <td>0</td>\n",
              "      <td>0</td>\n",
              "      <td>1</td>\n",
              "    </tr>\n",
              "    <tr>\n",
              "      <th>1</th>\n",
              "      <td>4.073947</td>\n",
              "      <td>7.412415</td>\n",
              "      <td>4.823391</td>\n",
              "      <td>8.164099</td>\n",
              "      <td>3.014448</td>\n",
              "      <td>0</td>\n",
              "      <td>1</td>\n",
              "      <td>1</td>\n",
              "      <td>0</td>\n",
              "      <td>1</td>\n",
              "      <td>...</td>\n",
              "      <td>1</td>\n",
              "      <td>0</td>\n",
              "      <td>0</td>\n",
              "      <td>0</td>\n",
              "      <td>0</td>\n",
              "      <td>0</td>\n",
              "      <td>0</td>\n",
              "      <td>1</td>\n",
              "      <td>0</td>\n",
              "      <td>1</td>\n",
              "    </tr>\n",
              "    <tr>\n",
              "      <th>2</th>\n",
              "      <td>4.514374</td>\n",
              "      <td>7.412415</td>\n",
              "      <td>3.935887</td>\n",
              "      <td>7.509225</td>\n",
              "      <td>1.205779</td>\n",
              "      <td>1</td>\n",
              "      <td>0</td>\n",
              "      <td>1</td>\n",
              "      <td>0</td>\n",
              "      <td>1</td>\n",
              "      <td>...</td>\n",
              "      <td>1</td>\n",
              "      <td>0</td>\n",
              "      <td>0</td>\n",
              "      <td>0</td>\n",
              "      <td>0</td>\n",
              "      <td>0</td>\n",
              "      <td>0</td>\n",
              "      <td>1</td>\n",
              "      <td>0</td>\n",
              "      <td>1</td>\n",
              "    </tr>\n",
              "    <tr>\n",
              "      <th>3</th>\n",
              "      <td>6.165974</td>\n",
              "      <td>6.842230</td>\n",
              "      <td>4.553282</td>\n",
              "      <td>7.771174</td>\n",
              "      <td>0.689017</td>\n",
              "      <td>0</td>\n",
              "      <td>1</td>\n",
              "      <td>1</td>\n",
              "      <td>0</td>\n",
              "      <td>1</td>\n",
              "      <td>...</td>\n",
              "      <td>1</td>\n",
              "      <td>0</td>\n",
              "      <td>0</td>\n",
              "      <td>0</td>\n",
              "      <td>0</td>\n",
              "      <td>0</td>\n",
              "      <td>0</td>\n",
              "      <td>1</td>\n",
              "      <td>0</td>\n",
              "      <td>1</td>\n",
              "    </tr>\n",
              "    <tr>\n",
              "      <th>4</th>\n",
              "      <td>6.276081</td>\n",
              "      <td>6.842230</td>\n",
              "      <td>6.829922</td>\n",
              "      <td>7.116300</td>\n",
              "      <td>0.516762</td>\n",
              "      <td>1</td>\n",
              "      <td>0</td>\n",
              "      <td>1</td>\n",
              "      <td>0</td>\n",
              "      <td>0</td>\n",
              "      <td>...</td>\n",
              "      <td>1</td>\n",
              "      <td>0</td>\n",
              "      <td>0</td>\n",
              "      <td>0</td>\n",
              "      <td>0</td>\n",
              "      <td>0</td>\n",
              "      <td>0</td>\n",
              "      <td>1</td>\n",
              "      <td>0</td>\n",
              "      <td>1</td>\n",
              "    </tr>\n",
              "    <tr>\n",
              "      <th>...</th>\n",
              "      <td>...</td>\n",
              "      <td>...</td>\n",
              "      <td>...</td>\n",
              "      <td>...</td>\n",
              "      <td>...</td>\n",
              "      <td>...</td>\n",
              "      <td>...</td>\n",
              "      <td>...</td>\n",
              "      <td>...</td>\n",
              "      <td>...</td>\n",
              "      <td>...</td>\n",
              "      <td>...</td>\n",
              "      <td>...</td>\n",
              "      <td>...</td>\n",
              "      <td>...</td>\n",
              "      <td>...</td>\n",
              "      <td>...</td>\n",
              "      <td>...</td>\n",
              "      <td>...</td>\n",
              "      <td>...</td>\n",
              "      <td>...</td>\n",
              "    </tr>\n",
              "    <tr>\n",
              "      <th>298</th>\n",
              "      <td>6.276081</td>\n",
              "      <td>7.982601</td>\n",
              "      <td>4.649749</td>\n",
              "      <td>5.369969</td>\n",
              "      <td>0.172254</td>\n",
              "      <td>1</td>\n",
              "      <td>0</td>\n",
              "      <td>1</td>\n",
              "      <td>0</td>\n",
              "      <td>0</td>\n",
              "      <td>...</td>\n",
              "      <td>1</td>\n",
              "      <td>0</td>\n",
              "      <td>0</td>\n",
              "      <td>0</td>\n",
              "      <td>0</td>\n",
              "      <td>0</td>\n",
              "      <td>0</td>\n",
              "      <td>0</td>\n",
              "      <td>1</td>\n",
              "      <td>0</td>\n",
              "    </tr>\n",
              "    <tr>\n",
              "      <th>299</th>\n",
              "      <td>4.954801</td>\n",
              "      <td>6.272044</td>\n",
              "      <td>5.093501</td>\n",
              "      <td>5.762893</td>\n",
              "      <td>1.033525</td>\n",
              "      <td>0</td>\n",
              "      <td>1</td>\n",
              "      <td>1</td>\n",
              "      <td>0</td>\n",
              "      <td>1</td>\n",
              "      <td>...</td>\n",
              "      <td>1</td>\n",
              "      <td>0</td>\n",
              "      <td>0</td>\n",
              "      <td>0</td>\n",
              "      <td>0</td>\n",
              "      <td>0</td>\n",
              "      <td>0</td>\n",
              "      <td>0</td>\n",
              "      <td>1</td>\n",
              "      <td>0</td>\n",
              "    </tr>\n",
              "    <tr>\n",
              "      <th>300</th>\n",
              "      <td>7.487254</td>\n",
              "      <td>8.210676</td>\n",
              "      <td>3.723658</td>\n",
              "      <td>6.155818</td>\n",
              "      <td>2.928321</td>\n",
              "      <td>0</td>\n",
              "      <td>1</td>\n",
              "      <td>0</td>\n",
              "      <td>1</td>\n",
              "      <td>1</td>\n",
              "      <td>...</td>\n",
              "      <td>0</td>\n",
              "      <td>0</td>\n",
              "      <td>1</td>\n",
              "      <td>0</td>\n",
              "      <td>0</td>\n",
              "      <td>0</td>\n",
              "      <td>0</td>\n",
              "      <td>0</td>\n",
              "      <td>1</td>\n",
              "      <td>0</td>\n",
              "    </tr>\n",
              "    <tr>\n",
              "      <th>301</th>\n",
              "      <td>6.276081</td>\n",
              "      <td>7.412415</td>\n",
              "      <td>2.527457</td>\n",
              "      <td>5.020703</td>\n",
              "      <td>1.033525</td>\n",
              "      <td>0</td>\n",
              "      <td>1</td>\n",
              "      <td>1</td>\n",
              "      <td>0</td>\n",
              "      <td>0</td>\n",
              "      <td>...</td>\n",
              "      <td>0</td>\n",
              "      <td>1</td>\n",
              "      <td>0</td>\n",
              "      <td>0</td>\n",
              "      <td>0</td>\n",
              "      <td>0</td>\n",
              "      <td>0</td>\n",
              "      <td>0</td>\n",
              "      <td>1</td>\n",
              "      <td>0</td>\n",
              "    </tr>\n",
              "    <tr>\n",
              "      <th>302</th>\n",
              "      <td>6.276081</td>\n",
              "      <td>7.412415</td>\n",
              "      <td>4.553282</td>\n",
              "      <td>7.596541</td>\n",
              "      <td>0.000000</td>\n",
              "      <td>1</td>\n",
              "      <td>0</td>\n",
              "      <td>1</td>\n",
              "      <td>0</td>\n",
              "      <td>1</td>\n",
              "      <td>...</td>\n",
              "      <td>0</td>\n",
              "      <td>1</td>\n",
              "      <td>0</td>\n",
              "      <td>0</td>\n",
              "      <td>0</td>\n",
              "      <td>0</td>\n",
              "      <td>0</td>\n",
              "      <td>1</td>\n",
              "      <td>0</td>\n",
              "      <td>0</td>\n",
              "    </tr>\n",
              "  </tbody>\n",
              "</table>\n",
              "<p>303 rows × 31 columns</p>\n",
              "</div>\n",
              "      <button class=\"colab-df-convert\" onclick=\"convertToInteractive('df-dab07091-1b17-4021-9c44-d7907e9aa19c')\"\n",
              "              title=\"Convert this dataframe to an interactive table.\"\n",
              "              style=\"display:none;\">\n",
              "        \n",
              "  <svg xmlns=\"http://www.w3.org/2000/svg\" height=\"24px\"viewBox=\"0 0 24 24\"\n",
              "       width=\"24px\">\n",
              "    <path d=\"M0 0h24v24H0V0z\" fill=\"none\"/>\n",
              "    <path d=\"M18.56 5.44l.94 2.06.94-2.06 2.06-.94-2.06-.94-.94-2.06-.94 2.06-2.06.94zm-11 1L8.5 8.5l.94-2.06 2.06-.94-2.06-.94L8.5 2.5l-.94 2.06-2.06.94zm10 10l.94 2.06.94-2.06 2.06-.94-2.06-.94-.94-2.06-.94 2.06-2.06.94z\"/><path d=\"M17.41 7.96l-1.37-1.37c-.4-.4-.92-.59-1.43-.59-.52 0-1.04.2-1.43.59L10.3 9.45l-7.72 7.72c-.78.78-.78 2.05 0 2.83L4 21.41c.39.39.9.59 1.41.59.51 0 1.02-.2 1.41-.59l7.78-7.78 2.81-2.81c.8-.78.8-2.07 0-2.86zM5.41 20L4 18.59l7.72-7.72 1.47 1.35L5.41 20z\"/>\n",
              "  </svg>\n",
              "      </button>\n",
              "      \n",
              "  <style>\n",
              "    .colab-df-container {\n",
              "      display:flex;\n",
              "      flex-wrap:wrap;\n",
              "      gap: 12px;\n",
              "    }\n",
              "\n",
              "    .colab-df-convert {\n",
              "      background-color: #E8F0FE;\n",
              "      border: none;\n",
              "      border-radius: 50%;\n",
              "      cursor: pointer;\n",
              "      display: none;\n",
              "      fill: #1967D2;\n",
              "      height: 32px;\n",
              "      padding: 0 0 0 0;\n",
              "      width: 32px;\n",
              "    }\n",
              "\n",
              "    .colab-df-convert:hover {\n",
              "      background-color: #E2EBFA;\n",
              "      box-shadow: 0px 1px 2px rgba(60, 64, 67, 0.3), 0px 1px 3px 1px rgba(60, 64, 67, 0.15);\n",
              "      fill: #174EA6;\n",
              "    }\n",
              "\n",
              "    [theme=dark] .colab-df-convert {\n",
              "      background-color: #3B4455;\n",
              "      fill: #D2E3FC;\n",
              "    }\n",
              "\n",
              "    [theme=dark] .colab-df-convert:hover {\n",
              "      background-color: #434B5C;\n",
              "      box-shadow: 0px 1px 3px 1px rgba(0, 0, 0, 0.15);\n",
              "      filter: drop-shadow(0px 1px 2px rgba(0, 0, 0, 0.3));\n",
              "      fill: #FFFFFF;\n",
              "    }\n",
              "  </style>\n",
              "\n",
              "      <script>\n",
              "        const buttonEl =\n",
              "          document.querySelector('#df-dab07091-1b17-4021-9c44-d7907e9aa19c button.colab-df-convert');\n",
              "        buttonEl.style.display =\n",
              "          google.colab.kernel.accessAllowed ? 'block' : 'none';\n",
              "\n",
              "        async function convertToInteractive(key) {\n",
              "          const element = document.querySelector('#df-dab07091-1b17-4021-9c44-d7907e9aa19c');\n",
              "          const dataTable =\n",
              "            await google.colab.kernel.invokeFunction('convertToInteractive',\n",
              "                                                     [key], {});\n",
              "          if (!dataTable) return;\n",
              "\n",
              "          const docLinkHtml = 'Like what you see? Visit the ' +\n",
              "            '<a target=\"_blank\" href=https://colab.research.google.com/notebooks/data_table.ipynb>data table notebook</a>'\n",
              "            + ' to learn more about interactive tables.';\n",
              "          element.innerHTML = '';\n",
              "          dataTable['output_type'] = 'display_data';\n",
              "          await google.colab.output.renderOutput(dataTable, element);\n",
              "          const docLink = document.createElement('div');\n",
              "          docLink.innerHTML = docLinkHtml;\n",
              "          element.appendChild(docLink);\n",
              "        }\n",
              "      </script>\n",
              "    </div>\n",
              "  </div>\n",
              "  "
            ]
          },
          "metadata": {},
          "execution_count": 18
        }
      ]
    },
    {
      "cell_type": "code",
      "source": [
        "from keras.utils.np_utils import to_categorical"
      ],
      "metadata": {
        "id": "xE7m3JKZRCPD"
      },
      "execution_count": 19,
      "outputs": []
    },
    {
      "cell_type": "code",
      "source": [
        "train_data = normalizado.sample(frac=0.8,random_state=0)\n",
        "# El resto de datos los almacenamos en test_data:\n",
        "test_data = normalizado.drop(train_data.index)"
      ],
      "metadata": {
        "id": "0g-fUO4gOYcK"
      },
      "execution_count": 20,
      "outputs": []
    },
    {
      "cell_type": "code",
      "source": [
        "train_data"
      ],
      "metadata": {
        "id": "Q4Xavd5kOeOF",
        "outputId": "c33b7f11-3c84-43a6-a3c9-cf11d77120be",
        "colab": {
          "base_uri": "https://localhost:8080/",
          "height": 0
        }
      },
      "execution_count": 21,
      "outputs": [
        {
          "output_type": "execute_result",
          "data": {
            "text/plain": [
              "          age  trestbps      chol   thalach   oldpeak  sex_0  sex_1  fbs_0  \\\n",
              "225  7.707468  8.267694  3.357080  5.457285  2.239304      0      1      1   \n",
              "152  7.046828  9.693159  4.379639  6.767034  0.516762      0      1      1   \n",
              "228  6.496294  9.693159  5.556547  6.941667  0.172254      0      1      1   \n",
              "201  6.606401  7.127323  4.977740  6.155818  2.411558      0      1      1   \n",
              "52   6.826614  7.412415  4.456814  6.374109  1.550287      0      1      1   \n",
              "..        ...       ...       ...       ...       ...    ...    ...    ...   \n",
              "82   6.606401  5.815895  6.135354  6.985325  0.000000      1      0      1   \n",
              "285  5.064907  7.982601  6.000299  5.238994  1.550287      0      1      1   \n",
              "11   5.285121  7.412415  5.305731  6.068501  0.172254      1      0      1   \n",
              "119  5.064907  7.868564  4.688336  6.636059  0.000000      1      0      1   \n",
              "102  6.936721  7.982601  3.762245  7.814833  0.000000      1      0      1   \n",
              "\n",
              "     fbs_1  exang_0  ...  ca_0  ca_1  ca_2  ca_3  ca_4  thal_0  thal_1  \\\n",
              "225      0        0  ...     1     0     0     0     0       0       0   \n",
              "152      0        1  ...     1     0     0     0     0       0       0   \n",
              "228      0        1  ...     1     0     0     0     0       0       0   \n",
              "201      0        0  ...     0     1     0     0     0       0       0   \n",
              "52       0        1  ...     0     0     0     1     0       0       0   \n",
              "..     ...      ...  ...   ...   ...   ...   ...   ...     ...     ...   \n",
              "82       0        1  ...     0     1     0     0     0       0       0   \n",
              "285      0        0  ...     0     0     1     0     0       0       0   \n",
              "11       0        1  ...     1     0     0     0     0       0       0   \n",
              "119      0        0  ...     1     0     0     0     0       0       0   \n",
              "102      0        1  ...     0     0     1     0     0       0       0   \n",
              "\n",
              "     thal_2  thal_3  target  \n",
              "225       0       1       0  \n",
              "152       0       1       1  \n",
              "228       0       1       0  \n",
              "201       0       1       0  \n",
              "52        0       1       1  \n",
              "..      ...     ...     ...  \n",
              "82        1       0       1  \n",
              "285       0       1       0  \n",
              "11        1       0       1  \n",
              "119       1       0       1  \n",
              "102       1       0       1  \n",
              "\n",
              "[242 rows x 31 columns]"
            ],
            "text/html": [
              "\n",
              "  <div id=\"df-89765f51-68c4-4450-8670-5289f3c33ce4\">\n",
              "    <div class=\"colab-df-container\">\n",
              "      <div>\n",
              "<style scoped>\n",
              "    .dataframe tbody tr th:only-of-type {\n",
              "        vertical-align: middle;\n",
              "    }\n",
              "\n",
              "    .dataframe tbody tr th {\n",
              "        vertical-align: top;\n",
              "    }\n",
              "\n",
              "    .dataframe thead th {\n",
              "        text-align: right;\n",
              "    }\n",
              "</style>\n",
              "<table border=\"1\" class=\"dataframe\">\n",
              "  <thead>\n",
              "    <tr style=\"text-align: right;\">\n",
              "      <th></th>\n",
              "      <th>age</th>\n",
              "      <th>trestbps</th>\n",
              "      <th>chol</th>\n",
              "      <th>thalach</th>\n",
              "      <th>oldpeak</th>\n",
              "      <th>sex_0</th>\n",
              "      <th>sex_1</th>\n",
              "      <th>fbs_0</th>\n",
              "      <th>fbs_1</th>\n",
              "      <th>exang_0</th>\n",
              "      <th>...</th>\n",
              "      <th>ca_0</th>\n",
              "      <th>ca_1</th>\n",
              "      <th>ca_2</th>\n",
              "      <th>ca_3</th>\n",
              "      <th>ca_4</th>\n",
              "      <th>thal_0</th>\n",
              "      <th>thal_1</th>\n",
              "      <th>thal_2</th>\n",
              "      <th>thal_3</th>\n",
              "      <th>target</th>\n",
              "    </tr>\n",
              "  </thead>\n",
              "  <tbody>\n",
              "    <tr>\n",
              "      <th>225</th>\n",
              "      <td>7.707468</td>\n",
              "      <td>8.267694</td>\n",
              "      <td>3.357080</td>\n",
              "      <td>5.457285</td>\n",
              "      <td>2.239304</td>\n",
              "      <td>0</td>\n",
              "      <td>1</td>\n",
              "      <td>1</td>\n",
              "      <td>0</td>\n",
              "      <td>0</td>\n",
              "      <td>...</td>\n",
              "      <td>1</td>\n",
              "      <td>0</td>\n",
              "      <td>0</td>\n",
              "      <td>0</td>\n",
              "      <td>0</td>\n",
              "      <td>0</td>\n",
              "      <td>0</td>\n",
              "      <td>0</td>\n",
              "      <td>1</td>\n",
              "      <td>0</td>\n",
              "    </tr>\n",
              "    <tr>\n",
              "      <th>152</th>\n",
              "      <td>7.046828</td>\n",
              "      <td>9.693159</td>\n",
              "      <td>4.379639</td>\n",
              "      <td>6.767034</td>\n",
              "      <td>0.516762</td>\n",
              "      <td>0</td>\n",
              "      <td>1</td>\n",
              "      <td>1</td>\n",
              "      <td>0</td>\n",
              "      <td>1</td>\n",
              "      <td>...</td>\n",
              "      <td>1</td>\n",
              "      <td>0</td>\n",
              "      <td>0</td>\n",
              "      <td>0</td>\n",
              "      <td>0</td>\n",
              "      <td>0</td>\n",
              "      <td>0</td>\n",
              "      <td>0</td>\n",
              "      <td>1</td>\n",
              "      <td>1</td>\n",
              "    </tr>\n",
              "    <tr>\n",
              "      <th>228</th>\n",
              "      <td>6.496294</td>\n",
              "      <td>9.693159</td>\n",
              "      <td>5.556547</td>\n",
              "      <td>6.941667</td>\n",
              "      <td>0.172254</td>\n",
              "      <td>0</td>\n",
              "      <td>1</td>\n",
              "      <td>1</td>\n",
              "      <td>0</td>\n",
              "      <td>1</td>\n",
              "      <td>...</td>\n",
              "      <td>1</td>\n",
              "      <td>0</td>\n",
              "      <td>0</td>\n",
              "      <td>0</td>\n",
              "      <td>0</td>\n",
              "      <td>0</td>\n",
              "      <td>0</td>\n",
              "      <td>0</td>\n",
              "      <td>1</td>\n",
              "      <td>0</td>\n",
              "    </tr>\n",
              "    <tr>\n",
              "      <th>201</th>\n",
              "      <td>6.606401</td>\n",
              "      <td>7.127323</td>\n",
              "      <td>4.977740</td>\n",
              "      <td>6.155818</td>\n",
              "      <td>2.411558</td>\n",
              "      <td>0</td>\n",
              "      <td>1</td>\n",
              "      <td>1</td>\n",
              "      <td>0</td>\n",
              "      <td>0</td>\n",
              "      <td>...</td>\n",
              "      <td>0</td>\n",
              "      <td>1</td>\n",
              "      <td>0</td>\n",
              "      <td>0</td>\n",
              "      <td>0</td>\n",
              "      <td>0</td>\n",
              "      <td>0</td>\n",
              "      <td>0</td>\n",
              "      <td>1</td>\n",
              "      <td>0</td>\n",
              "    </tr>\n",
              "    <tr>\n",
              "      <th>52</th>\n",
              "      <td>6.826614</td>\n",
              "      <td>7.412415</td>\n",
              "      <td>4.456814</td>\n",
              "      <td>6.374109</td>\n",
              "      <td>1.550287</td>\n",
              "      <td>0</td>\n",
              "      <td>1</td>\n",
              "      <td>1</td>\n",
              "      <td>0</td>\n",
              "      <td>1</td>\n",
              "      <td>...</td>\n",
              "      <td>0</td>\n",
              "      <td>0</td>\n",
              "      <td>0</td>\n",
              "      <td>1</td>\n",
              "      <td>0</td>\n",
              "      <td>0</td>\n",
              "      <td>0</td>\n",
              "      <td>0</td>\n",
              "      <td>1</td>\n",
              "      <td>1</td>\n",
              "    </tr>\n",
              "    <tr>\n",
              "      <th>...</th>\n",
              "      <td>...</td>\n",
              "      <td>...</td>\n",
              "      <td>...</td>\n",
              "      <td>...</td>\n",
              "      <td>...</td>\n",
              "      <td>...</td>\n",
              "      <td>...</td>\n",
              "      <td>...</td>\n",
              "      <td>...</td>\n",
              "      <td>...</td>\n",
              "      <td>...</td>\n",
              "      <td>...</td>\n",
              "      <td>...</td>\n",
              "      <td>...</td>\n",
              "      <td>...</td>\n",
              "      <td>...</td>\n",
              "      <td>...</td>\n",
              "      <td>...</td>\n",
              "      <td>...</td>\n",
              "      <td>...</td>\n",
              "      <td>...</td>\n",
              "    </tr>\n",
              "    <tr>\n",
              "      <th>82</th>\n",
              "      <td>6.606401</td>\n",
              "      <td>5.815895</td>\n",
              "      <td>6.135354</td>\n",
              "      <td>6.985325</td>\n",
              "      <td>0.000000</td>\n",
              "      <td>1</td>\n",
              "      <td>0</td>\n",
              "      <td>1</td>\n",
              "      <td>0</td>\n",
              "      <td>1</td>\n",
              "      <td>...</td>\n",
              "      <td>0</td>\n",
              "      <td>1</td>\n",
              "      <td>0</td>\n",
              "      <td>0</td>\n",
              "      <td>0</td>\n",
              "      <td>0</td>\n",
              "      <td>0</td>\n",
              "      <td>1</td>\n",
              "      <td>0</td>\n",
              "      <td>1</td>\n",
              "    </tr>\n",
              "    <tr>\n",
              "      <th>285</th>\n",
              "      <td>5.064907</td>\n",
              "      <td>7.982601</td>\n",
              "      <td>6.000299</td>\n",
              "      <td>5.238994</td>\n",
              "      <td>1.550287</td>\n",
              "      <td>0</td>\n",
              "      <td>1</td>\n",
              "      <td>1</td>\n",
              "      <td>0</td>\n",
              "      <td>0</td>\n",
              "      <td>...</td>\n",
              "      <td>0</td>\n",
              "      <td>0</td>\n",
              "      <td>1</td>\n",
              "      <td>0</td>\n",
              "      <td>0</td>\n",
              "      <td>0</td>\n",
              "      <td>0</td>\n",
              "      <td>0</td>\n",
              "      <td>1</td>\n",
              "      <td>0</td>\n",
              "    </tr>\n",
              "    <tr>\n",
              "      <th>11</th>\n",
              "      <td>5.285121</td>\n",
              "      <td>7.412415</td>\n",
              "      <td>5.305731</td>\n",
              "      <td>6.068501</td>\n",
              "      <td>0.172254</td>\n",
              "      <td>1</td>\n",
              "      <td>0</td>\n",
              "      <td>1</td>\n",
              "      <td>0</td>\n",
              "      <td>1</td>\n",
              "      <td>...</td>\n",
              "      <td>1</td>\n",
              "      <td>0</td>\n",
              "      <td>0</td>\n",
              "      <td>0</td>\n",
              "      <td>0</td>\n",
              "      <td>0</td>\n",
              "      <td>0</td>\n",
              "      <td>1</td>\n",
              "      <td>0</td>\n",
              "      <td>1</td>\n",
              "    </tr>\n",
              "    <tr>\n",
              "      <th>119</th>\n",
              "      <td>5.064907</td>\n",
              "      <td>7.868564</td>\n",
              "      <td>4.688336</td>\n",
              "      <td>6.636059</td>\n",
              "      <td>0.000000</td>\n",
              "      <td>1</td>\n",
              "      <td>0</td>\n",
              "      <td>1</td>\n",
              "      <td>0</td>\n",
              "      <td>0</td>\n",
              "      <td>...</td>\n",
              "      <td>1</td>\n",
              "      <td>0</td>\n",
              "      <td>0</td>\n",
              "      <td>0</td>\n",
              "      <td>0</td>\n",
              "      <td>0</td>\n",
              "      <td>0</td>\n",
              "      <td>1</td>\n",
              "      <td>0</td>\n",
              "      <td>1</td>\n",
              "    </tr>\n",
              "    <tr>\n",
              "      <th>102</th>\n",
              "      <td>6.936721</td>\n",
              "      <td>7.982601</td>\n",
              "      <td>3.762245</td>\n",
              "      <td>7.814833</td>\n",
              "      <td>0.000000</td>\n",
              "      <td>1</td>\n",
              "      <td>0</td>\n",
              "      <td>1</td>\n",
              "      <td>0</td>\n",
              "      <td>1</td>\n",
              "      <td>...</td>\n",
              "      <td>0</td>\n",
              "      <td>0</td>\n",
              "      <td>1</td>\n",
              "      <td>0</td>\n",
              "      <td>0</td>\n",
              "      <td>0</td>\n",
              "      <td>0</td>\n",
              "      <td>1</td>\n",
              "      <td>0</td>\n",
              "      <td>1</td>\n",
              "    </tr>\n",
              "  </tbody>\n",
              "</table>\n",
              "<p>242 rows × 31 columns</p>\n",
              "</div>\n",
              "      <button class=\"colab-df-convert\" onclick=\"convertToInteractive('df-89765f51-68c4-4450-8670-5289f3c33ce4')\"\n",
              "              title=\"Convert this dataframe to an interactive table.\"\n",
              "              style=\"display:none;\">\n",
              "        \n",
              "  <svg xmlns=\"http://www.w3.org/2000/svg\" height=\"24px\"viewBox=\"0 0 24 24\"\n",
              "       width=\"24px\">\n",
              "    <path d=\"M0 0h24v24H0V0z\" fill=\"none\"/>\n",
              "    <path d=\"M18.56 5.44l.94 2.06.94-2.06 2.06-.94-2.06-.94-.94-2.06-.94 2.06-2.06.94zm-11 1L8.5 8.5l.94-2.06 2.06-.94-2.06-.94L8.5 2.5l-.94 2.06-2.06.94zm10 10l.94 2.06.94-2.06 2.06-.94-2.06-.94-.94-2.06-.94 2.06-2.06.94z\"/><path d=\"M17.41 7.96l-1.37-1.37c-.4-.4-.92-.59-1.43-.59-.52 0-1.04.2-1.43.59L10.3 9.45l-7.72 7.72c-.78.78-.78 2.05 0 2.83L4 21.41c.39.39.9.59 1.41.59.51 0 1.02-.2 1.41-.59l7.78-7.78 2.81-2.81c.8-.78.8-2.07 0-2.86zM5.41 20L4 18.59l7.72-7.72 1.47 1.35L5.41 20z\"/>\n",
              "  </svg>\n",
              "      </button>\n",
              "      \n",
              "  <style>\n",
              "    .colab-df-container {\n",
              "      display:flex;\n",
              "      flex-wrap:wrap;\n",
              "      gap: 12px;\n",
              "    }\n",
              "\n",
              "    .colab-df-convert {\n",
              "      background-color: #E8F0FE;\n",
              "      border: none;\n",
              "      border-radius: 50%;\n",
              "      cursor: pointer;\n",
              "      display: none;\n",
              "      fill: #1967D2;\n",
              "      height: 32px;\n",
              "      padding: 0 0 0 0;\n",
              "      width: 32px;\n",
              "    }\n",
              "\n",
              "    .colab-df-convert:hover {\n",
              "      background-color: #E2EBFA;\n",
              "      box-shadow: 0px 1px 2px rgba(60, 64, 67, 0.3), 0px 1px 3px 1px rgba(60, 64, 67, 0.15);\n",
              "      fill: #174EA6;\n",
              "    }\n",
              "\n",
              "    [theme=dark] .colab-df-convert {\n",
              "      background-color: #3B4455;\n",
              "      fill: #D2E3FC;\n",
              "    }\n",
              "\n",
              "    [theme=dark] .colab-df-convert:hover {\n",
              "      background-color: #434B5C;\n",
              "      box-shadow: 0px 1px 3px 1px rgba(0, 0, 0, 0.15);\n",
              "      filter: drop-shadow(0px 1px 2px rgba(0, 0, 0, 0.3));\n",
              "      fill: #FFFFFF;\n",
              "    }\n",
              "  </style>\n",
              "\n",
              "      <script>\n",
              "        const buttonEl =\n",
              "          document.querySelector('#df-89765f51-68c4-4450-8670-5289f3c33ce4 button.colab-df-convert');\n",
              "        buttonEl.style.display =\n",
              "          google.colab.kernel.accessAllowed ? 'block' : 'none';\n",
              "\n",
              "        async function convertToInteractive(key) {\n",
              "          const element = document.querySelector('#df-89765f51-68c4-4450-8670-5289f3c33ce4');\n",
              "          const dataTable =\n",
              "            await google.colab.kernel.invokeFunction('convertToInteractive',\n",
              "                                                     [key], {});\n",
              "          if (!dataTable) return;\n",
              "\n",
              "          const docLinkHtml = 'Like what you see? Visit the ' +\n",
              "            '<a target=\"_blank\" href=https://colab.research.google.com/notebooks/data_table.ipynb>data table notebook</a>'\n",
              "            + ' to learn more about interactive tables.';\n",
              "          element.innerHTML = '';\n",
              "          dataTable['output_type'] = 'display_data';\n",
              "          await google.colab.output.renderOutput(dataTable, element);\n",
              "          const docLink = document.createElement('div');\n",
              "          docLink.innerHTML = docLinkHtml;\n",
              "          element.appendChild(docLink);\n",
              "        }\n",
              "      </script>\n",
              "    </div>\n",
              "  </div>\n",
              "  "
            ]
          },
          "metadata": {},
          "execution_count": 21
        }
      ]
    },
    {
      "cell_type": "code",
      "source": [
        "train_labels = train_data.pop('target')\n",
        "test_labels = test_data.pop('target')"
      ],
      "metadata": {
        "id": "8pVuf2mBRjlO"
      },
      "execution_count": 22,
      "outputs": []
    },
    {
      "cell_type": "markdown",
      "source": [
        "##Creamos la red"
      ],
      "metadata": {
        "id": "pEH1tYz3Q37D"
      }
    },
    {
      "cell_type": "code",
      "source": [
        "import tensorflow as tf\n",
        "\n",
        "from keras import models\n",
        "from keras import layers"
      ],
      "metadata": {
        "id": "eCMwRkx-poC9"
      },
      "execution_count": 23,
      "outputs": []
    },
    {
      "cell_type": "markdown",
      "source": [
        "###**RMSPROP**"
      ],
      "metadata": {
        "id": "3F3_SXu5pcIS"
      }
    },
    {
      "cell_type": "code",
      "source": [
        "modelo1 = models.Sequential()\n",
        "modelo1.add(layers.Dense(16, activation='relu', input_shape=(30,)))\n",
        "modelo1.add(layers.Dense(16, activation='relu'))\n",
        "modelo1.add(layers.Dense(1, activation='sigmoid'))"
      ],
      "metadata": {
        "id": "UR0XxJQGSMSV"
      },
      "execution_count": 24,
      "outputs": []
    },
    {
      "cell_type": "code",
      "source": [
        "modelo1.compile(optimizer='rmsprop',\n",
        "              loss='binary_crossentropy',\n",
        "              metrics=['accuracy'])"
      ],
      "metadata": {
        "id": "y5lwGLLw0eMG"
      },
      "execution_count": 25,
      "outputs": []
    },
    {
      "cell_type": "markdown",
      "source": [
        "**Validación**"
      ],
      "metadata": {
        "id": "ZZc1TcqZprWh"
      }
    },
    {
      "cell_type": "code",
      "source": [
        "k = 3\n",
        "num_val_samples = len(train_data) // k\n",
        "print(\"num_val_samples\", num_val_samples)\n",
        "num_epochs = 100\n",
        "all_acc = []\n",
        "all_loss = []\n",
        "for i in range(k):\n",
        "    print('processing fold #', i)\n",
        "    # Preparamos la validación de los datos: datos de la partición #k\n",
        "    val_data = train_data[i * num_val_samples: (i + 1) * num_val_samples]\n",
        "    val_labels = train_labels[i * num_val_samples: (i + 1) * num_val_samples]\n",
        "\n",
        "    # Preparamos los datos de entrenamiento: Datos de las demás particiones\n",
        "    partial_train_data = np.concatenate(\n",
        "        [train_data[:i * num_val_samples],\n",
        "         train_data[(i + 1) * num_val_samples:]],\n",
        "        axis=0)\n",
        "    partial_train_labels = np.concatenate(\n",
        "        [train_labels[:i * num_val_samples],\n",
        "         train_labels[(i + 1) * num_val_samples:]],\n",
        "        axis=0)\n",
        "\n",
        "    # Construcción del modelo Keras (ya compilado)\n",
        "    model = modelo1\n",
        "    # Entrenando el modelo (en modo silencioso, verbose=0)\n",
        "    model.fit(partial_train_data, partial_train_labels,\n",
        "              epochs=num_epochs, batch_size=1, verbose=0)\n",
        "    # Evalua el modelo sobre los datos de validación\n",
        "    loss, acc = model.evaluate(val_data, val_labels, verbose=0)\n",
        "    all_acc.append(acc)\n",
        "    all_loss.append(loss)"
      ],
      "metadata": {
        "id": "ktJUxhsJoheQ",
        "outputId": "e16acb73-a673-4c9f-f0db-fc870f67880d",
        "colab": {
          "base_uri": "https://localhost:8080/"
        }
      },
      "execution_count": 26,
      "outputs": [
        {
          "output_type": "stream",
          "name": "stdout",
          "text": [
            "num_val_samples 80\n",
            "processing fold # 0\n",
            "processing fold # 1\n",
            "processing fold # 2\n"
          ]
        }
      ]
    },
    {
      "cell_type": "code",
      "source": [
        "print(all_acc)\n",
        "print(all_loss)"
      ],
      "metadata": {
        "id": "_dSbOLN2lWKa",
        "outputId": "16f057d3-20b6-43d8-a445-7794da3681e8",
        "colab": {
          "base_uri": "https://localhost:8080/"
        }
      },
      "execution_count": 27,
      "outputs": [
        {
          "output_type": "stream",
          "name": "stdout",
          "text": [
            "[0.824999988079071, 0.8125, 0.8999999761581421]\n",
            "[0.8463543057441711, 0.7823804616928101, 0.5769525766372681]\n"
          ]
        }
      ]
    },
    {
      "cell_type": "code",
      "source": [
        "print(np.mean(all_acc))\n",
        "print(np.mean(all_loss))"
      ],
      "metadata": {
        "colab": {
          "base_uri": "https://localhost:8080/"
        },
        "id": "vKzRa7-QbhYh",
        "outputId": "459b76e3-83f4-4672-ada3-08bae1c18ea0"
      },
      "execution_count": 28,
      "outputs": [
        {
          "output_type": "stream",
          "name": "stdout",
          "text": [
            "0.8458333214124044\n",
            "0.7352291146914164\n"
          ]
        }
      ]
    },
    {
      "cell_type": "code",
      "source": [
        "#Lo entrenamos en todos los datos.\n",
        "test_lossRP, test_accRP = modelo1.evaluate(test_data, test_labels)"
      ],
      "metadata": {
        "colab": {
          "base_uri": "https://localhost:8080/"
        },
        "id": "34PKCDZpb3YC",
        "outputId": "e6951454-0d42-4bc8-8c5c-58d34fb25afc"
      },
      "execution_count": 29,
      "outputs": [
        {
          "output_type": "stream",
          "name": "stdout",
          "text": [
            "2/2 [==============================] - 0s 8ms/step - loss: 3.2476 - accuracy: 0.7541\n"
          ]
        }
      ]
    },
    {
      "cell_type": "code",
      "source": [
        "resultsRP = [test_lossRP, test_accRP]\n",
        "\n",
        "resultsRP"
      ],
      "metadata": {
        "id": "M9jEpPCg695s",
        "outputId": "54e9f50d-baa3-49e5-c0b9-ddaf27c284cc",
        "colab": {
          "base_uri": "https://localhost:8080/"
        }
      },
      "execution_count": 30,
      "outputs": [
        {
          "output_type": "execute_result",
          "data": {
            "text/plain": [
              "[3.2476093769073486, 0.7540983557701111]"
            ]
          },
          "metadata": {},
          "execution_count": 30
        }
      ]
    },
    {
      "cell_type": "code",
      "source": [
        "predicciones = model.predict(test_data)\n",
        "print(predicciones)\n",
        "\n",
        "# Clasificación predicha\n",
        "# ==============================================================================\n",
        "clasificacion = np.where(predicciones<0.5, 0, 1)\n",
        "clasificacion"
      ],
      "metadata": {
        "colab": {
          "base_uri": "https://localhost:8080/"
        },
        "id": "olpcA2hCdPSf",
        "outputId": "c525eff6-7b48-4fca-f126-535e607d5c40"
      },
      "execution_count": 31,
      "outputs": [
        {
          "output_type": "stream",
          "name": "stdout",
          "text": [
            "[[9.99999881e-01]\n",
            " [1.00000000e+00]\n",
            " [9.99907732e-01]\n",
            " [9.99604881e-01]\n",
            " [1.00000000e+00]\n",
            " [8.97463560e-01]\n",
            " [1.00000000e+00]\n",
            " [9.99999642e-01]\n",
            " [1.00000000e+00]\n",
            " [1.00000000e+00]\n",
            " [1.29365585e-09]\n",
            " [9.99999881e-01]\n",
            " [1.00000000e+00]\n",
            " [9.99981523e-01]\n",
            " [1.00000000e+00]\n",
            " [2.83251673e-01]\n",
            " [1.00000000e+00]\n",
            " [4.64132689e-02]\n",
            " [1.00000000e+00]\n",
            " [1.00000000e+00]\n",
            " [1.00000000e+00]\n",
            " [9.99981642e-01]\n",
            " [1.00000000e+00]\n",
            " [2.99153835e-01]\n",
            " [8.71749173e-10]\n",
            " [9.99999523e-01]\n",
            " [1.00000000e+00]\n",
            " [1.00000000e+00]\n",
            " [9.99998689e-01]\n",
            " [1.04162871e-06]\n",
            " [1.00000000e+00]\n",
            " [1.62076554e-04]\n",
            " [4.15646965e-25]\n",
            " [9.99999881e-01]\n",
            " [5.29593661e-28]\n",
            " [8.19929361e-01]\n",
            " [2.90758162e-15]\n",
            " [1.00323210e-04]\n",
            " [3.22072126e-04]\n",
            " [4.03853335e-07]\n",
            " [3.32455099e-25]\n",
            " [1.09990115e-08]\n",
            " [3.09724002e-09]\n",
            " [9.34629679e-01]\n",
            " [3.16033153e-22]\n",
            " [3.48439222e-10]\n",
            " [9.34400235e-13]\n",
            " [2.11658445e-03]\n",
            " [4.67080147e-18]\n",
            " [1.00000000e+00]\n",
            " [6.48231534e-26]\n",
            " [8.06512058e-01]\n",
            " [9.99997258e-01]\n",
            " [2.90466414e-04]\n",
            " [4.33707470e-03]\n",
            " [9.99875426e-01]\n",
            " [1.00000000e+00]\n",
            " [9.99999762e-01]\n",
            " [4.80066905e-24]\n",
            " [1.58157818e-12]\n",
            " [4.86759662e-36]]\n"
          ]
        },
        {
          "output_type": "execute_result",
          "data": {
            "text/plain": [
              "array([[1],\n",
              "       [1],\n",
              "       [1],\n",
              "       [1],\n",
              "       [1],\n",
              "       [1],\n",
              "       [1],\n",
              "       [1],\n",
              "       [1],\n",
              "       [1],\n",
              "       [0],\n",
              "       [1],\n",
              "       [1],\n",
              "       [1],\n",
              "       [1],\n",
              "       [0],\n",
              "       [1],\n",
              "       [0],\n",
              "       [1],\n",
              "       [1],\n",
              "       [1],\n",
              "       [1],\n",
              "       [1],\n",
              "       [0],\n",
              "       [0],\n",
              "       [1],\n",
              "       [1],\n",
              "       [1],\n",
              "       [1],\n",
              "       [0],\n",
              "       [1],\n",
              "       [0],\n",
              "       [0],\n",
              "       [1],\n",
              "       [0],\n",
              "       [1],\n",
              "       [0],\n",
              "       [0],\n",
              "       [0],\n",
              "       [0],\n",
              "       [0],\n",
              "       [0],\n",
              "       [0],\n",
              "       [1],\n",
              "       [0],\n",
              "       [0],\n",
              "       [0],\n",
              "       [0],\n",
              "       [0],\n",
              "       [1],\n",
              "       [0],\n",
              "       [1],\n",
              "       [1],\n",
              "       [0],\n",
              "       [0],\n",
              "       [1],\n",
              "       [1],\n",
              "       [1],\n",
              "       [0],\n",
              "       [0],\n",
              "       [0]])"
            ]
          },
          "metadata": {},
          "execution_count": 31
        }
      ]
    },
    {
      "cell_type": "code",
      "source": [
        "import matplotlib.pyplot as plt\n",
        "def plot_confusion_matrix(cm, classes,\n",
        "                          normalize=False,\n",
        "                          title='Confusion matrix',\n",
        "                          cmap=plt.cm.Blues):\n",
        "    \"\"\"\n",
        "    This function prints and plots the confusion matrix.\n",
        "    Normalization can be applied by setting `normalize=True`.\n",
        "    \"\"\"\n",
        "    plt.imshow(cm, interpolation='nearest', cmap=cmap)\n",
        "    plt.title(title)\n",
        "    plt.colorbar()\n",
        "    tick_marks = np.arange(len(classes))\n",
        "    plt.xticks(tick_marks, classes, rotation=45)\n",
        "    plt.yticks(tick_marks, classes)\n",
        "\n",
        "    if normalize:\n",
        "        cm = cm.astype('float') / cm.sum(axis=1)[:, np.newaxis]\n",
        "\n",
        "    thresh = cm.max() / 2.\n",
        "    for i, j in itertools.product(range(cm.shape[0]), range(cm.shape[1])):\n",
        "        plt.text(j, i, cm[i, j],\n",
        "                 horizontalalignment=\"center\",\n",
        "                 color=\"white\" if cm[i, j] > thresh else \"black\")\n",
        "\n",
        "    plt.tight_layout()\n",
        "    plt.ylabel('Observación')\n",
        "    plt.xlabel('Predicción')"
      ],
      "metadata": {
        "id": "JgxPjJaJdeuD"
      },
      "execution_count": 32,
      "outputs": []
    },
    {
      "cell_type": "code",
      "source": [
        "from collections import Counter\n",
        "from sklearn.metrics import confusion_matrix\n",
        "import itertools\n",
        "import numpy as np\n",
        "from keras.utils.np_utils import to_categorical"
      ],
      "metadata": {
        "id": "DDIcIaeFdsPF"
      },
      "execution_count": 33,
      "outputs": []
    },
    {
      "cell_type": "code",
      "source": [
        "\n",
        "ytrue = test_labels.tolist()\n",
        "\n",
        "confusion_mtx = confusion_matrix(ytrue, clasificacion) \n",
        "plot_confusion_matrix(confusion_mtx, classes = range(2))"
      ],
      "metadata": {
        "colab": {
          "base_uri": "https://localhost:8080/",
          "height": 311
        },
        "id": "sMMYPBmZdvKw",
        "outputId": "42618ac7-b472-4a68-c266-298aa44a1209"
      },
      "execution_count": 34,
      "outputs": [
        {
          "output_type": "display_data",
          "data": {
            "text/plain": [
              "<Figure size 432x288 with 2 Axes>"
            ],
            "image/png": "[encoded data removed]"
          },
          "metadata": {
            "needs_background": "light"
          }
        }
      ]
    },
    {
      "cell_type": "markdown",
      "source": [
        "### **ADAGRAD**"
      ],
      "metadata": {
        "id": "xkAIu-_qeE3G"
      }
    },
    {
      "cell_type": "code",
      "source": [
        "modelADA = models.Sequential()\n",
        "modelADA.add(layers.Dense(16, activation='relu', input_shape=(30,)))\n",
        "modelADA.add(layers.Dense(16, activation='relu'))\n",
        "modelADA.add(layers.Dense(1, activation='sigmoid'))"
      ],
      "metadata": {
        "id": "glXk6GioeGQh"
      },
      "execution_count": 35,
      "outputs": []
    },
    {
      "cell_type": "code",
      "source": [
        "modelADA.compile(optimizer='adagrad',\n",
        "              loss='binary_crossentropy',\n",
        "              metrics=['accuracy'])"
      ],
      "metadata": {
        "id": "O0-0p2ZYeLUx"
      },
      "execution_count": 36,
      "outputs": []
    },
    {
      "cell_type": "markdown",
      "source": [
        "VALIDACIÓN"
      ],
      "metadata": {
        "id": "ju4M0_jJ4mV9"
      }
    },
    {
      "cell_type": "code",
      "source": [
        "import numpy as np\n",
        "\n",
        "k = 3\n",
        "num_val_samples = len(train_data) // k\n",
        "print(\"num_val_samples\", num_val_samples)\n",
        "num_epochs = 100\n",
        "all_acc = []\n",
        "all_loss = []\n",
        "for i in range(k):\n",
        "    print('processing fold #', i)\n",
        "    # Preparamos la validación de los datos: datos de la partición #k\n",
        "    val_data = train_data[i * num_val_samples: (i + 1) * num_val_samples]\n",
        "    val_labels = train_labels[i * num_val_samples: (i + 1) * num_val_samples]\n",
        "\n",
        "    # Preparamos los datos de entrenamiento: Datos de las demás particiones\n",
        "    partial_train_data = np.concatenate(\n",
        "        [train_data[:i * num_val_samples],\n",
        "         train_data[(i + 1) * num_val_samples:]],\n",
        "        axis=0)\n",
        "    partial_train_labels = np.concatenate(\n",
        "        [train_labels[:i * num_val_samples],\n",
        "         train_labels[(i + 1) * num_val_samples:]],\n",
        "        axis=0)\n",
        "\n",
        "    # Construcción del modelo Keras (ya compilado)\n",
        "    model = modelADA\n",
        "    # Entrenando el modelo (en modo silencioso, verbose=0)\n",
        "    model.fit(partial_train_data, partial_train_labels,\n",
        "              epochs=num_epochs, batch_size=1, verbose=0)\n",
        "    # Evalua el modelo sobre los datos de validación\n",
        "    loss, acc = model.evaluate(val_data, val_labels, verbose=0)\n",
        "    all_acc.append(acc)\n",
        "    all_loss.append(loss)"
      ],
      "metadata": {
        "colab": {
          "base_uri": "https://localhost:8080/"
        },
        "id": "k9CTBvF_ekL3",
        "outputId": "ed460d24-599e-46ac-9750-c4f77d000c7f"
      },
      "execution_count": 37,
      "outputs": [
        {
          "output_type": "stream",
          "name": "stdout",
          "text": [
            "num_val_samples 80\n",
            "processing fold # 0\n",
            "processing fold # 1\n",
            "processing fold # 2\n"
          ]
        }
      ]
    },
    {
      "cell_type": "code",
      "source": [
        "print(np.mean(all_acc))\n",
        "print(np.mean(all_loss))"
      ],
      "metadata": {
        "colab": {
          "base_uri": "https://localhost:8080/"
        },
        "id": "a4hcF3FCfDEN",
        "outputId": "0716bb22-5f22-4ba9-8425-126e199aafc6"
      },
      "execution_count": 38,
      "outputs": [
        {
          "output_type": "stream",
          "name": "stdout",
          "text": [
            "0.825000007947286\n",
            "0.42135245601336163\n"
          ]
        }
      ]
    },
    {
      "cell_type": "code",
      "source": [
        "# Lo entrenamos en todos los datos.\n",
        "test_lossADA, test_accADA = model.evaluate(test_data, test_labels)"
      ],
      "metadata": {
        "colab": {
          "base_uri": "https://localhost:8080/"
        },
        "id": "cHBacN0hfRV5",
        "outputId": "9624db50-de7b-4c7a-8332-89f7c0a38262"
      },
      "execution_count": 39,
      "outputs": [
        {
          "output_type": "stream",
          "name": "stdout",
          "text": [
            "2/2 [==============================] - 0s 7ms/step - loss: 0.4344 - accuracy: 0.7869\n"
          ]
        }
      ]
    },
    {
      "cell_type": "code",
      "source": [
        "resultsADA = [test_lossADA, test_accADA]\n",
        "\n",
        "resultsADA"
      ],
      "metadata": {
        "id": "8foQox7f7lHP",
        "outputId": "497e8e79-6132-4d35-e6c4-37791b502dce",
        "colab": {
          "base_uri": "https://localhost:8080/"
        }
      },
      "execution_count": 40,
      "outputs": [
        {
          "output_type": "execute_result",
          "data": {
            "text/plain": [
              "[0.43435564637184143, 0.7868852615356445]"
            ]
          },
          "metadata": {},
          "execution_count": 40
        }
      ]
    },
    {
      "cell_type": "code",
      "source": [
        "prediccionesADA = modelADA.predict(test_data)\n",
        "print(prediccionesADA)\n",
        "\n",
        "# Clasificación predicha\n",
        "# ==============================================================================\n",
        "clasificacionADA = np.where(prediccionesADA<0.5, 0, 1)\n",
        "clasificacionADA"
      ],
      "metadata": {
        "colab": {
          "base_uri": "https://localhost:8080/"
        },
        "id": "Ea-JJMsPfqur",
        "outputId": "9c930781-d154-4b35-c009-ab1ed9876e3f"
      },
      "execution_count": 41,
      "outputs": [
        {
          "output_type": "stream",
          "name": "stdout",
          "text": [
            "[[0.70607626]\n",
            " [0.85291225]\n",
            " [0.4204591 ]\n",
            " [0.64316195]\n",
            " [0.6472257 ]\n",
            " [0.5383996 ]\n",
            " [0.9020971 ]\n",
            " [0.82931256]\n",
            " [0.8477003 ]\n",
            " [0.86838746]\n",
            " [0.17064667]\n",
            " [0.90004224]\n",
            " [0.87493324]\n",
            " [0.8845822 ]\n",
            " [0.8986469 ]\n",
            " [0.6506403 ]\n",
            " [0.9313089 ]\n",
            " [0.39165005]\n",
            " [0.72408694]\n",
            " [0.6643916 ]\n",
            " [0.85519475]\n",
            " [0.49895138]\n",
            " [0.91361564]\n",
            " [0.42077732]\n",
            " [0.10459804]\n",
            " [0.8208564 ]\n",
            " [0.8916606 ]\n",
            " [0.8684747 ]\n",
            " [0.8728505 ]\n",
            " [0.24973272]\n",
            " [0.90704924]\n",
            " [0.10164364]\n",
            " [0.13030118]\n",
            " [0.5600154 ]\n",
            " [0.03265673]\n",
            " [0.8649014 ]\n",
            " [0.17388757]\n",
            " [0.7975692 ]\n",
            " [0.08693695]\n",
            " [0.09437815]\n",
            " [0.02274353]\n",
            " [0.07890173]\n",
            " [0.18546087]\n",
            " [0.31062403]\n",
            " [0.00813809]\n",
            " [0.23051785]\n",
            " [0.13939197]\n",
            " [0.04171508]\n",
            " [0.05035621]\n",
            " [0.4037324 ]\n",
            " [0.11371884]\n",
            " [0.3324419 ]\n",
            " [0.78031445]\n",
            " [0.19340742]\n",
            " [0.35952166]\n",
            " [0.6237037 ]\n",
            " [0.78804743]\n",
            " [0.25408083]\n",
            " [0.04042157]\n",
            " [0.06091703]\n",
            " [0.06009457]]\n"
          ]
        },
        {
          "output_type": "execute_result",
          "data": {
            "text/plain": [
              "array([[1],\n",
              "       [1],\n",
              "       [0],\n",
              "       [1],\n",
              "       [1],\n",
              "       [1],\n",
              "       [1],\n",
              "       [1],\n",
              "       [1],\n",
              "       [1],\n",
              "       [0],\n",
              "       [1],\n",
              "       [1],\n",
              "       [1],\n",
              "       [1],\n",
              "       [1],\n",
              "       [1],\n",
              "       [0],\n",
              "       [1],\n",
              "       [1],\n",
              "       [1],\n",
              "       [0],\n",
              "       [1],\n",
              "       [0],\n",
              "       [0],\n",
              "       [1],\n",
              "       [1],\n",
              "       [1],\n",
              "       [1],\n",
              "       [0],\n",
              "       [1],\n",
              "       [0],\n",
              "       [0],\n",
              "       [1],\n",
              "       [0],\n",
              "       [1],\n",
              "       [0],\n",
              "       [1],\n",
              "       [0],\n",
              "       [0],\n",
              "       [0],\n",
              "       [0],\n",
              "       [0],\n",
              "       [0],\n",
              "       [0],\n",
              "       [0],\n",
              "       [0],\n",
              "       [0],\n",
              "       [0],\n",
              "       [0],\n",
              "       [0],\n",
              "       [0],\n",
              "       [1],\n",
              "       [0],\n",
              "       [0],\n",
              "       [1],\n",
              "       [1],\n",
              "       [0],\n",
              "       [0],\n",
              "       [0],\n",
              "       [0]])"
            ]
          },
          "metadata": {},
          "execution_count": 41
        }
      ]
    },
    {
      "cell_type": "code",
      "source": [
        "print('predicción = ',  prediccionesADA[2])\n",
        "print('clasificación = ', clasificacionADA[2])"
      ],
      "metadata": {
        "id": "W92TNA5JYpsf",
        "outputId": "ec6d4003-9d96-4c0a-86bc-2ef7176181cc",
        "colab": {
          "base_uri": "https://localhost:8080/"
        }
      },
      "execution_count": 44,
      "outputs": [
        {
          "output_type": "stream",
          "name": "stdout",
          "text": [
            "predicción =  [0.4204591]\n",
            "clasificación =  [0]\n"
          ]
        }
      ]
    },
    {
      "cell_type": "code",
      "source": [
        "ytrue = test_labels.tolist()\n",
        "\n",
        "confusion_mtxADA = confusion_matrix(ytrue, clasificacionADA) \n",
        "plot_confusion_matrix(confusion_mtxADA, classes = range(2))"
      ],
      "metadata": {
        "colab": {
          "base_uri": "https://localhost:8080/",
          "height": 311
        },
        "id": "p4MvN1TGf8ay",
        "outputId": "50482ead-9a79-4464-b4f7-8553fade0477"
      },
      "execution_count": 45,
      "outputs": [
        {
          "output_type": "display_data",
          "data": {
            "text/plain": [
              "<Figure size 432x288 with 2 Axes>"
            ],
            "image/png": "[encoded data removed]"
          },
          "metadata": {
            "needs_background": "light"
          }
        }
      ]
    },
    {
      "cell_type": "markdown",
      "source": [
        "###**ADAM**"
      ],
      "metadata": {
        "id": "oCTnDsqHqOIk"
      }
    },
    {
      "cell_type": "code",
      "source": [
        "model3 = models.Sequential()\n",
        "# Entrada, un tensor con la crítica vectorizada (10000 valores)\n",
        "model3.add(layers.Dense(16, activation='relu', input_shape=(30,)))\n",
        "model3.add(layers.Dense(16, activation='relu'))\n",
        "model3.add(layers.Dense(1, activation='sigmoid'))"
      ],
      "metadata": {
        "id": "zrYOjSu7qOIl"
      },
      "execution_count": 46,
      "outputs": []
    },
    {
      "cell_type": "code",
      "source": [
        "model3.compile(optimizer='adam',\n",
        "              loss='binary_crossentropy',\n",
        "              metrics=['accuracy'])"
      ],
      "metadata": {
        "id": "_32CUVFZqOIl"
      },
      "execution_count": 47,
      "outputs": []
    },
    {
      "cell_type": "markdown",
      "source": [
        "VALIDACIÓN"
      ],
      "metadata": {
        "id": "7H8iBrHY5RGb"
      }
    },
    {
      "cell_type": "code",
      "source": [
        "import numpy as np\n",
        "\n",
        "k = 3\n",
        "num_val_samples = len(train_data) // k\n",
        "print(\"num_val_samples\", num_val_samples)\n",
        "num_epochs = 100\n",
        "all_acc = []\n",
        "all_loss = []\n",
        "for i in range(k):\n",
        "    print('processing fold #', i)\n",
        "    # Preparamos la validación de los datos: datos de la partición #k\n",
        "    val_data = train_data[i * num_val_samples: (i + 1) * num_val_samples]\n",
        "    val_labels = train_labels[i * num_val_samples: (i + 1) * num_val_samples]\n",
        "\n",
        "    # Preparamos los datos de entrenamiento: Datos de las demás particiones\n",
        "    partial_train_data = np.concatenate(\n",
        "        [train_data[:i * num_val_samples],\n",
        "         train_data[(i + 1) * num_val_samples:]],\n",
        "        axis=0)\n",
        "    partial_train_labels = np.concatenate(\n",
        "        [train_labels[:i * num_val_samples],\n",
        "         train_labels[(i + 1) * num_val_samples:]],\n",
        "        axis=0)\n",
        "\n",
        "    # Construcción del modelo Keras (ya compilado)\n",
        "    model = model3\n",
        "    # Entrenando el modelo (en modo silencioso, verbose=0)\n",
        "    model.fit(partial_train_data, partial_train_labels,\n",
        "              epochs=num_epochs, batch_size=1, verbose=0)\n",
        "    # Evalua el modelo sobre los datos de validación\n",
        "    loss, acc = model.evaluate(val_data, val_labels, verbose=0)\n",
        "    all_acc.append(acc)\n",
        "    all_loss.append(loss)"
      ],
      "metadata": {
        "colab": {
          "base_uri": "https://localhost:8080/"
        },
        "outputId": "ade294f8-cab8-4830-c72c-3d21bda58e34",
        "id": "pdIbdmMU5RGd"
      },
      "execution_count": 48,
      "outputs": [
        {
          "output_type": "stream",
          "name": "stdout",
          "text": [
            "num_val_samples 80\n",
            "processing fold # 0\n",
            "processing fold # 1\n",
            "processing fold # 2\n"
          ]
        }
      ]
    },
    {
      "cell_type": "code",
      "source": [
        "print(np.mean(all_acc))\n",
        "print(np.mean(all_loss))"
      ],
      "metadata": {
        "colab": {
          "base_uri": "https://localhost:8080/"
        },
        "outputId": "0a5399a8-2bd0-443f-d3a9-92e073ec616a",
        "id": "cuderExl5h8I"
      },
      "execution_count": 49,
      "outputs": [
        {
          "output_type": "stream",
          "name": "stdout",
          "text": [
            "0.8583333293596903\n",
            "0.8956284920374552\n"
          ]
        }
      ]
    },
    {
      "cell_type": "code",
      "source": [
        "# Lo entrenamos en todos los datos.\n",
        "test_lossADAM, test_accADAM = model.evaluate(test_data, test_labels)"
      ],
      "metadata": {
        "colab": {
          "base_uri": "https://localhost:8080/"
        },
        "outputId": "b8661a64-1814-42ee-8077-273cc26a3a77",
        "id": "x-ymKlYy5h8K"
      },
      "execution_count": 50,
      "outputs": [
        {
          "output_type": "stream",
          "name": "stdout",
          "text": [
            "2/2 [==============================] - 0s 7ms/step - loss: 2.9167 - accuracy: 0.7869\n"
          ]
        }
      ]
    },
    {
      "cell_type": "code",
      "source": [
        "resultsADAM = [test_lossADAM, test_accADAM]\n",
        "\n",
        "resultsADAM"
      ],
      "metadata": {
        "id": "JRrPraKL7wkt",
        "outputId": "622b9994-024a-422f-f33b-105d8385ca26",
        "colab": {
          "base_uri": "https://localhost:8080/"
        }
      },
      "execution_count": 51,
      "outputs": [
        {
          "output_type": "execute_result",
          "data": {
            "text/plain": [
              "[2.9166834354400635, 0.7868852615356445]"
            ]
          },
          "metadata": {},
          "execution_count": 51
        }
      ]
    },
    {
      "cell_type": "code",
      "source": [
        "prediccionesADAM = model3.predict(test_data)\n",
        "print(prediccionesADAM)\n",
        "\n",
        "# Clasificación predicha\n",
        "# ==============================================================================\n",
        "clasificacionADAM = np.where(prediccionesADAM<0.5, 0, 1)\n",
        "clasificacionADAM"
      ],
      "metadata": {
        "colab": {
          "base_uri": "https://localhost:8080/"
        },
        "outputId": "af7ea15c-81e4-4d90-d871-1c8032de96b9",
        "id": "AqjDmrJb5h8L"
      },
      "execution_count": 52,
      "outputs": [
        {
          "output_type": "stream",
          "name": "stdout",
          "text": [
            "[[9.99995589e-01]\n",
            " [1.00000000e+00]\n",
            " [5.82235989e-05]\n",
            " [9.99999881e-01]\n",
            " [1.00000000e+00]\n",
            " [9.97958302e-01]\n",
            " [1.00000000e+00]\n",
            " [1.00000000e+00]\n",
            " [9.99966264e-01]\n",
            " [9.99466240e-01]\n",
            " [6.81458179e-09]\n",
            " [9.99761760e-01]\n",
            " [1.00000000e+00]\n",
            " [6.05630815e-01]\n",
            " [1.00000000e+00]\n",
            " [8.25236738e-03]\n",
            " [1.00000000e+00]\n",
            " [9.95710015e-01]\n",
            " [1.00000000e+00]\n",
            " [9.99999881e-01]\n",
            " [1.00000000e+00]\n",
            " [7.09782362e-01]\n",
            " [1.00000000e+00]\n",
            " [4.54769731e-01]\n",
            " [8.70672115e-18]\n",
            " [9.99857783e-01]\n",
            " [1.00000000e+00]\n",
            " [1.00000000e+00]\n",
            " [9.99858618e-01]\n",
            " [3.86797998e-04]\n",
            " [1.00000000e+00]\n",
            " [3.32547941e-16]\n",
            " [5.24960392e-13]\n",
            " [1.21376224e-01]\n",
            " [1.18721140e-24]\n",
            " [2.22889101e-03]\n",
            " [3.41735053e-04]\n",
            " [5.11277497e-01]\n",
            " [1.00849578e-02]\n",
            " [6.47170991e-02]\n",
            " [1.77833576e-26]\n",
            " [3.18816740e-12]\n",
            " [1.22422632e-03]\n",
            " [9.96465921e-01]\n",
            " [2.72971836e-18]\n",
            " [1.22610754e-05]\n",
            " [4.53409914e-24]\n",
            " [8.20283640e-06]\n",
            " [2.30609458e-16]\n",
            " [1.00000000e+00]\n",
            " [1.76538786e-12]\n",
            " [9.92114961e-01]\n",
            " [9.99988556e-01]\n",
            " [1.02503764e-05]\n",
            " [1.72712386e-01]\n",
            " [9.99998331e-01]\n",
            " [1.00000000e+00]\n",
            " [8.50231601e-08]\n",
            " [2.14227805e-18]\n",
            " [2.93273484e-30]\n",
            " [1.26639369e-27]]\n"
          ]
        },
        {
          "output_type": "execute_result",
          "data": {
            "text/plain": [
              "array([[1],\n",
              "       [1],\n",
              "       [0],\n",
              "       [1],\n",
              "       [1],\n",
              "       [1],\n",
              "       [1],\n",
              "       [1],\n",
              "       [1],\n",
              "       [1],\n",
              "       [0],\n",
              "       [1],\n",
              "       [1],\n",
              "       [1],\n",
              "       [1],\n",
              "       [0],\n",
              "       [1],\n",
              "       [1],\n",
              "       [1],\n",
              "       [1],\n",
              "       [1],\n",
              "       [1],\n",
              "       [1],\n",
              "       [0],\n",
              "       [0],\n",
              "       [1],\n",
              "       [1],\n",
              "       [1],\n",
              "       [1],\n",
              "       [0],\n",
              "       [1],\n",
              "       [0],\n",
              "       [0],\n",
              "       [0],\n",
              "       [0],\n",
              "       [0],\n",
              "       [0],\n",
              "       [1],\n",
              "       [0],\n",
              "       [0],\n",
              "       [0],\n",
              "       [0],\n",
              "       [0],\n",
              "       [1],\n",
              "       [0],\n",
              "       [0],\n",
              "       [0],\n",
              "       [0],\n",
              "       [0],\n",
              "       [1],\n",
              "       [0],\n",
              "       [1],\n",
              "       [1],\n",
              "       [0],\n",
              "       [0],\n",
              "       [1],\n",
              "       [1],\n",
              "       [0],\n",
              "       [0],\n",
              "       [0],\n",
              "       [0]])"
            ]
          },
          "metadata": {},
          "execution_count": 52
        }
      ]
    },
    {
      "cell_type": "code",
      "source": [
        "ytrue = test_labels.tolist()\n",
        "\n",
        "confusion_mtxADAM = confusion_matrix(ytrue, clasificacionADA) \n",
        "plot_confusion_matrix(confusion_mtxADAM, classes = range(2))"
      ],
      "metadata": {
        "colab": {
          "base_uri": "https://localhost:8080/",
          "height": 311
        },
        "outputId": "90ebffc3-267e-47b8-9ff6-373c1b026066",
        "id": "Kcp49NUL5wh3"
      },
      "execution_count": 53,
      "outputs": [
        {
          "output_type": "display_data",
          "data": {
            "text/plain": [
              "<Figure size 432x288 with 2 Axes>"
            ],
            "image/png": "[encoded data removed]"
          },
          "metadata": {
            "needs_background": "light"
          }
        }
      ]
    },
    {
      "cell_type": "markdown",
      "source": [
        "## **COMPARACIÓN**"
      ],
      "metadata": {
        "id": "O9mwz84c6Jff"
      }
    },
    {
      "cell_type": "code",
      "source": [
        "numero = len(resultsRP)\n",
        "indice_barras = np.arange(numero)\n",
        "#indice_barras"
      ],
      "metadata": {
        "id": "peHwdKgDFJDM"
      },
      "execution_count": 54,
      "outputs": []
    },
    {
      "cell_type": "code",
      "source": [
        "x = ['loss', 'acc']\n",
        "res = [resultsRP, resultsADA, resultsADAM]\n",
        "plt.bar(indice_barras, resultsRP, width = 0.2, label = 'Rmsprop', color = 'skyblue')\n",
        "plt.bar(indice_barras + 0.2, resultsADA, width = 0.2, label = 'Adagrad', color = 'c')\n",
        "plt.bar(indice_barras + 0.4, resultsADAM, width = 0.2, label = 'Adam', color = 'b')\n",
        "\n",
        "plt.xticks(indice_barras + 0.2, ('loss', 'acc'))\n",
        "plt.legend(loc='best')\n",
        "plt.title('Resultados')\n",
        "plt.show()"
      ],
      "metadata": {
        "colab": {
          "base_uri": "https://localhost:8080/",
          "height": 281
        },
        "id": "_dqjl0HHBVjO",
        "outputId": "7365a7b6-e3a6-4665-9574-3c2f99e2c8d0"
      },
      "execution_count": 55,
      "outputs": [
        {
          "output_type": "display_data",
          "data": {
            "text/plain": [
              "<Figure size 432x288 with 1 Axes>"
            ],
            "image/png": "[encoded data removed]"
          },
          "metadata": {
            "needs_background": "light"
          }
        }
      ]
    }
  ]
}